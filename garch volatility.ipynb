{
 "cells": [
  {
   "cell_type": "code",
   "execution_count": 2,
   "metadata": {},
   "outputs": [],
   "source": [
    "import numpy as np\n",
    "import pandas as pd\n",
    "import scipy\n",
    "from scipy.stats import norm\n",
    "from scipy import stats\n",
    "from statsmodels.tsa.arima.model import ARIMA\n",
    "from statsmodels.tsa.api import ExponentialSmoothing, SimpleExpSmoothing, Holt\n",
    "import matplotlib.pyplot as plt\n",
    "import statsmodels.api as sm\n",
    "from arch import arch_model"
   ]
  },
  {
   "cell_type": "code",
   "execution_count": 5,
   "metadata": {},
   "outputs": [
    {
     "data": {
      "text/html": [
       "<div>\n",
       "<style scoped>\n",
       "    .dataframe tbody tr th:only-of-type {\n",
       "        vertical-align: middle;\n",
       "    }\n",
       "\n",
       "    .dataframe tbody tr th {\n",
       "        vertical-align: top;\n",
       "    }\n",
       "\n",
       "    .dataframe thead th {\n",
       "        text-align: right;\n",
       "    }\n",
       "</style>\n",
       "<table border=\"1\" class=\"dataframe\">\n",
       "  <thead>\n",
       "    <tr style=\"text-align: right;\">\n",
       "      <th></th>\n",
       "      <th>observation_date</th>\n",
       "      <th>SP500</th>\n",
       "    </tr>\n",
       "  </thead>\n",
       "  <tbody>\n",
       "    <tr>\n",
       "      <th>0</th>\n",
       "      <td>2015-10-01</td>\n",
       "      <td>1923.82</td>\n",
       "    </tr>\n",
       "    <tr>\n",
       "      <th>1</th>\n",
       "      <td>2015-10-02</td>\n",
       "      <td>1951.36</td>\n",
       "    </tr>\n",
       "    <tr>\n",
       "      <th>2</th>\n",
       "      <td>2015-10-05</td>\n",
       "      <td>1987.05</td>\n",
       "    </tr>\n",
       "    <tr>\n",
       "      <th>3</th>\n",
       "      <td>2015-10-06</td>\n",
       "      <td>1979.92</td>\n",
       "    </tr>\n",
       "    <tr>\n",
       "      <th>4</th>\n",
       "      <td>2015-10-07</td>\n",
       "      <td>1995.83</td>\n",
       "    </tr>\n",
       "  </tbody>\n",
       "</table>\n",
       "</div>"
      ],
      "text/plain": [
       "  observation_date    SP500\n",
       "0       2015-10-01  1923.82\n",
       "1       2015-10-02  1951.36\n",
       "2       2015-10-05  1987.05\n",
       "3       2015-10-06  1979.92\n",
       "4       2015-10-07  1995.83"
      ]
     },
     "execution_count": 5,
     "metadata": {},
     "output_type": "execute_result"
    }
   ],
   "source": [
    "data = pd.read_excel('C:/Users/michelj8/Documents/Github/data_sets/sp500_fred.xlsx', sheet_name = 'data')\n",
    "data = data.query('observation_date < 2017 & observation_date > 1959')\n",
    "# data = data.dropna().reset_index()\n",
    "column_name = data.columns[-1]\n",
    "data.head()"
   ]
  },
  {
   "cell_type": "code",
   "execution_count": 6,
   "metadata": {},
   "outputs": [
    {
     "data": {
      "text/html": [
       "<div>\n",
       "<style scoped>\n",
       "    .dataframe tbody tr th:only-of-type {\n",
       "        vertical-align: middle;\n",
       "    }\n",
       "\n",
       "    .dataframe tbody tr th {\n",
       "        vertical-align: top;\n",
       "    }\n",
       "\n",
       "    .dataframe thead th {\n",
       "        text-align: right;\n",
       "    }\n",
       "</style>\n",
       "<table border=\"1\" class=\"dataframe\">\n",
       "  <thead>\n",
       "    <tr style=\"text-align: right;\">\n",
       "      <th></th>\n",
       "      <th>observation_date</th>\n",
       "      <th>SP500</th>\n",
       "    </tr>\n",
       "  </thead>\n",
       "  <tbody>\n",
       "    <tr>\n",
       "      <th>322</th>\n",
       "      <td>2016-12-26</td>\n",
       "      <td>NaN</td>\n",
       "    </tr>\n",
       "    <tr>\n",
       "      <th>323</th>\n",
       "      <td>2016-12-27</td>\n",
       "      <td>2268.88</td>\n",
       "    </tr>\n",
       "    <tr>\n",
       "      <th>324</th>\n",
       "      <td>2016-12-28</td>\n",
       "      <td>2249.92</td>\n",
       "    </tr>\n",
       "    <tr>\n",
       "      <th>325</th>\n",
       "      <td>2016-12-29</td>\n",
       "      <td>2249.26</td>\n",
       "    </tr>\n",
       "    <tr>\n",
       "      <th>326</th>\n",
       "      <td>2016-12-30</td>\n",
       "      <td>2238.83</td>\n",
       "    </tr>\n",
       "  </tbody>\n",
       "</table>\n",
       "</div>"
      ],
      "text/plain": [
       "    observation_date    SP500\n",
       "322       2016-12-26      NaN\n",
       "323       2016-12-27  2268.88\n",
       "324       2016-12-28  2249.92\n",
       "325       2016-12-29  2249.26\n",
       "326       2016-12-30  2238.83"
      ]
     },
     "execution_count": 6,
     "metadata": {},
     "output_type": "execute_result"
    }
   ],
   "source": [
    "data.tail()"
   ]
  },
  {
   "cell_type": "code",
   "execution_count": 7,
   "metadata": {},
   "outputs": [
    {
     "data": {
      "image/png": "[encoded data removed]",
      "text/plain": [
       "<Figure size 432x288 with 1 Axes>"
      ]
     },
     "metadata": {
      "needs_background": "light"
     },
     "output_type": "display_data"
    }
   ],
   "source": [
    "ts = data\n",
    "ts['target'] = 100* ts[column_name].pct_change(1)\n",
    "ts['target'].plot()\n",
    "ts = ts.dropna()"
   ]
  },
  {
   "cell_type": "markdown",
   "metadata": {},
   "source": [
    "# GARCH(1,1)"
   ]
  },
  {
   "cell_type": "code",
   "execution_count": 8,
   "metadata": {},
   "outputs": [
    {
     "name": "stdout",
     "output_type": "stream",
     "text": [
      "                     Constant Mean - GARCH Model Results                      \n",
      "==============================================================================\n",
      "Dep. Variable:                 target   R-squared:                      -0.000\n",
      "Mean Model:             Constant Mean   Adj. R-squared:                 -0.000\n",
      "Vol Model:                      GARCH   Log-Likelihood:               -370.572\n",
      "Distribution:                  Normal   AIC:                           749.144\n",
      "Method:            Maximum Likelihood   BIC:                           764.154\n",
      "                                        No. Observations:                  315\n",
      "Date:                Tue, Oct 20 2020   Df Residuals:                      311\n",
      "Time:                        14:55:15   Df Model:                            4\n",
      "                                 Mean Model                                \n",
      "===========================================================================\n",
      "                 coef    std err          t      P>|t|     95.0% Conf. Int.\n",
      "---------------------------------------------------------------------------\n",
      "mu             0.0626  4.080e-02      1.535      0.125 [-1.734e-02,  0.143]\n",
      "                              Volatility Model                             \n",
      "===========================================================================\n",
      "                 coef    std err          t      P>|t|     95.0% Conf. Int.\n",
      "---------------------------------------------------------------------------\n",
      "omega          0.0900  5.160e-02      1.743  8.129e-02 [-1.118e-02,  0.191]\n",
      "alpha[1]       0.2291      0.110      2.090  3.665e-02  [1.422e-02,  0.444]\n",
      "beta[1]        0.6527      0.123      5.319  1.045e-07    [  0.412,  0.893]\n",
      "===========================================================================\n",
      "\n",
      "Covariance estimator: robust\n"
     ]
    },
    {
     "name": "stderr",
     "output_type": "stream",
     "text": [
      "<ipython-input-8-a7ae82b5de36>:2: SettingWithCopyWarning: \n",
      "A value is trying to be set on a copy of a slice from a DataFrame.\n",
      "Try using .loc[row_indexer,col_indexer] = value instead\n",
      "\n",
      "See the caveats in the documentation: https://pandas.pydata.org/pandas-docs/stable/user_guide/indexing.html#returning-a-view-versus-a-copy\n",
      "  ts['garch'] = garch_fit.conditional_volatility\n"
     ]
    }
   ],
   "source": [
    "garch_fit = arch_model(ts['target']).fit(disp = 'off')\n",
    "ts['garch'] = garch_fit.conditional_volatility\n",
    "print(garch_fit)"
   ]
  },
  {
   "cell_type": "markdown",
   "metadata": {},
   "source": [
    "# GJR"
   ]
  },
  {
   "cell_type": "code",
   "execution_count": 9,
   "metadata": {},
   "outputs": [
    {
     "name": "stdout",
     "output_type": "stream",
     "text": [
      "                   Constant Mean - GJR-GARCH Model Results                    \n",
      "==============================================================================\n",
      "Dep. Variable:                 target   R-squared:                      -0.000\n",
      "Mean Model:             Constant Mean   Adj. R-squared:                 -0.000\n",
      "Vol Model:                  GJR-GARCH   Log-Likelihood:               -368.129\n",
      "Distribution:                  Normal   AIC:                           746.258\n",
      "Method:            Maximum Likelihood   BIC:                           765.020\n",
      "                                        No. Observations:                  315\n",
      "Date:                Tue, Oct 20 2020   Df Residuals:                      310\n",
      "Time:                        14:55:17   Df Model:                            5\n",
      "                                 Mean Model                                \n",
      "===========================================================================\n",
      "                 coef    std err          t      P>|t|     95.0% Conf. Int.\n",
      "---------------------------------------------------------------------------\n",
      "mu             0.0367  3.852e-02      0.952      0.341 [-3.881e-02,  0.112]\n",
      "                              Volatility Model                             \n",
      "===========================================================================\n",
      "                 coef    std err          t      P>|t|     95.0% Conf. Int.\n",
      "---------------------------------------------------------------------------\n",
      "omega          0.0863  5.561e-02      1.552      0.121 [-2.267e-02,  0.195]\n",
      "alpha[1]       0.1033      0.211      0.489      0.625    [ -0.311,  0.518]\n",
      "gamma[1]       0.2431      0.120      2.033  4.201e-02  [8.780e-03,  0.477]\n",
      "beta[1]        0.6689      0.197      3.399  6.762e-04    [  0.283,  1.055]\n",
      "===========================================================================\n",
      "\n",
      "Covariance estimator: robust\n"
     ]
    },
    {
     "name": "stderr",
     "output_type": "stream",
     "text": [
      "<ipython-input-9-f6251a7b5b4b>:2: SettingWithCopyWarning: \n",
      "A value is trying to be set on a copy of a slice from a DataFrame.\n",
      "Try using .loc[row_indexer,col_indexer] = value instead\n",
      "\n",
      "See the caveats in the documentation: https://pandas.pydata.org/pandas-docs/stable/user_guide/indexing.html#returning-a-view-versus-a-copy\n",
      "  ts['gjr'] = gjr_fit.conditional_volatility\n"
     ]
    }
   ],
   "source": [
    "gjr_fit = arch_model(ts['target'], p=1, o=1, q=1).fit(disp = 'off')\n",
    "ts['gjr'] = gjr_fit.conditional_volatility\n",
    "print(gjr_fit)"
   ]
  },
  {
   "cell_type": "markdown",
   "metadata": {},
   "source": [
    "# GARCH(1,1) with student t"
   ]
  },
  {
   "cell_type": "code",
   "execution_count": 10,
   "metadata": {},
   "outputs": [
    {
     "name": "stdout",
     "output_type": "stream",
     "text": [
      "Iteration:      5,   Func. Count:     38,   Neg. LLF: 512.8468959308773\n",
      "Iteration:     10,   Func. Count:     70,   Neg. LLF: 359.67680507964974\n",
      "Optimization terminated successfully    (Exit mode 0)\n",
      "            Current function value: 359.67680507964974\n",
      "            Iterations: 11\n",
      "            Function evaluations: 75\n",
      "            Gradient evaluations: 11\n",
      "                        Constant Mean - GARCH Model Results                         \n",
      "====================================================================================\n",
      "Dep. Variable:                       target   R-squared:                      -0.000\n",
      "Mean Model:                   Constant Mean   Adj. R-squared:                 -0.000\n",
      "Vol Model:                            GARCH   Log-Likelihood:               -359.677\n",
      "Distribution:      Standardized Student's t   AIC:                           729.354\n",
      "Method:                  Maximum Likelihood   BIC:                           748.116\n",
      "                                              No. Observations:                  315\n",
      "Date:                      Tue, Oct 20 2020   Df Residuals:                      310\n",
      "Time:                              14:55:19   Df Model:                            5\n",
      "                                 Mean Model                                \n",
      "===========================================================================\n",
      "                 coef    std err          t      P>|t|     95.0% Conf. Int.\n",
      "---------------------------------------------------------------------------\n",
      "mu             0.0508  3.558e-02      1.428      0.153 [-1.891e-02,  0.121]\n",
      "                               Volatility Model                              \n",
      "=============================================================================\n",
      "                 coef    std err          t      P>|t|       95.0% Conf. Int.\n",
      "-----------------------------------------------------------------------------\n",
      "omega          0.0422  2.573e-02      1.639      0.101 [-8.254e-03,9.259e-02]\n",
      "alpha[1]       0.2151  7.579e-02      2.838  4.544e-03    [6.652e-02,  0.364]\n",
      "beta[1]        0.7460  7.392e-02     10.092  6.011e-24      [  0.601,  0.891]\n",
      "                              Distribution                              \n",
      "========================================================================\n",
      "                 coef    std err          t      P>|t|  95.0% Conf. Int.\n",
      "------------------------------------------------------------------------\n",
      "nu             5.4709      1.760      3.108  1.884e-03 [  2.021,  8.921]\n",
      "========================================================================\n",
      "\n",
      "Covariance estimator: robust\n"
     ]
    },
    {
     "name": "stderr",
     "output_type": "stream",
     "text": [
      "<ipython-input-10-8b989174ec1d>:2: SettingWithCopyWarning: \n",
      "A value is trying to be set on a copy of a slice from a DataFrame.\n",
      "Try using .loc[row_indexer,col_indexer] = value instead\n",
      "\n",
      "See the caveats in the documentation: https://pandas.pydata.org/pandas-docs/stable/user_guide/indexing.html#returning-a-view-versus-a-copy\n",
      "  ts['t_garch'] = t_garch_fit.conditional_volatility\n"
     ]
    }
   ],
   "source": [
    "t_garch_fit = arch_model(ts['target'], dist='StudentsT').fit(update_freq=5)\n",
    "ts['t_garch'] = t_garch_fit.conditional_volatility\n",
    "print(t_garch_fit)"
   ]
  },
  {
   "cell_type": "code",
   "execution_count": 25,
   "metadata": {},
   "outputs": [
    {
     "data": {
      "text/plain": [
       "Text(0.5, 1.0, 'Fitted Volatiltiy')"
      ]
     },
     "execution_count": 25,
     "metadata": {},
     "output_type": "execute_result"
    },
    {
     "data": {
      "image/png": "[encoded data removed]",
      "text/plain": [
       "<Figure size 576x288 with 1 Axes>"
      ]
     },
     "metadata": {
      "needs_background": "light"
     },
     "output_type": "display_data"
    }
   ],
   "source": [
    "fig, ax = plt.subplots(figsize = (8,4))\n",
    "ts.set_index('observation_date')[['garch','gjr','t_garch']].plot(ax = ax)\n",
    "\n",
    "ax.legend(['GARCH','GJR','t-GARCH'])\n",
    "ax.set_title('Fitted Volatiltiy')"
   ]
  },
  {
   "cell_type": "code",
   "execution_count": 12,
   "metadata": {},
   "outputs": [
    {
     "data": {
      "text/html": [
       "<div>\n",
       "<style scoped>\n",
       "    .dataframe tbody tr th:only-of-type {\n",
       "        vertical-align: middle;\n",
       "    }\n",
       "\n",
       "    .dataframe tbody tr th {\n",
       "        vertical-align: top;\n",
       "    }\n",
       "\n",
       "    .dataframe thead th {\n",
       "        text-align: right;\n",
       "    }\n",
       "</style>\n",
       "<table border=\"1\" class=\"dataframe\">\n",
       "  <thead>\n",
       "    <tr style=\"text-align: right;\">\n",
       "      <th></th>\n",
       "      <th>observation_date</th>\n",
       "      <th>SP500</th>\n",
       "      <th>target</th>\n",
       "      <th>garch</th>\n",
       "      <th>gjr</th>\n",
       "      <th>t_garch</th>\n",
       "    </tr>\n",
       "  </thead>\n",
       "  <tbody>\n",
       "    <tr>\n",
       "      <th>1</th>\n",
       "      <td>2015-10-02</td>\n",
       "      <td>1951.36</td>\n",
       "      <td>1.431527</td>\n",
       "      <td>0.908526</td>\n",
       "      <td>0.911999</td>\n",
       "      <td>0.918543</td>\n",
       "    </tr>\n",
       "    <tr>\n",
       "      <th>2</th>\n",
       "      <td>2015-10-05</td>\n",
       "      <td>1987.05</td>\n",
       "      <td>1.828981</td>\n",
       "      <td>1.028621</td>\n",
       "      <td>0.918508</td>\n",
       "      <td>1.039983</td>\n",
       "    </tr>\n",
       "    <tr>\n",
       "      <th>3</th>\n",
       "      <td>2015-10-06</td>\n",
       "      <td>1979.92</td>\n",
       "      <td>-0.358823</td>\n",
       "      <td>1.222878</td>\n",
       "      <td>0.991208</td>\n",
       "      <td>1.236533</td>\n",
       "    </tr>\n",
       "    <tr>\n",
       "      <th>4</th>\n",
       "      <td>2015-10-07</td>\n",
       "      <td>1995.83</td>\n",
       "      <td>0.803568</td>\n",
       "      <td>1.051993</td>\n",
       "      <td>0.893130</td>\n",
       "      <td>1.104029</td>\n",
       "    </tr>\n",
       "    <tr>\n",
       "      <th>5</th>\n",
       "      <td>2015-10-08</td>\n",
       "      <td>2013.43</td>\n",
       "      <td>0.881839</td>\n",
       "      <td>0.968533</td>\n",
       "      <td>0.825005</td>\n",
       "      <td>1.036000</td>\n",
       "    </tr>\n",
       "  </tbody>\n",
       "</table>\n",
       "</div>"
      ],
      "text/plain": [
       "  observation_date    SP500    target     garch       gjr   t_garch\n",
       "1       2015-10-02  1951.36  1.431527  0.908526  0.911999  0.918543\n",
       "2       2015-10-05  1987.05  1.828981  1.028621  0.918508  1.039983\n",
       "3       2015-10-06  1979.92 -0.358823  1.222878  0.991208  1.236533\n",
       "4       2015-10-07  1995.83  0.803568  1.051993  0.893130  1.104029\n",
       "5       2015-10-08  2013.43  0.881839  0.968533  0.825005  1.036000"
      ]
     },
     "execution_count": 12,
     "metadata": {},
     "output_type": "execute_result"
    }
   ],
   "source": [
    "ts.head()"
   ]
  },
  {
   "cell_type": "markdown",
   "metadata": {},
   "source": [
    "# Analysis of models"
   ]
  },
  {
   "cell_type": "markdown",
   "metadata": {},
   "source": [
    "# PITS"
   ]
  },
  {
   "cell_type": "code",
   "execution_count": 13,
   "metadata": {},
   "outputs": [
    {
     "name": "stdout",
     "output_type": "stream",
     "text": [
      "KstestResult(statistic=0.05558601108169137, pvalue=0.27443455883141255)\n",
      "KstestResult(statistic=0.059017875298010725, pvalue=0.2139648065705847)\n",
      "KstestResult(statistic=0.056956394388302994, pvalue=0.2489432322083146)\n"
     ]
    }
   ],
   "source": [
    "garch_pits = []\n",
    "gjr_pits = []\n",
    "t_garch_pits = []\n",
    "\n",
    "garch_mean = garch_fit.params[0]    \n",
    "gjr_mean = gjr_fit.params[0]\n",
    "t_garch_mean = t_garch_fit.params[0]    \n",
    "t_garch_dist = t_garch_fit.params[4]\n",
    "\n",
    "\n",
    "for time in ts.index:\n",
    "    actual = ts.loc[time,'target']\n",
    "    \n",
    "    garch_vol =  ts.loc[time,'garch']\n",
    "    gjr_vol = ts.loc[time,'gjr']\n",
    "    t_garch_vol = ts.loc[time,'t_garch']\n",
    "\n",
    "    garch_pits.append( scipy.stats.norm.cdf(actual, loc=garch_mean, scale=garch_vol))\n",
    "    gjr_pits.append(scipy.stats.norm.cdf(actual, loc=gjr_mean, scale=gjr_vol))\n",
    "    t_garch_pits.append( scipy.stats.t.cdf(actual, t_garch_dist, loc=t_garch_mean, scale=t_garch_vol) )\n",
    "\n",
    "    \n",
    "print(stats.kstest(garch_pits, 'uniform'))\n",
    "print(stats.kstest(gjr_pits, 'uniform'))\n",
    "print(stats.kstest(t_garch_pits, 'uniform'))"
   ]
  },
  {
   "cell_type": "markdown",
   "metadata": {},
   "source": [
    "# KL Divergence"
   ]
  },
  {
   "cell_type": "code",
   "execution_count": 14,
   "metadata": {
    "scrolled": true
   },
   "outputs": [
    {
     "name": "stdout",
     "output_type": "stream",
     "text": [
      "-370.5721036402501\n",
      "-368.12881459572236\n",
      "-369.18351508797673\n"
     ]
    }
   ],
   "source": [
    "garch_kl = 0\n",
    "gjr_kl = 0\n",
    "t_garch_kl = 0\n",
    "\n",
    "garch_mean = garch_fit.params[0]    \n",
    "gjr_mean = gjr_fit.params[0]\n",
    "t_garch_mean = t_garch_fit.params[0]    \n",
    "t_garch_dist = t_garch_fit.params[4]\n",
    "\n",
    "\n",
    "for time in ts.index:\n",
    "    actual = ts.loc[time,'target']\n",
    "    \n",
    "    garch_vol =  ts.loc[time,'garch']\n",
    "    gjr_vol = ts.loc[time,'gjr']\n",
    "    t_garch_vol = ts.loc[time,'t_garch']\n",
    "\n",
    "    garch_kl = garch_kl + scipy.stats.norm.logpdf(actual, loc=garch_mean, scale=garch_vol)\n",
    "    gjr_kl = gjr_kl + scipy.stats.norm.logpdf(actual, loc=gjr_mean, scale=gjr_vol)\n",
    "    t_garch_kl =  t_garch_kl + scipy.stats.t.logpdf(actual, t_garch_dist, loc=t_garch_mean, scale=t_garch_vol)\n",
    "\n",
    "    \n",
    "print(garch_kl)\n",
    "print(gjr_kl)\n",
    "print(t_garch_kl)"
   ]
  },
  {
   "cell_type": "markdown",
   "metadata": {},
   "source": [
    "# Conditional Coverage"
   ]
  },
  {
   "cell_type": "code",
   "execution_count": 15,
   "metadata": {},
   "outputs": [],
   "source": [
    "coverage_df = pd.DataFrame(columns = ['prob','garch', 'gjr','t_garch']).set_index('prob')\n",
    "prob_list = np.linspace(.01,.99,21)\n",
    "\n",
    "for prob in prob_list:\n",
    "    coverage_df.loc[prob] = 0.0\n",
    "\n",
    "garch_mean = garch_fit.params[0]    \n",
    "gjr_mean = gjr_fit.params[0]\n",
    "t_garch_mean = t_garch_fit.params[0]    \n",
    "t_garch_dist = t_garch_fit.params[4]\n",
    "\n",
    "for time in ts.index:\n",
    "    actual = ts.loc[time,'target']\n",
    "    \n",
    "    garch_vol =  ts.loc[time,'garch']\n",
    "    gjr_vol = ts.loc[time,'gjr']\n",
    "    t_garch_vol = ts.loc[time,'t_garch']\n",
    "\n",
    "    for prob in prob_list:        \n",
    "        garch_ci = scipy.stats.norm.interval(prob, loc= garch_mean, scale= garch_vol)\n",
    "        gjr_ci = scipy.stats.norm.interval(prob, loc= gjr_mean, scale= gjr_vol)\n",
    "        t_garch_ci = scipy.stats.t.interval(prob, t_garch_dist, loc=t_garch_mean, scale=t_garch_vol)\n",
    "        \n",
    "        coverage_df.loc[prob] = coverage_df.loc[prob] + [1*(actual > garch_ci[0])*(actual < garch_ci[1]),\n",
    "                                                         1*(actual > gjr_ci[0])*(actual < gjr_ci[1]),\n",
    "                                                         1*(actual > t_garch_ci[0])*(actual < t_garch_ci[1])]\n",
    "                                                                \n",
    "coverage_df = coverage_df.div(len(ts))\n",
    "coverage_df['theoretical'] = prob_list"
   ]
  },
  {
   "cell_type": "code",
   "execution_count": 28,
   "metadata": {},
   "outputs": [
    {
     "data": {
      "text/plain": [
       "<matplotlib.legend.Legend at 0x105b928>"
      ]
     },
     "execution_count": 28,
     "metadata": {},
     "output_type": "execute_result"
    },
    {
     "data": {
      "image/png": "[encoded data removed]",
      "text/plain": [
       "<Figure size 576x288 with 1 Axes>"
      ]
     },
     "metadata": {
      "needs_background": "light"
     },
     "output_type": "display_data"
    }
   ],
   "source": [
    "fig, ax = plt.subplots(figsize = (8,4))\n",
    "coverage_df.plot(color = ['Blue','Red','Yellow','Black'], ax = ax)\n",
    "\n",
    "ax.set_title('Empirical curve curve for volatility models')\n",
    "ax.legend(['GARCH','GJR','t-GARCH','theoretical'])"
   ]
  },
  {
   "cell_type": "code",
   "execution_count": 17,
   "metadata": {},
   "outputs": [
    {
     "data": {
      "text/html": [
       "<div>\n",
       "<style scoped>\n",
       "    .dataframe tbody tr th:only-of-type {\n",
       "        vertical-align: middle;\n",
       "    }\n",
       "\n",
       "    .dataframe tbody tr th {\n",
       "        vertical-align: top;\n",
       "    }\n",
       "\n",
       "    .dataframe thead th {\n",
       "        text-align: right;\n",
       "    }\n",
       "</style>\n",
       "<table border=\"1\" class=\"dataframe\">\n",
       "  <thead>\n",
       "    <tr style=\"text-align: right;\">\n",
       "      <th></th>\n",
       "      <th>garch</th>\n",
       "      <th>gjr</th>\n",
       "      <th>t_garch</th>\n",
       "      <th>theoretical</th>\n",
       "    </tr>\n",
       "    <tr>\n",
       "      <th>prob</th>\n",
       "      <th></th>\n",
       "      <th></th>\n",
       "      <th></th>\n",
       "      <th></th>\n",
       "    </tr>\n",
       "  </thead>\n",
       "  <tbody>\n",
       "    <tr>\n",
       "      <th>0.010</th>\n",
       "      <td>0.009524</td>\n",
       "      <td>0.015873</td>\n",
       "      <td>0.012698</td>\n",
       "      <td>0.010</td>\n",
       "    </tr>\n",
       "    <tr>\n",
       "      <th>0.059</th>\n",
       "      <td>0.082540</td>\n",
       "      <td>0.098413</td>\n",
       "      <td>0.092063</td>\n",
       "      <td>0.059</td>\n",
       "    </tr>\n",
       "    <tr>\n",
       "      <th>0.108</th>\n",
       "      <td>0.161905</td>\n",
       "      <td>0.158730</td>\n",
       "      <td>0.174603</td>\n",
       "      <td>0.108</td>\n",
       "    </tr>\n",
       "    <tr>\n",
       "      <th>0.157</th>\n",
       "      <td>0.200000</td>\n",
       "      <td>0.196825</td>\n",
       "      <td>0.200000</td>\n",
       "      <td>0.157</td>\n",
       "    </tr>\n",
       "    <tr>\n",
       "      <th>0.206</th>\n",
       "      <td>0.276190</td>\n",
       "      <td>0.257143</td>\n",
       "      <td>0.292063</td>\n",
       "      <td>0.206</td>\n",
       "    </tr>\n",
       "    <tr>\n",
       "      <th>0.255</th>\n",
       "      <td>0.317460</td>\n",
       "      <td>0.323810</td>\n",
       "      <td>0.342857</td>\n",
       "      <td>0.255</td>\n",
       "    </tr>\n",
       "    <tr>\n",
       "      <th>0.304</th>\n",
       "      <td>0.390476</td>\n",
       "      <td>0.390476</td>\n",
       "      <td>0.403175</td>\n",
       "      <td>0.304</td>\n",
       "    </tr>\n",
       "    <tr>\n",
       "      <th>0.353</th>\n",
       "      <td>0.438095</td>\n",
       "      <td>0.434921</td>\n",
       "      <td>0.444444</td>\n",
       "      <td>0.353</td>\n",
       "    </tr>\n",
       "    <tr>\n",
       "      <th>0.402</th>\n",
       "      <td>0.479365</td>\n",
       "      <td>0.482540</td>\n",
       "      <td>0.488889</td>\n",
       "      <td>0.402</td>\n",
       "    </tr>\n",
       "    <tr>\n",
       "      <th>0.451</th>\n",
       "      <td>0.514286</td>\n",
       "      <td>0.526984</td>\n",
       "      <td>0.549206</td>\n",
       "      <td>0.451</td>\n",
       "    </tr>\n",
       "    <tr>\n",
       "      <th>0.500</th>\n",
       "      <td>0.568254</td>\n",
       "      <td>0.561905</td>\n",
       "      <td>0.590476</td>\n",
       "      <td>0.500</td>\n",
       "    </tr>\n",
       "    <tr>\n",
       "      <th>0.549</th>\n",
       "      <td>0.619048</td>\n",
       "      <td>0.612698</td>\n",
       "      <td>0.641270</td>\n",
       "      <td>0.549</td>\n",
       "    </tr>\n",
       "    <tr>\n",
       "      <th>0.598</th>\n",
       "      <td>0.653968</td>\n",
       "      <td>0.650794</td>\n",
       "      <td>0.679365</td>\n",
       "      <td>0.598</td>\n",
       "    </tr>\n",
       "    <tr>\n",
       "      <th>0.647</th>\n",
       "      <td>0.695238</td>\n",
       "      <td>0.692063</td>\n",
       "      <td>0.726984</td>\n",
       "      <td>0.647</td>\n",
       "    </tr>\n",
       "    <tr>\n",
       "      <th>0.696</th>\n",
       "      <td>0.733333</td>\n",
       "      <td>0.733333</td>\n",
       "      <td>0.768254</td>\n",
       "      <td>0.696</td>\n",
       "    </tr>\n",
       "    <tr>\n",
       "      <th>0.745</th>\n",
       "      <td>0.768254</td>\n",
       "      <td>0.768254</td>\n",
       "      <td>0.819048</td>\n",
       "      <td>0.745</td>\n",
       "    </tr>\n",
       "    <tr>\n",
       "      <th>0.794</th>\n",
       "      <td>0.819048</td>\n",
       "      <td>0.815873</td>\n",
       "      <td>0.866667</td>\n",
       "      <td>0.794</td>\n",
       "    </tr>\n",
       "    <tr>\n",
       "      <th>0.843</th>\n",
       "      <td>0.850794</td>\n",
       "      <td>0.857143</td>\n",
       "      <td>0.907937</td>\n",
       "      <td>0.843</td>\n",
       "    </tr>\n",
       "    <tr>\n",
       "      <th>0.892</th>\n",
       "      <td>0.898413</td>\n",
       "      <td>0.885714</td>\n",
       "      <td>0.939683</td>\n",
       "      <td>0.892</td>\n",
       "    </tr>\n",
       "    <tr>\n",
       "      <th>0.941</th>\n",
       "      <td>0.939683</td>\n",
       "      <td>0.942857</td>\n",
       "      <td>0.980952</td>\n",
       "      <td>0.941</td>\n",
       "    </tr>\n",
       "    <tr>\n",
       "      <th>0.990</th>\n",
       "      <td>0.987302</td>\n",
       "      <td>0.987302</td>\n",
       "      <td>0.993651</td>\n",
       "      <td>0.990</td>\n",
       "    </tr>\n",
       "  </tbody>\n",
       "</table>\n",
       "</div>"
      ],
      "text/plain": [
       "          garch       gjr   t_garch  theoretical\n",
       "prob                                            \n",
       "0.010  0.009524  0.015873  0.012698        0.010\n",
       "0.059  0.082540  0.098413  0.092063        0.059\n",
       "0.108  0.161905  0.158730  0.174603        0.108\n",
       "0.157  0.200000  0.196825  0.200000        0.157\n",
       "0.206  0.276190  0.257143  0.292063        0.206\n",
       "0.255  0.317460  0.323810  0.342857        0.255\n",
       "0.304  0.390476  0.390476  0.403175        0.304\n",
       "0.353  0.438095  0.434921  0.444444        0.353\n",
       "0.402  0.479365  0.482540  0.488889        0.402\n",
       "0.451  0.514286  0.526984  0.549206        0.451\n",
       "0.500  0.568254  0.561905  0.590476        0.500\n",
       "0.549  0.619048  0.612698  0.641270        0.549\n",
       "0.598  0.653968  0.650794  0.679365        0.598\n",
       "0.647  0.695238  0.692063  0.726984        0.647\n",
       "0.696  0.733333  0.733333  0.768254        0.696\n",
       "0.745  0.768254  0.768254  0.819048        0.745\n",
       "0.794  0.819048  0.815873  0.866667        0.794\n",
       "0.843  0.850794  0.857143  0.907937        0.843\n",
       "0.892  0.898413  0.885714  0.939683        0.892\n",
       "0.941  0.939683  0.942857  0.980952        0.941\n",
       "0.990  0.987302  0.987302  0.993651        0.990"
      ]
     },
     "execution_count": 17,
     "metadata": {},
     "output_type": "execute_result"
    }
   ],
   "source": [
    "coverage_df"
   ]
  },
  {
   "cell_type": "markdown",
   "metadata": {},
   "source": [
    "# Interval score functions"
   ]
  },
  {
   "cell_type": "code",
   "execution_count": 18,
   "metadata": {},
   "outputs": [],
   "source": [
    "def score(x,lower,upper,prob):\n",
    "    return (upper-lower) + (2/(1-prob))*(max(x-upper,0) + max(lower-x,0))"
   ]
  },
  {
   "cell_type": "code",
   "execution_count": 19,
   "metadata": {},
   "outputs": [],
   "source": [
    "score_df = pd.DataFrame(columns = ['prob','garch', 'gjr','t_garch']).set_index('prob')\n",
    "prob_list = np.linspace(.05,.95,21)\n",
    "\n",
    "for prob in prob_list:\n",
    "    score_df.loc[prob] = 0.0\n",
    "\n",
    "garch_mean = garch_fit.params[0]    \n",
    "gjr_mean = gjr_fit.params[0]\n",
    "t_garch_mean = t_garch_fit.params[0]    \n",
    "t_garch_dist = t_garch_fit.params[4]\n",
    "\n",
    "for time in ts.index:\n",
    "    actual = ts.loc[time,'target']\n",
    "    \n",
    "    garch_vol =  ts.loc[time,'garch']\n",
    "    gjr_vol = ts.loc[time,'gjr']\n",
    "    t_garch_vol = ts.loc[time,'t_garch']\n",
    "\n",
    "    for prob in prob_list:        \n",
    "        garch_ci = scipy.stats.norm.interval(prob, loc= garch_mean, scale= garch_vol)\n",
    "        gjr_ci = scipy.stats.norm.interval(prob, loc= gjr_mean, scale= gjr_vol)\n",
    "        t_garch_ci = scipy.stats.t.interval(prob, t_garch_dist, loc=t_garch_mean, scale=t_garch_vol)\n",
    "        \n",
    "        score_df.loc[prob] = score_df.loc[prob] + [score(actual, garch_ci[0],garch_ci[1], prob),\n",
    "                                                   score(actual, gjr_ci[0],gjr_ci[1], prob),\n",
    "                                                   score(actual, t_garch_ci[0],t_garch_ci[1], prob) ]\n",
    "                                                                \n",
    "score_df = score_df.div(len(ts))"
   ]
  },
  {
   "cell_type": "code",
   "execution_count": 29,
   "metadata": {},
   "outputs": [
    {
     "data": {
      "text/plain": [
       "Text(0.5, 1.0, 'Interval forecast scores')"
      ]
     },
     "execution_count": 29,
     "metadata": {},
     "output_type": "execute_result"
    },
    {
     "data": {
      "image/png": "[encoded data removed]",
      "text/plain": [
       "<Figure size 576x288 with 1 Axes>"
      ]
     },
     "metadata": {
      "needs_background": "light"
     },
     "output_type": "display_data"
    }
   ],
   "source": [
    "fig, ax = plt.subplots(figsize = (8,4))\n",
    "score_df.plot(color = ['Blue','Red','Yellow'], ax = ax)\n",
    "\n",
    "ax.legend(['GARCH', 'GJR','t-GARCH'])\n",
    "ax.set_title('Interval forecast scores')"
   ]
  },
  {
   "cell_type": "code",
   "execution_count": 21,
   "metadata": {},
   "outputs": [
    {
     "data": {
      "text/html": [
       "<div>\n",
       "<style scoped>\n",
       "    .dataframe tbody tr th:only-of-type {\n",
       "        vertical-align: middle;\n",
       "    }\n",
       "\n",
       "    .dataframe tbody tr th {\n",
       "        vertical-align: top;\n",
       "    }\n",
       "\n",
       "    .dataframe thead th {\n",
       "        text-align: right;\n",
       "    }\n",
       "</style>\n",
       "<table border=\"1\" class=\"dataframe\">\n",
       "  <thead>\n",
       "    <tr style=\"text-align: right;\">\n",
       "      <th></th>\n",
       "      <th>garch</th>\n",
       "      <th>gjr</th>\n",
       "      <th>t_garch</th>\n",
       "    </tr>\n",
       "    <tr>\n",
       "      <th>prob</th>\n",
       "      <th></th>\n",
       "      <th></th>\n",
       "      <th></th>\n",
       "    </tr>\n",
       "  </thead>\n",
       "  <tbody>\n",
       "    <tr>\n",
       "      <th>0.050</th>\n",
       "      <td>1.286197</td>\n",
       "      <td>1.283991</td>\n",
       "      <td>1.285353</td>\n",
       "    </tr>\n",
       "    <tr>\n",
       "      <th>0.095</th>\n",
       "      <td>1.346510</td>\n",
       "      <td>1.345478</td>\n",
       "      <td>1.347029</td>\n",
       "    </tr>\n",
       "    <tr>\n",
       "      <th>0.140</th>\n",
       "      <td>1.410030</td>\n",
       "      <td>1.408851</td>\n",
       "      <td>1.411271</td>\n",
       "    </tr>\n",
       "    <tr>\n",
       "      <th>0.185</th>\n",
       "      <td>1.474764</td>\n",
       "      <td>1.473057</td>\n",
       "      <td>1.476720</td>\n",
       "    </tr>\n",
       "    <tr>\n",
       "      <th>0.230</th>\n",
       "      <td>1.543994</td>\n",
       "      <td>1.539578</td>\n",
       "      <td>1.547388</td>\n",
       "    </tr>\n",
       "    <tr>\n",
       "      <th>0.275</th>\n",
       "      <td>1.616072</td>\n",
       "      <td>1.610250</td>\n",
       "      <td>1.621097</td>\n",
       "    </tr>\n",
       "    <tr>\n",
       "      <th>0.320</th>\n",
       "      <td>1.693588</td>\n",
       "      <td>1.686136</td>\n",
       "      <td>1.700350</td>\n",
       "    </tr>\n",
       "    <tr>\n",
       "      <th>0.365</th>\n",
       "      <td>1.775755</td>\n",
       "      <td>1.765431</td>\n",
       "      <td>1.780970</td>\n",
       "    </tr>\n",
       "    <tr>\n",
       "      <th>0.410</th>\n",
       "      <td>1.859549</td>\n",
       "      <td>1.848295</td>\n",
       "      <td>1.864403</td>\n",
       "    </tr>\n",
       "    <tr>\n",
       "      <th>0.455</th>\n",
       "      <td>1.946594</td>\n",
       "      <td>1.933725</td>\n",
       "      <td>1.952956</td>\n",
       "    </tr>\n",
       "    <tr>\n",
       "      <th>0.500</th>\n",
       "      <td>2.039953</td>\n",
       "      <td>2.024322</td>\n",
       "      <td>2.046313</td>\n",
       "    </tr>\n",
       "    <tr>\n",
       "      <th>0.545</th>\n",
       "      <td>2.138015</td>\n",
       "      <td>2.119079</td>\n",
       "      <td>2.144249</td>\n",
       "    </tr>\n",
       "    <tr>\n",
       "      <th>0.590</th>\n",
       "      <td>2.243369</td>\n",
       "      <td>2.220371</td>\n",
       "      <td>2.251806</td>\n",
       "    </tr>\n",
       "    <tr>\n",
       "      <th>0.635</th>\n",
       "      <td>2.356374</td>\n",
       "      <td>2.334433</td>\n",
       "      <td>2.367829</td>\n",
       "    </tr>\n",
       "    <tr>\n",
       "      <th>0.680</th>\n",
       "      <td>2.480121</td>\n",
       "      <td>2.462280</td>\n",
       "      <td>2.495414</td>\n",
       "    </tr>\n",
       "    <tr>\n",
       "      <th>0.725</th>\n",
       "      <td>2.620435</td>\n",
       "      <td>2.603076</td>\n",
       "      <td>2.643921</td>\n",
       "    </tr>\n",
       "    <tr>\n",
       "      <th>0.770</th>\n",
       "      <td>2.777899</td>\n",
       "      <td>2.762471</td>\n",
       "      <td>2.823781</td>\n",
       "    </tr>\n",
       "    <tr>\n",
       "      <th>0.815</th>\n",
       "      <td>2.978289</td>\n",
       "      <td>2.952290</td>\n",
       "      <td>3.049695</td>\n",
       "    </tr>\n",
       "    <tr>\n",
       "      <th>0.860</th>\n",
       "      <td>3.221227</td>\n",
       "      <td>3.190309</td>\n",
       "      <td>3.354519</td>\n",
       "    </tr>\n",
       "    <tr>\n",
       "      <th>0.905</th>\n",
       "      <td>3.570306</td>\n",
       "      <td>3.497487</td>\n",
       "      <td>3.788535</td>\n",
       "    </tr>\n",
       "    <tr>\n",
       "      <th>0.950</th>\n",
       "      <td>4.173573</td>\n",
       "      <td>4.075576</td>\n",
       "      <td>4.632584</td>\n",
       "    </tr>\n",
       "  </tbody>\n",
       "</table>\n",
       "</div>"
      ],
      "text/plain": [
       "          garch       gjr   t_garch\n",
       "prob                               \n",
       "0.050  1.286197  1.283991  1.285353\n",
       "0.095  1.346510  1.345478  1.347029\n",
       "0.140  1.410030  1.408851  1.411271\n",
       "0.185  1.474764  1.473057  1.476720\n",
       "0.230  1.543994  1.539578  1.547388\n",
       "0.275  1.616072  1.610250  1.621097\n",
       "0.320  1.693588  1.686136  1.700350\n",
       "0.365  1.775755  1.765431  1.780970\n",
       "0.410  1.859549  1.848295  1.864403\n",
       "0.455  1.946594  1.933725  1.952956\n",
       "0.500  2.039953  2.024322  2.046313\n",
       "0.545  2.138015  2.119079  2.144249\n",
       "0.590  2.243369  2.220371  2.251806\n",
       "0.635  2.356374  2.334433  2.367829\n",
       "0.680  2.480121  2.462280  2.495414\n",
       "0.725  2.620435  2.603076  2.643921\n",
       "0.770  2.777899  2.762471  2.823781\n",
       "0.815  2.978289  2.952290  3.049695\n",
       "0.860  3.221227  3.190309  3.354519\n",
       "0.905  3.570306  3.497487  3.788535\n",
       "0.950  4.173573  4.075576  4.632584"
      ]
     },
     "execution_count": 21,
     "metadata": {},
     "output_type": "execute_result"
    }
   ],
   "source": [
    "score_df"
   ]
  },
  {
   "cell_type": "code",
   "execution_count": null,
   "metadata": {},
   "outputs": [],
   "source": []
  }
 ],
 "metadata": {
  "kernelspec": {
   "display_name": "Python 3",
   "language": "python",
   "name": "python3"
  },
  "language_info": {
   "codemirror_mode": {
    "name": "ipython",
    "version": 3
   },
   "file_extension": ".py",
   "mimetype": "text/x-python",
   "name": "python",
   "nbconvert_exporter": "python",
   "pygments_lexer": "ipython3",
   "version": "3.8.3"
  }
 },
 "nbformat": 4,
 "nbformat_minor": 4
}
