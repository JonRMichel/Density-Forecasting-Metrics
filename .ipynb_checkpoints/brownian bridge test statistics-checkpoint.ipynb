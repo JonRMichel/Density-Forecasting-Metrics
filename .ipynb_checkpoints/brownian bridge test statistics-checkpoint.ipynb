{
 "cells": [
  {
   "cell_type": "code",
   "execution_count": 1,
   "metadata": {},
   "outputs": [],
   "source": [
    "import numpy as np\n",
    "import pandas as pd\n",
    "import matplotlib.pyplot as plt\n",
    "import scipy\n",
    "from scipy.stats import norm\n",
    "from scipy import stats"
   ]
  },
  {
   "cell_type": "markdown",
   "metadata": {},
   "source": [
    "# Generate critical values"
   ]
  },
  {
   "cell_type": "code",
   "execution_count": 47,
   "metadata": {},
   "outputs": [
    {
     "data": {
      "text/html": [
       "<div>\n",
       "<style scoped>\n",
       "    .dataframe tbody tr th:only-of-type {\n",
       "        vertical-align: middle;\n",
       "    }\n",
       "\n",
       "    .dataframe tbody tr th {\n",
       "        vertical-align: top;\n",
       "    }\n",
       "\n",
       "    .dataframe thead th {\n",
       "        text-align: right;\n",
       "    }\n",
       "</style>\n",
       "<table border=\"1\" class=\"dataframe\">\n",
       "  <thead>\n",
       "    <tr style=\"text-align: right;\">\n",
       "      <th></th>\n",
       "      <th>0</th>\n",
       "    </tr>\n",
       "  </thead>\n",
       "  <tbody>\n",
       "    <tr>\n",
       "      <th>0.75</th>\n",
       "      <td>0.210113</td>\n",
       "    </tr>\n",
       "    <tr>\n",
       "      <th>0.90</th>\n",
       "      <td>0.343728</td>\n",
       "    </tr>\n",
       "    <tr>\n",
       "      <th>0.95</th>\n",
       "      <td>0.456599</td>\n",
       "    </tr>\n",
       "  </tbody>\n",
       "</table>\n",
       "</div>"
      ],
      "text/plain": [
       "             0\n",
       "0.75  0.210113\n",
       "0.90  0.343728\n",
       "0.95  0.456599"
      ]
     },
     "execution_count": 47,
     "metadata": {},
     "output_type": "execute_result"
    },
    {
     "data": {
      "image/png": "[encoded data removed]",
      "text/plain": [
       "<Figure size 432x288 with 1 Axes>"
      ]
     },
     "metadata": {
      "needs_background": "light"
     },
     "output_type": "display_data"
    }
   ],
   "source": [
    "sample_length = 1000\n",
    "\n",
    "bb_sq = []\n",
    "\n",
    "for _ in range(0,10000):\n",
    "    brownian = np.cumsum( np.random.normal(0,1,sample_length))/np.sqrt(sample_length)\n",
    "\n",
    "    bb_sq.append(  np.square(brownian - np.linspace(0,1,sample_length)*brownian[-1]).mean()  )\n",
    "    \n",
    "pd.DataFrame(bb_sq).hist()\n",
    "pd.DataFrame(bb_sq).quantile([.75,.9,.95])"
   ]
  },
  {
   "cell_type": "markdown",
   "metadata": {},
   "source": [
    "# Generate some tests"
   ]
  },
  {
   "cell_type": "markdown",
   "metadata": {},
   "source": [
    "## Normal data with density correct"
   ]
  },
  {
   "cell_type": "code",
   "execution_count": 234,
   "metadata": {},
   "outputs": [
    {
     "name": "stdout",
     "output_type": "stream",
     "text": [
      "0    0.2519\n",
      "dtype: float64\n",
      "0    0.103\n",
      "dtype: float64\n",
      "0    0.0497\n",
      "dtype: float64\n",
      "\n",
      "0    0.253\n",
      "dtype: float64\n",
      "0    0.0973\n",
      "dtype: float64\n",
      "0    0.0472\n",
      "dtype: float64\n"
     ]
    },
    {
     "data": {
      "image/png": "[encoded data removed]",
      "text/plain": [
       "<Figure size 432x288 with 1 Axes>"
      ]
     },
     "metadata": {
      "needs_background": "light"
     },
     "output_type": "display_data"
    },
    {
     "data": {
      "image/png": "[encoded data removed]",
      "text/plain": [
       "<Figure size 432x288 with 1 Axes>"
      ]
     },
     "metadata": {
      "needs_background": "light"
     },
     "output_type": "display_data"
    }
   ],
   "source": [
    "sample_size = 30\n",
    "\n",
    "pit_pvals = []\n",
    "sq_test_stats = []\n",
    "\n",
    "for _ in range(0,10000):\n",
    "    sample = np.random.normal(0,1,sample_size)\n",
    "\n",
    "    #ks p-value\n",
    "    pit_pvals.append(stats.kstest(norm.cdf(sample), 'uniform')[1])\n",
    "\n",
    "    alpha_list = np.linspace(.05,.95, 10)\n",
    "\n",
    "   #Square prediction interval test\n",
    "    ct_norms = np.array([])\n",
    "    cts = []\n",
    "    for alpha in alpha_list:\n",
    "        ci =  scipy.stats.norm.interval(alpha, loc=0, scale=1)\n",
    "        ct_alpha = np.mean(1*(sample>ci[0])*(sample<ci[1]))\n",
    "        cts.append(ct_alpha)\n",
    "        ct_norms = np.append(ct_norms,  np.array([np.sqrt(sample_size)*(ct_alpha-alpha)] ))\n",
    "\n",
    "    sq_test_stats.append(np.mean( np.square(ct_norms) ))\n",
    "    \n",
    "pd.DataFrame(sq_test_stats).hist()\n",
    "print( (pd.DataFrame(sq_test_stats) > 0.210113).mean()) \n",
    "print( (pd.DataFrame(sq_test_stats) > 0.343728).mean()) \n",
    "print( (pd.DataFrame(sq_test_stats) > 0.456599).mean()) \n",
    "print()\n",
    "pd.DataFrame(pit_pvals).hist() \n",
    "print( 1*(pd.DataFrame(pit_pvals) > .75).mean())\n",
    "print( 1*(pd.DataFrame(pit_pvals) > .9).mean())\n",
    "print( 1*(pd.DataFrame(pit_pvals) > .95).mean())"
   ]
  },
  {
   "cell_type": "code",
   "execution_count": 235,
   "metadata": {},
   "outputs": [
    {
     "name": "stdout",
     "output_type": "stream",
     "text": [
      "0    0.2538\n",
      "dtype: float64\n",
      "0    0.1056\n",
      "dtype: float64\n",
      "0    0.0529\n",
      "dtype: float64\n",
      "\n",
      "0    0.2475\n",
      "dtype: float64\n",
      "0    0.0985\n",
      "dtype: float64\n",
      "0    0.0509\n",
      "dtype: float64\n"
     ]
    },
    {
     "data": {
      "image/png": "[encoded data removed]",
      "text/plain": [
       "<Figure size 432x288 with 1 Axes>"
      ]
     },
     "metadata": {
      "needs_background": "light"
     },
     "output_type": "display_data"
    },
    {
     "data": {
      "image/png": "[encoded data removed]",
      "text/plain": [
       "<Figure size 432x288 with 1 Axes>"
      ]
     },
     "metadata": {
      "needs_background": "light"
     },
     "output_type": "display_data"
    }
   ],
   "source": [
    "sample_size = 50\n",
    "\n",
    "pit_pvals = []\n",
    "sq_test_stats = []\n",
    "\n",
    "for _ in range(0,10000):\n",
    "    sample = np.random.normal(0,1,sample_size)\n",
    "\n",
    "    #ks p-value\n",
    "    pit_pvals.append(stats.kstest(norm.cdf(sample), 'uniform')[1])\n",
    "\n",
    "    alpha_list = np.linspace(.05,.95, 10)\n",
    "\n",
    "   #Square prediction interval test\n",
    "    ct_norms = np.array([])\n",
    "    cts = []\n",
    "    for alpha in alpha_list:\n",
    "        ci =  scipy.stats.norm.interval(alpha, loc=0, scale=1)\n",
    "        ct_alpha = np.mean(1*(sample>ci[0])*(sample<ci[1]))\n",
    "        cts.append(ct_alpha)\n",
    "        ct_norms = np.append(ct_norms,  np.array([np.sqrt(sample_size)*(ct_alpha-alpha)] ))\n",
    "\n",
    "    sq_test_stats.append(np.mean( np.square(ct_norms) ))\n",
    "    \n",
    "pd.DataFrame(sq_test_stats).hist()\n",
    "print( (pd.DataFrame(sq_test_stats) > 0.210113).mean()) \n",
    "print( (pd.DataFrame(sq_test_stats) > 0.343728).mean()) \n",
    "print( (pd.DataFrame(sq_test_stats) > 0.456599).mean()) \n",
    "print()\n",
    "pd.DataFrame(pit_pvals).hist() \n",
    "print( 1*(pd.DataFrame(pit_pvals) > .75).mean())\n",
    "print( 1*(pd.DataFrame(pit_pvals) > .9).mean())\n",
    "print( 1*(pd.DataFrame(pit_pvals) > .95).mean())"
   ]
  },
  {
   "cell_type": "code",
   "execution_count": 236,
   "metadata": {},
   "outputs": [
    {
     "name": "stdout",
     "output_type": "stream",
     "text": [
      "0    0.2522\n",
      "dtype: float64\n",
      "0    0.1027\n",
      "dtype: float64\n",
      "0    0.0495\n",
      "dtype: float64\n",
      "\n",
      "0    0.2524\n",
      "dtype: float64\n",
      "0    0.0976\n",
      "dtype: float64\n",
      "0    0.0466\n",
      "dtype: float64\n"
     ]
    },
    {
     "data": {
      "image/png": "[encoded data removed]",
      "text/plain": [
       "<Figure size 432x288 with 1 Axes>"
      ]
     },
     "metadata": {
      "needs_background": "light"
     },
     "output_type": "display_data"
    },
    {
     "data": {
      "image/png": "[encoded data removed]",
      "text/plain": [
       "<Figure size 432x288 with 1 Axes>"
      ]
     },
     "metadata": {
      "needs_background": "light"
     },
     "output_type": "display_data"
    }
   ],
   "source": [
    "sample_size = 100\n",
    "\n",
    "pit_pvals = []\n",
    "sq_test_stats = []\n",
    "\n",
    "for _ in range(0,10000):\n",
    "    sample = np.random.normal(0,1,sample_size)\n",
    "\n",
    "    #ks p-value\n",
    "    pit_pvals.append(stats.kstest(norm.cdf(sample), 'uniform')[1])\n",
    "\n",
    "    alpha_list = np.linspace(.05,.95, 10)\n",
    "\n",
    "   #Square prediction interval test\n",
    "    ct_norms = np.array([])\n",
    "    cts = []\n",
    "    for alpha in alpha_list:\n",
    "        ci =  scipy.stats.norm.interval(alpha, loc=0, scale=1)\n",
    "        ct_alpha = np.mean(1*(sample>ci[0])*(sample<ci[1]))\n",
    "        cts.append(ct_alpha)\n",
    "        ct_norms = np.append(ct_norms,  np.array([np.sqrt(sample_size)*(ct_alpha-alpha)] ))\n",
    "\n",
    "    sq_test_stats.append(np.mean( np.square(ct_norms) ))\n",
    "    \n",
    "pd.DataFrame(sq_test_stats).hist()\n",
    "print( (pd.DataFrame(sq_test_stats) > 0.210113).mean()) \n",
    "print( (pd.DataFrame(sq_test_stats) > 0.343728).mean()) \n",
    "print( (pd.DataFrame(sq_test_stats) > 0.456599).mean()) \n",
    "print()\n",
    "pd.DataFrame(pit_pvals).hist() \n",
    "print( 1*(pd.DataFrame(pit_pvals) > .75).mean())\n",
    "print( 1*(pd.DataFrame(pit_pvals) > .9).mean())\n",
    "print( 1*(pd.DataFrame(pit_pvals) > .95).mean())"
   ]
  },
  {
   "cell_type": "markdown",
   "metadata": {},
   "source": [
    "# Data is now U[-sqrt(3),sqrt(3)] while density is beleived to be N(0,1)"
   ]
  },
  {
   "cell_type": "code",
   "execution_count": 237,
   "metadata": {},
   "outputs": [
    {
     "name": "stdout",
     "output_type": "stream",
     "text": [
      "0    0.5638\n",
      "dtype: float64\n",
      "0    0.3749\n",
      "dtype: float64\n",
      "0    0.2606\n",
      "dtype: float64\n",
      "\n",
      "0    0.1388\n",
      "dtype: float64\n",
      "0    0.0507\n",
      "dtype: float64\n",
      "0    0.0221\n",
      "dtype: float64\n"
     ]
    },
    {
     "data": {
      "image/png": "[encoded data removed]",
      "text/plain": [
       "<Figure size 432x288 with 1 Axes>"
      ]
     },
     "metadata": {
      "needs_background": "light"
     },
     "output_type": "display_data"
    },
    {
     "data": {
      "image/png": "[encoded data removed]",
      "text/plain": [
       "<Figure size 432x288 with 1 Axes>"
      ]
     },
     "metadata": {
      "needs_background": "light"
     },
     "output_type": "display_data"
    }
   ],
   "source": [
    "sample_size = 30\n",
    "\n",
    "pit_pvals = []\n",
    "sq_test_stats = []\n",
    "sqrt3 = np.sqrt(3.0)\n",
    "\n",
    "for _ in range(0,10000):\n",
    "    sample = np.random.uniform(-sqrt3,sqrt3,sample_size)\n",
    "\n",
    "    #ks p-value\n",
    "    pit_pvals.append(stats.kstest(norm.cdf(sample), 'uniform')[1])\n",
    "\n",
    "    alpha_list = np.linspace(.05,.95, 10)\n",
    "\n",
    "   #Square prediction interval test\n",
    "    ct_norms = np.array([])\n",
    "    cts = []\n",
    "    for alpha in alpha_list:\n",
    "        ci =  scipy.stats.norm.interval(alpha, loc=0, scale=1)\n",
    "        ct_alpha = np.mean(1*(sample>ci[0])*(sample<ci[1]))\n",
    "        cts.append(ct_alpha)\n",
    "        ct_norms = np.append(ct_norms,  np.array([np.sqrt(sample_size)*(ct_alpha-alpha)] ))\n",
    "\n",
    "    sq_test_stats.append(np.mean( np.square(ct_norms) ))\n",
    "    \n",
    "pd.DataFrame(sq_test_stats).hist()\n",
    "print( (pd.DataFrame(sq_test_stats) > 0.210113).mean()) \n",
    "print( (pd.DataFrame(sq_test_stats) > 0.343728).mean()) \n",
    "print( (pd.DataFrame(sq_test_stats) > 0.456599).mean()) \n",
    "print()\n",
    "pd.DataFrame(pit_pvals).hist() \n",
    "print( 1*(pd.DataFrame(pit_pvals) > .75).mean())\n",
    "print( 1*(pd.DataFrame(pit_pvals) > .9).mean())\n",
    "print( 1*(pd.DataFrame(pit_pvals) > .95).mean())"
   ]
  },
  {
   "cell_type": "code",
   "execution_count": 238,
   "metadata": {},
   "outputs": [
    {
     "name": "stdout",
     "output_type": "stream",
     "text": [
      "0    0.701\n",
      "dtype: float64\n",
      "0    0.5203\n",
      "dtype: float64\n",
      "0    0.3927\n",
      "dtype: float64\n",
      "\n",
      "0    0.1004\n",
      "dtype: float64\n",
      "0    0.034\n",
      "dtype: float64\n",
      "0    0.0175\n",
      "dtype: float64\n"
     ]
    },
    {
     "data": {
      "image/png": "[encoded data removed]",
      "text/plain": [
       "<Figure size 432x288 with 1 Axes>"
      ]
     },
     "metadata": {
      "needs_background": "light"
     },
     "output_type": "display_data"
    },
    {
     "data": {
      "image/png": "[encoded data removed]",
      "text/plain": [
       "<Figure size 432x288 with 1 Axes>"
      ]
     },
     "metadata": {
      "needs_background": "light"
     },
     "output_type": "display_data"
    }
   ],
   "source": [
    "sample_size = 50\n",
    "\n",
    "pit_pvals = []\n",
    "sq_test_stats = []\n",
    "sqrt3 = np.sqrt(3.0)\n",
    "\n",
    "for _ in range(0,10000):\n",
    "    sample = np.random.uniform(-sqrt3,sqrt3,sample_size)\n",
    "\n",
    "    #ks p-value\n",
    "    pit_pvals.append(stats.kstest(norm.cdf(sample), 'uniform')[1])\n",
    "\n",
    "    alpha_list = np.linspace(.05,.95, 10)\n",
    "\n",
    "   #Square prediction interval test\n",
    "    ct_norms = np.array([])\n",
    "    cts = []\n",
    "    for alpha in alpha_list:\n",
    "        ci =  scipy.stats.norm.interval(alpha, loc=0, scale=1)\n",
    "        ct_alpha = np.mean(1*(sample>ci[0])*(sample<ci[1]))\n",
    "        cts.append(ct_alpha)\n",
    "        ct_norms = np.append(ct_norms,  np.array([np.sqrt(sample_size)*(ct_alpha-alpha)] ))\n",
    "\n",
    "    sq_test_stats.append(np.mean( np.square(ct_norms) ))\n",
    "    \n",
    "pd.DataFrame(sq_test_stats).hist()\n",
    "print( (pd.DataFrame(sq_test_stats) > 0.210113).mean()) \n",
    "print( (pd.DataFrame(sq_test_stats) > 0.343728).mean()) \n",
    "print( (pd.DataFrame(sq_test_stats) > 0.456599).mean()) \n",
    "print()\n",
    "pd.DataFrame(pit_pvals).hist() \n",
    "print( 1*(pd.DataFrame(pit_pvals) > .75).mean())\n",
    "print( 1*(pd.DataFrame(pit_pvals) > .9).mean())\n",
    "print( 1*(pd.DataFrame(pit_pvals) > .95).mean())"
   ]
  },
  {
   "cell_type": "code",
   "execution_count": 239,
   "metadata": {},
   "outputs": [
    {
     "name": "stdout",
     "output_type": "stream",
     "text": [
      "0    0.9044\n",
      "dtype: float64\n",
      "0    0.7858\n",
      "dtype: float64\n",
      "0    0.6786\n",
      "dtype: float64\n",
      "\n",
      "0    0.0351\n",
      "dtype: float64\n",
      "0    0.0078\n",
      "dtype: float64\n",
      "0    0.0029\n",
      "dtype: float64\n"
     ]
    },
    {
     "data": {
      "image/png": "[encoded data removed]",
      "text/plain": [
       "<Figure size 432x288 with 1 Axes>"
      ]
     },
     "metadata": {
      "needs_background": "light"
     },
     "output_type": "display_data"
    },
    {
     "data": {
      "image/png": "[encoded data removed]",
      "text/plain": [
       "<Figure size 432x288 with 1 Axes>"
      ]
     },
     "metadata": {
      "needs_background": "light"
     },
     "output_type": "display_data"
    }
   ],
   "source": [
    "sample_size = 100\n",
    "\n",
    "pit_pvals = []\n",
    "sq_test_stats = []\n",
    "sqrt3 = np.sqrt(3.0)\n",
    "\n",
    "for _ in range(0,10000):\n",
    "    sample = np.random.uniform(-sqrt3,sqrt3,sample_size)\n",
    "\n",
    "    #ks p-value\n",
    "    pit_pvals.append(stats.kstest(norm.cdf(sample), 'uniform')[1])\n",
    "\n",
    "    alpha_list = np.linspace(.05,.95, 10)\n",
    "\n",
    "   #Square prediction interval test\n",
    "    ct_norms = np.array([])\n",
    "    cts = []\n",
    "    for alpha in alpha_list:\n",
    "        ci =  scipy.stats.norm.interval(alpha, loc=0, scale=1)\n",
    "        ct_alpha = np.mean(1*(sample>ci[0])*(sample<ci[1]))\n",
    "        cts.append(ct_alpha)\n",
    "        ct_norms = np.append(ct_norms,  np.array([np.sqrt(sample_size)*(ct_alpha-alpha)] ))\n",
    "\n",
    "    sq_test_stats.append(np.mean( np.square(ct_norms) ))\n",
    "    \n",
    "pd.DataFrame(sq_test_stats).hist()\n",
    "print( (pd.DataFrame(sq_test_stats) > 0.210113).mean()) \n",
    "print( (pd.DataFrame(sq_test_stats) > 0.343728).mean()) \n",
    "print( (pd.DataFrame(sq_test_stats) > 0.456599).mean()) \n",
    "print()\n",
    "pd.DataFrame(pit_pvals).hist() \n",
    "print( 1*(pd.DataFrame(pit_pvals) > .75).mean())\n",
    "print( 1*(pd.DataFrame(pit_pvals) > .9).mean())\n",
    "print( 1*(pd.DataFrame(pit_pvals) > .95).mean())"
   ]
  },
  {
   "cell_type": "markdown",
   "metadata": {},
   "source": [
    "# True data is N(.25, 1.5^2)"
   ]
  },
  {
   "cell_type": "code",
   "execution_count": 240,
   "metadata": {},
   "outputs": [
    {
     "name": "stdout",
     "output_type": "stream",
     "text": [
      "0    0.8945\n",
      "dtype: float64\n",
      "0    0.7849\n",
      "dtype: float64\n",
      "0    0.6906\n",
      "dtype: float64\n",
      "\n",
      "0    0.0259\n",
      "dtype: float64\n",
      "0    0.0057\n",
      "dtype: float64\n",
      "0    0.0019\n",
      "dtype: float64\n"
     ]
    },
    {
     "data": {
      "image/png": "[encoded data removed]",
      "text/plain": [
       "<Figure size 432x288 with 1 Axes>"
      ]
     },
     "metadata": {
      "needs_background": "light"
     },
     "output_type": "display_data"
    },
    {
     "data": {
      "image/png": "[encoded data removed]",
      "text/plain": [
       "<Figure size 432x288 with 1 Axes>"
      ]
     },
     "metadata": {
      "needs_background": "light"
     },
     "output_type": "display_data"
    }
   ],
   "source": [
    "sample_size = 30\n",
    "\n",
    "pit_pvals = []\n",
    "sq_test_stats = []\n",
    "\n",
    "for _ in range(0,10000):\n",
    "    sample = np.random.normal(.25,1.5,sample_size)\n",
    "\n",
    "    #ks p-value\n",
    "    pit_pvals.append(stats.kstest(norm.cdf(sample), 'uniform')[1])\n",
    "\n",
    "    alpha_list = np.linspace(.05,.95, 10)\n",
    "\n",
    "   #Square prediction interval test\n",
    "    ct_norms = np.array([])\n",
    "    cts = []\n",
    "    for alpha in alpha_list:\n",
    "        ci =  scipy.stats.norm.interval(alpha, loc=0, scale=1)\n",
    "        ct_alpha = np.mean(1*(sample>ci[0])*(sample<ci[1]))\n",
    "        cts.append(ct_alpha)\n",
    "        ct_norms = np.append(ct_norms,  np.array([np.sqrt(sample_size)*(ct_alpha-alpha)] ))\n",
    "\n",
    "    sq_test_stats.append(np.mean( np.square(ct_norms) ))\n",
    "    \n",
    "pd.DataFrame(sq_test_stats).hist()\n",
    "print( (pd.DataFrame(sq_test_stats) > 0.210113).mean()) \n",
    "print( (pd.DataFrame(sq_test_stats) > 0.343728).mean()) \n",
    "print( (pd.DataFrame(sq_test_stats) > 0.456599).mean()) \n",
    "print()\n",
    "pd.DataFrame(pit_pvals).hist() \n",
    "print( 1*(pd.DataFrame(pit_pvals) > .75).mean())\n",
    "print( 1*(pd.DataFrame(pit_pvals) > .9).mean())\n",
    "print( 1*(pd.DataFrame(pit_pvals) > .95).mean())"
   ]
  },
  {
   "cell_type": "code",
   "execution_count": 241,
   "metadata": {},
   "outputs": [
    {
     "name": "stdout",
     "output_type": "stream",
     "text": [
      "0    0.977\n",
      "dtype: float64\n",
      "0    0.9375\n",
      "dtype: float64\n",
      "0    0.8885\n",
      "dtype: float64\n",
      "\n",
      "0    0.0055\n",
      "dtype: float64\n",
      "0    0.0009\n",
      "dtype: float64\n",
      "0    0.0003\n",
      "dtype: float64\n"
     ]
    },
    {
     "data": {
      "image/png": "[encoded data removed]",
      "text/plain": [
       "<Figure size 432x288 with 1 Axes>"
      ]
     },
     "metadata": {
      "needs_background": "light"
     },
     "output_type": "display_data"
    },
    {
     "data": {
      "image/png": "[encoded data removed]",
      "text/plain": [
       "<Figure size 432x288 with 1 Axes>"
      ]
     },
     "metadata": {
      "needs_background": "light"
     },
     "output_type": "display_data"
    }
   ],
   "source": [
    "sample_size = 50\n",
    "\n",
    "pit_pvals = []\n",
    "sq_test_stats = []\n",
    "\n",
    "for _ in range(0,10000):\n",
    "    sample = np.random.normal(.25,1.5,sample_size)\n",
    "\n",
    "    #ks p-value\n",
    "    pit_pvals.append(stats.kstest(norm.cdf(sample), 'uniform')[1])\n",
    "\n",
    "    alpha_list = np.linspace(.05,.95, 10)\n",
    "\n",
    "   #Square prediction interval test\n",
    "    ct_norms = np.array([])\n",
    "    cts = []\n",
    "    for alpha in alpha_list:\n",
    "        ci =  scipy.stats.norm.interval(alpha, loc=0, scale=1)\n",
    "        ct_alpha = np.mean(1*(sample>ci[0])*(sample<ci[1]))\n",
    "        cts.append(ct_alpha)\n",
    "        ct_norms = np.append(ct_norms,  np.array([np.sqrt(sample_size)*(ct_alpha-alpha)] ))\n",
    "\n",
    "    sq_test_stats.append(np.mean( np.square(ct_norms) ))\n",
    "    \n",
    "pd.DataFrame(sq_test_stats).hist()\n",
    "print( (pd.DataFrame(sq_test_stats) > 0.210113).mean()) \n",
    "print( (pd.DataFrame(sq_test_stats) > 0.343728).mean()) \n",
    "print( (pd.DataFrame(sq_test_stats) > 0.456599).mean()) \n",
    "print()\n",
    "pd.DataFrame(pit_pvals).hist() \n",
    "print( 1*(pd.DataFrame(pit_pvals) > .75).mean())\n",
    "print( 1*(pd.DataFrame(pit_pvals) > .9).mean())\n",
    "print( 1*(pd.DataFrame(pit_pvals) > .95).mean())"
   ]
  },
  {
   "cell_type": "code",
   "execution_count": 242,
   "metadata": {},
   "outputs": [
    {
     "name": "stdout",
     "output_type": "stream",
     "text": [
      "0    0.9992\n",
      "dtype: float64\n",
      "0    0.997\n",
      "dtype: float64\n",
      "0    0.9936\n",
      "dtype: float64\n",
      "\n",
      "0    0.0002\n",
      "dtype: float64\n",
      "0    0.0\n",
      "dtype: float64\n",
      "0    0.0\n",
      "dtype: float64\n"
     ]
    },
    {
     "data": {
      "image/png": "[encoded data removed]",
      "text/plain": [
       "<Figure size 432x288 with 1 Axes>"
      ]
     },
     "metadata": {
      "needs_background": "light"
     },
     "output_type": "display_data"
    },
    {
     "data": {
      "image/png": "[encoded data removed]",
      "text/plain": [
       "<Figure size 432x288 with 1 Axes>"
      ]
     },
     "metadata": {
      "needs_background": "light"
     },
     "output_type": "display_data"
    }
   ],
   "source": [
    "sample_size = 100\n",
    "\n",
    "pit_pvals = []\n",
    "sq_test_stats = []\n",
    "\n",
    "for _ in range(0,10000):\n",
    "    sample = np.random.normal(.25,1.5,sample_size)\n",
    "\n",
    "    #ks p-value\n",
    "    pit_pvals.append(stats.kstest(norm.cdf(sample), 'uniform')[1])\n",
    "\n",
    "    alpha_list = np.linspace(.05,.95, 10)\n",
    "\n",
    "   #Square prediction interval test\n",
    "    ct_norms = np.array([])\n",
    "    cts = []\n",
    "    for alpha in alpha_list:\n",
    "        ci =  scipy.stats.norm.interval(alpha, loc=0, scale=1)\n",
    "        ct_alpha = np.mean(1*(sample>ci[0])*(sample<ci[1]))\n",
    "        cts.append(ct_alpha)\n",
    "        ct_norms = np.append(ct_norms,  np.array([np.sqrt(sample_size)*(ct_alpha-alpha)] ))\n",
    "\n",
    "    sq_test_stats.append(np.mean( np.square(ct_norms) ))\n",
    "    \n",
    "pd.DataFrame(sq_test_stats).hist()\n",
    "print( (pd.DataFrame(sq_test_stats) > 0.210113).mean()) \n",
    "print( (pd.DataFrame(sq_test_stats) > 0.343728).mean()) \n",
    "print( (pd.DataFrame(sq_test_stats) > 0.456599).mean()) \n",
    "print()\n",
    "pd.DataFrame(pit_pvals).hist() \n",
    "print( 1*(pd.DataFrame(pit_pvals) > .75).mean())\n",
    "print( 1*(pd.DataFrame(pit_pvals) > .9).mean())\n",
    "print( 1*(pd.DataFrame(pit_pvals) > .95).mean())"
   ]
  },
  {
   "cell_type": "markdown",
   "metadata": {},
   "source": [
    "# Illustration"
   ]
  },
  {
   "cell_type": "code",
   "execution_count": 220,
   "metadata": {},
   "outputs": [
    {
     "data": {
      "text/plain": [
       "1.1106668749980493"
      ]
     },
     "execution_count": 220,
     "metadata": {},
     "output_type": "execute_result"
    }
   ],
   "source": [
    "sample_size = 30\n",
    "sample = (np.random.exponential(3, sample_size) -  np.random.exponential(3, sample_size))/np.sqrt(18.0)\n",
    "np.std(sample)"
   ]
  },
  {
   "cell_type": "code",
   "execution_count": 221,
   "metadata": {},
   "outputs": [
    {
     "data": {
      "text/plain": [
       "KstestResult(statistic=0.13817288623972107, pvalue=0.568612189118402)"
      ]
     },
     "execution_count": 221,
     "metadata": {},
     "output_type": "execute_result"
    },
    {
     "data": {
      "image/png": "[encoded data removed]",
      "text/plain": [
       "<Figure size 864x432 with 2 Axes>"
      ]
     },
     "metadata": {
      "needs_background": "light"
     },
     "output_type": "display_data"
    }
   ],
   "source": [
    "fig, [axa,axb] = plt.subplots(1,2, figsize = (12,6))\n",
    "pit = norm.cdf(sample)\n",
    "\n",
    "sample_bin_count = np.linspace(np.min(sample),np.max(sample),10)\n",
    "pd.DataFrame(sample).hist(bins = sample_bin_count, alpha = .75, label = 'sample', ax = axa)\n",
    "axa.set_title('Sample Histogram')\n",
    "\n",
    "pit_bin_count = np.linspace(0,1,10)\n",
    "pd.DataFrame(pit).hist(bins = pit_bin_count, alpha = .25, label = 'sample', ax = axb)\n",
    "axb.set_title('PIT Histogram')\n",
    "\n",
    "stats.kstest(norm.cdf(sample), 'uniform')"
   ]
  },
  {
   "cell_type": "code",
   "execution_count": 227,
   "metadata": {},
   "outputs": [
    {
     "data": {
      "text/plain": [
       "Text(0.5, 1.0, 'Scaled empircal coverage curve')"
      ]
     },
     "execution_count": 227,
     "metadata": {},
     "output_type": "execute_result"
    },
    {
     "data": {
      "image/png": "[encoded data removed]",
      "text/plain": [
       "<Figure size 864x432 with 2 Axes>"
      ]
     },
     "metadata": {
      "needs_background": "light"
     },
     "output_type": "display_data"
    }
   ],
   "source": [
    "fig, [axa,axb] = plt.subplots(1,2, figsize = (12,6))\n",
    "alpha_list = np.linspace(.025,.975, 21)\n",
    "\n",
    "# #Square prediction interval test\n",
    "cts = []\n",
    "for alpha in alpha_list:\n",
    "    ci =  scipy.stats.norm.interval(alpha, loc=0, scale=1)\n",
    "    ct_alpha = np.mean(1*(sample>ci[0])*(sample<ci[1]))\n",
    "    cts.append(ct_alpha)\n",
    "\n",
    "coverage_df = pd.DataFrame({'alpha':alpha_list,'coverage':cts}).set_index('alpha')\n",
    "coverage_df['theoretical'] = alpha_list\n",
    "\n",
    "coverage_df.plot(ax = axa)\n",
    "axa.set_title('Empircal coverage curve for each alpha')\n",
    "\n",
    "coverage_df.apply(lambda s: np.sqrt(sample_size)*(s[0]-s[1])/np.sqrt(s[1]*(1-s[1])), axis = 1).plot(ax = axb)\n",
    "axb.set_title('Scaled empircal coverage curve')"
   ]
  },
  {
   "cell_type": "code",
   "execution_count": 231,
   "metadata": {},
   "outputs": [
    {
     "data": {
      "text/plain": [
       "0.1385"
      ]
     },
     "execution_count": 231,
     "metadata": {},
     "output_type": "execute_result"
    }
   ],
   "source": [
    "np.mean(1*(bb_sq > np.mean( np.square(ct_norms) )))"
   ]
  },
  {
   "cell_type": "code",
   "execution_count": 233,
   "metadata": {},
   "outputs": [
    {
     "data": {
      "text/plain": [
       "0.295"
      ]
     },
     "execution_count": 233,
     "metadata": {},
     "output_type": "execute_result"
    }
   ],
   "source": [
    "np.mean( np.square(ct_norms))"
   ]
  },
  {
   "cell_type": "code",
   "execution_count": null,
   "metadata": {},
   "outputs": [],
   "source": []
  }
 ],
 "metadata": {
  "kernelspec": {
   "display_name": "Python 3",
   "language": "python",
   "name": "python3"
  },
  "language_info": {
   "codemirror_mode": {
    "name": "ipython",
    "version": 3
   },
   "file_extension": ".py",
   "mimetype": "text/x-python",
   "name": "python",
   "nbconvert_exporter": "python",
   "pygments_lexer": "ipython3",
   "version": "3.8.3"
  }
 },
 "nbformat": 4,
 "nbformat_minor": 4
}
