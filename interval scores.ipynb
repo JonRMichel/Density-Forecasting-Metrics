{
 "cells": [
  {
   "cell_type": "code",
   "execution_count": 1,
   "metadata": {},
   "outputs": [],
   "source": [
    "import numpy as np\n",
    "import pandas as pd\n",
    "import matplotlib.pyplot as plt\n",
    "import scipy\n",
    "from scipy.stats import norm\n",
    "from scipy import stats"
   ]
  },
  {
   "cell_type": "code",
   "execution_count": 3,
   "metadata": {},
   "outputs": [],
   "source": [
    "def score(y,lower, upper, prob):\n",
    "    return (upper-lower) + (2/(1-prob))*(max(y-upper,0) + max(lower- y, 0))"
   ]
  },
  {
   "cell_type": "code",
   "execution_count": 149,
   "metadata": {},
   "outputs": [],
   "source": [
    "prob_list = np.linspace(.05,.95,11)\n",
    "sample_size = 25\n",
    "\n",
    "# sample = np.random.normal(.25,1.5,sample_size)\n",
    "sample = np.random.exponential(1,sample_size) - np.random.exponential(1,sample_size)\n",
    "sample = sample/np.std(sample)\n",
    "norm_score_list = []\n",
    "u_score_list = []\n",
    "\n",
    "\n",
    "for prob in prob_list:\n",
    "    ci = scipy.stats.norm.interval(prob, loc=0, scale=1)\n",
    "    upper_dist = np.maximum(sample-  ci[1]*np.ones(sample_size), np.zeros(sample_size))\n",
    "    lower_dist = np.maximum(ci[0]*np.ones(sample_size) - sample, np.zeros(sample_size))\n",
    "    norm_score = (2/(1-prob))*(upper_dist+lower_dist)+(ci[1]-ci[0])\n",
    "    norm_score_list.append(np.mean(norm_score))\n",
    "    \n",
    "    u_ci = scipy.stats.uniform.interval(prob ,loc= -np.sqrt(3), scale = 2*np.sqrt(3) )\n",
    "    u_upper_dist = np.maximum(sample-  u_ci[1]*np.ones(sample_size), np.zeros(sample_size))\n",
    "    u_lower_dist = np.maximum(u_ci[0]*np.ones(sample_size) - sample, np.zeros(sample_size))\n",
    "    u_score = (2/(1-prob))*(u_upper_dist+u_lower_dist)+(u_ci[1]-u_ci[0])\n",
    "    u_score_list.append(np.mean(u_score))"
   ]
  },
  {
   "cell_type": "code",
   "execution_count": 150,
   "metadata": {},
   "outputs": [
    {
     "data": {
      "text/html": [
       "<div>\n",
       "<style scoped>\n",
       "    .dataframe tbody tr th:only-of-type {\n",
       "        vertical-align: middle;\n",
       "    }\n",
       "\n",
       "    .dataframe tbody tr th {\n",
       "        vertical-align: top;\n",
       "    }\n",
       "\n",
       "    .dataframe thead th {\n",
       "        text-align: right;\n",
       "    }\n",
       "</style>\n",
       "<table border=\"1\" class=\"dataframe\">\n",
       "  <thead>\n",
       "    <tr style=\"text-align: right;\">\n",
       "      <th></th>\n",
       "      <th>norm-score</th>\n",
       "      <th>u-score</th>\n",
       "    </tr>\n",
       "    <tr>\n",
       "      <th>prob</th>\n",
       "      <th></th>\n",
       "      <th></th>\n",
       "    </tr>\n",
       "  </thead>\n",
       "  <tbody>\n",
       "    <tr>\n",
       "      <th>0.05</th>\n",
       "      <td>1.773573</td>\n",
       "      <td>1.774490</td>\n",
       "    </tr>\n",
       "    <tr>\n",
       "      <th>0.14</th>\n",
       "      <td>1.929540</td>\n",
       "      <td>1.924510</td>\n",
       "    </tr>\n",
       "    <tr>\n",
       "      <th>0.23</th>\n",
       "      <td>2.083697</td>\n",
       "      <td>2.075728</td>\n",
       "    </tr>\n",
       "    <tr>\n",
       "      <th>0.32</th>\n",
       "      <td>2.241689</td>\n",
       "      <td>2.235937</td>\n",
       "    </tr>\n",
       "    <tr>\n",
       "      <th>0.41</th>\n",
       "      <td>2.412622</td>\n",
       "      <td>2.430237</td>\n",
       "    </tr>\n",
       "    <tr>\n",
       "      <th>0.50</th>\n",
       "      <td>2.610225</td>\n",
       "      <td>2.646068</td>\n",
       "    </tr>\n",
       "    <tr>\n",
       "      <th>0.59</th>\n",
       "      <td>2.852872</td>\n",
       "      <td>2.842655</td>\n",
       "    </tr>\n",
       "    <tr>\n",
       "      <th>0.68</th>\n",
       "      <td>3.074190</td>\n",
       "      <td>3.063081</td>\n",
       "    </tr>\n",
       "    <tr>\n",
       "      <th>0.77</th>\n",
       "      <td>3.334492</td>\n",
       "      <td>3.331094</td>\n",
       "    </tr>\n",
       "    <tr>\n",
       "      <th>0.86</th>\n",
       "      <td>3.674947</td>\n",
       "      <td>3.671012</td>\n",
       "    </tr>\n",
       "    <tr>\n",
       "      <th>0.95</th>\n",
       "      <td>4.005104</td>\n",
       "      <td>4.378577</td>\n",
       "    </tr>\n",
       "  </tbody>\n",
       "</table>\n",
       "</div>"
      ],
      "text/plain": [
       "      norm-score   u-score\n",
       "prob                      \n",
       "0.05    1.773573  1.774490\n",
       "0.14    1.929540  1.924510\n",
       "0.23    2.083697  2.075728\n",
       "0.32    2.241689  2.235937\n",
       "0.41    2.412622  2.430237\n",
       "0.50    2.610225  2.646068\n",
       "0.59    2.852872  2.842655\n",
       "0.68    3.074190  3.063081\n",
       "0.77    3.334492  3.331094\n",
       "0.86    3.674947  3.671012\n",
       "0.95    4.005104  4.378577"
      ]
     },
     "execution_count": 150,
     "metadata": {},
     "output_type": "execute_result"
    }
   ],
   "source": [
    "pd.DataFrame({'prob':prob_list, 'norm-score':norm_score_list, 'u-score':u_score_list}).set_index('prob')"
   ]
  },
  {
   "cell_type": "code",
   "execution_count": 151,
   "metadata": {},
   "outputs": [
    {
     "data": {
      "text/plain": [
       "<matplotlib.axes._subplots.AxesSubplot at 0x26eaaf3a6a0>"
      ]
     },
     "execution_count": 151,
     "metadata": {},
     "output_type": "execute_result"
    },
    {
     "data": {
      "image/png": "[encoded data removed]",
      "text/plain": [
       "<Figure size 432x288 with 1 Axes>"
      ]
     },
     "metadata": {
      "needs_background": "light"
     },
     "output_type": "display_data"
    }
   ],
   "source": [
    "data_score_df = pd.DataFrame({'prob':prob_list, 'norm-score':norm_score_list, 'u-score':u_score_list}).set_index('prob')\n",
    "data_score_df.plot()"
   ]
  },
  {
   "cell_type": "code",
   "execution_count": 152,
   "metadata": {},
   "outputs": [],
   "source": [
    "#Confidence intervals around true normals\n",
    "prob_list = np.linspace(.05,.95,11)\n",
    "sample_size = 25\n",
    "outcome_df = pd.DataFrame(columns = prob_list)\n",
    "\n",
    "for i in range(0,1000):\n",
    "    sample = np.random.normal(0,1,sample_size)\n",
    "    norm_score_list = []\n",
    "\n",
    "\n",
    "    for prob in prob_list:\n",
    "        ci = scipy.stats.norm.interval(prob, loc=0, scale=1)\n",
    "        upper_dist = np.maximum(sample-  ci[1]*np.ones(sample_size), np.zeros(sample_size))\n",
    "        lower_dist = np.maximum(ci[0]*np.ones(sample_size) - sample, np.zeros(sample_size))\n",
    "        norm_score = (2/(1-prob))*(upper_dist+lower_dist)+(ci[1]-ci[0])\n",
    "        norm_score_list.append(np.mean(norm_score))\n",
    "    outcome_df.loc[i]=norm_score_list"
   ]
  },
  {
   "cell_type": "code",
   "execution_count": 154,
   "metadata": {},
   "outputs": [
    {
     "data": {
      "text/plain": [
       "<matplotlib.legend.Legend at 0x26ea9231100>"
      ]
     },
     "execution_count": 154,
     "metadata": {},
     "output_type": "execute_result"
    },
    {
     "data": {
      "image/png": "[encoded data removed]",
      "text/plain": [
       "<Figure size 864x288 with 1 Axes>"
      ]
     },
     "metadata": {
      "needs_background": "light"
     },
     "output_type": "display_data"
    }
   ],
   "source": [
    "fig, ax = plt.subplots(figsize = (12,4))\n",
    "theoretical_df = pd.pivot_table(outcome_df.quantile([.1,.5,.9]).reset_index(),columns = 'index')\n",
    "theoretical_df.plot(ax = ax, linewidth =2, color = ['red','black','yellow'])\n",
    "data_score_df.plot(ax = ax, color = ['blue','green'])\n",
    "\n",
    "ax.legend([.1,.5,.9,'normal_ci','uniform_ci'])"
   ]
  },
  {
   "cell_type": "code",
   "execution_count": 160,
   "metadata": {},
   "outputs": [
    {
     "data": {
      "text/plain": [
       "index\n",
       "0.1    3.080700\n",
       "0.5    3.732842\n",
       "0.9    4.623192\n",
       "Name: 0.86, dtype: float64"
      ]
     },
     "execution_count": 160,
     "metadata": {},
     "output_type": "execute_result"
    }
   ],
   "source": [
    "theoretical_df.loc[.86]"
   ]
  },
  {
   "cell_type": "code",
   "execution_count": 161,
   "metadata": {},
   "outputs": [
    {
     "data": {
      "text/plain": [
       "norm-score    3.674947\n",
       "u-score       3.671012\n",
       "Name: 0.86, dtype: float64"
      ]
     },
     "execution_count": 161,
     "metadata": {},
     "output_type": "execute_result"
    }
   ],
   "source": [
    "data_score_df.loc[.86]"
   ]
  },
  {
   "cell_type": "code",
   "execution_count": null,
   "metadata": {},
   "outputs": [],
   "source": []
  }
 ],
 "metadata": {
  "kernelspec": {
   "display_name": "Python 3",
   "language": "python",
   "name": "python3"
  },
  "language_info": {
   "codemirror_mode": {
    "name": "ipython",
    "version": 3
   },
   "file_extension": ".py",
   "mimetype": "text/x-python",
   "name": "python",
   "nbconvert_exporter": "python",
   "pygments_lexer": "ipython3",
   "version": "3.8.3"
  }
 },
 "nbformat": 4,
 "nbformat_minor": 4
}
