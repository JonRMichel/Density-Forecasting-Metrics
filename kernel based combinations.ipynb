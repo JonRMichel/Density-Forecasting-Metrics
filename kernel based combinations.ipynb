{
 "cells": [
  {
   "cell_type": "code",
   "execution_count": 46,
   "metadata": {},
   "outputs": [],
   "source": [
    "import numpy as np\n",
    "import pandas as pd\n",
    "import scipy\n",
    "from scipy.stats import norm\n",
    "from scipy import stats\n",
    "from statsmodels.tsa.arima.model import ARIMA\n",
    "from statsmodels.tsa.api import ExponentialSmoothing, SimpleExpSmoothing, Holt\n",
    "import matplotlib.pyplot as plt"
   ]
  },
  {
   "cell_type": "code",
   "execution_count": 164,
   "metadata": {},
   "outputs": [
    {
     "data": {
      "text/html": [
       "<div>\n",
       "<style scoped>\n",
       "    .dataframe tbody tr th:only-of-type {\n",
       "        vertical-align: middle;\n",
       "    }\n",
       "\n",
       "    .dataframe tbody tr th {\n",
       "        vertical-align: top;\n",
       "    }\n",
       "\n",
       "    .dataframe thead th {\n",
       "        text-align: right;\n",
       "    }\n",
       "</style>\n",
       "<table border=\"1\" class=\"dataframe\">\n",
       "  <thead>\n",
       "    <tr style=\"text-align: right;\">\n",
       "      <th></th>\n",
       "      <th>observation_date</th>\n",
       "      <th>AISRSA</th>\n",
       "    </tr>\n",
       "  </thead>\n",
       "  <tbody>\n",
       "    <tr>\n",
       "      <th>0</th>\n",
       "      <td>1993-01-01</td>\n",
       "      <td>2.433</td>\n",
       "    </tr>\n",
       "    <tr>\n",
       "      <th>1</th>\n",
       "      <td>1993-02-01</td>\n",
       "      <td>2.760</td>\n",
       "    </tr>\n",
       "    <tr>\n",
       "      <th>2</th>\n",
       "      <td>1993-03-01</td>\n",
       "      <td>2.695</td>\n",
       "    </tr>\n",
       "    <tr>\n",
       "      <th>3</th>\n",
       "      <td>1993-04-01</td>\n",
       "      <td>2.487</td>\n",
       "    </tr>\n",
       "    <tr>\n",
       "      <th>4</th>\n",
       "      <td>1993-05-01</td>\n",
       "      <td>2.513</td>\n",
       "    </tr>\n",
       "  </tbody>\n",
       "</table>\n",
       "</div>"
      ],
      "text/plain": [
       "  observation_date  AISRSA\n",
       "0       1993-01-01   2.433\n",
       "1       1993-02-01   2.760\n",
       "2       1993-03-01   2.695\n",
       "3       1993-04-01   2.487\n",
       "4       1993-05-01   2.513"
      ]
     },
     "execution_count": 164,
     "metadata": {},
     "output_type": "execute_result"
    }
   ],
   "source": [
    "# data = pd.read_excel('C:/Users/michelj8/Documents/Github/data_sets/house_supply.xlsx', sheet_name = 'data')\n",
    "data = pd.read_excel('C:/Users/michelj8/Documents/Github/data_sets/AISRSA.xlsx', sheet_name = 'data')\n",
    "data.head()"
   ]
  },
  {
   "cell_type": "code",
   "execution_count": 165,
   "metadata": {},
   "outputs": [
    {
     "data": {
      "text/plain": [
       "<matplotlib.axes._subplots.AxesSubplot at 0xd434178>"
      ]
     },
     "execution_count": 165,
     "metadata": {},
     "output_type": "execute_result"
    },
    {
     "data": {
      "image/png": "[encoded data removed]",
      "text/plain": [
       "<Figure size 432x288 with 1 Axes>"
      ]
     },
     "metadata": {
      "needs_background": "light"
     },
     "output_type": "display_data"
    }
   ],
   "source": [
    "# ts = data['MSACSR']\n",
    "ts = data['AISRSA']\n",
    "pd.DataFrame(ts).plot()"
   ]
  },
  {
   "cell_type": "markdown",
   "metadata": {},
   "source": [
    "# Fit Models"
   ]
  },
  {
   "cell_type": "code",
   "execution_count": 166,
   "metadata": {},
   "outputs": [
    {
     "name": "stdout",
     "output_type": "stream",
     "text": [
      "                               SARIMAX Results                                \n",
      "==============================================================================\n",
      "Dep. Variable:                 AISRSA   No. Observations:                  332\n",
      "Model:                 ARIMA(1, 0, 0)   Log Likelihood                  42.518\n",
      "Date:                Mon, 12 Oct 2020   AIC                            -79.036\n",
      "Time:                        14:14:04   BIC                            -67.621\n",
      "Sample:                             0   HQIC                           -74.484\n",
      "                                - 332                                         \n",
      "Covariance Type:                  opg                                         \n",
      "==============================================================================\n",
      "                 coef    std err          z      P>|z|      [0.025      0.975]\n",
      "------------------------------------------------------------------------------\n",
      "const          2.4970      0.068     36.936      0.000       2.364       2.629\n",
      "ar.L1          0.8201      0.017     47.593      0.000       0.786       0.854\n",
      "sigma2         0.0452      0.002     28.968      0.000       0.042       0.048\n",
      "===================================================================================\n",
      "Ljung-Box (Q):                       30.58   Jarque-Bera (JB):               992.86\n",
      "Prob(Q):                              0.86   Prob(JB):                         0.00\n",
      "Heteroskedasticity (H):               1.30   Skew:                             0.02\n",
      "Prob(H) (two-sided):                  0.17   Kurtosis:                        11.47\n",
      "===================================================================================\n",
      "\n",
      "Warnings:\n",
      "[1] Covariance matrix calculated using the outer product of gradients (complex-step).\n"
     ]
    }
   ],
   "source": [
    "arma_model = ARIMA(ts, order=(1, 0, 0)).fit()\n",
    "print(arma_model.summary())"
   ]
  },
  {
   "cell_type": "code",
   "execution_count": 167,
   "metadata": {},
   "outputs": [
    {
     "name": "stdout",
     "output_type": "stream",
     "text": [
      "                       SimpleExpSmoothing Model Results                       \n",
      "==============================================================================\n",
      "Dep. Variable:                  endog   No. Observations:                  332\n",
      "Model:             SimpleExpSmoothing   SSE                             16.379\n",
      "Optimized:                       True   AIC                           -995.026\n",
      "Trend:                           None   BIC                           -987.415\n",
      "Seasonal:                        None   AICC                          -994.903\n",
      "Seasonal Periods:                None   Date:                 Mon, 12 Oct 2020\n",
      "Box-Cox:                        False   Time:                         14:14:06\n",
      "Box-Cox Coeff.:                  None                                         \n",
      "==============================================================================\n",
      "                       coeff                 code              optimized      \n",
      "------------------------------------------------------------------------------\n",
      "smoothing_level            0.9296283                alpha                 True\n",
      "initial_level              2.4556229                  l.0                 True\n",
      "------------------------------------------------------------------------------\n"
     ]
    },
    {
     "name": "stderr",
     "output_type": "stream",
     "text": [
      "C:\\Users\\michelj8\\Anaconda3\\lib\\site-packages\\statsmodels\\tsa\\holtwinters.py:731: RuntimeWarning: invalid value encountered in greater_equal\n",
      "  loc = initial_p >= ub\n"
     ]
    }
   ],
   "source": [
    "ses_model = SimpleExpSmoothing(ts).fit()\n",
    "print( ses_model.summary())"
   ]
  },
  {
   "cell_type": "code",
   "execution_count": 168,
   "metadata": {},
   "outputs": [
    {
     "name": "stdout",
     "output_type": "stream",
     "text": [
      "59.042837631389254\n",
      "75.52182582636786\n"
     ]
    },
    {
     "data": {
      "image/png": "[encoded data removed]",
      "text/plain": [
       "<Figure size 864x432 with 1 Axes>"
      ]
     },
     "metadata": {
      "needs_background": "light"
     },
     "output_type": "display_data"
    }
   ],
   "source": [
    "fig, ax = plt.subplots(figsize = (12,6))\n",
    "bin_count = 50\n",
    "\n",
    "# index_forecast = len(ts)\n",
    "index_forecast = 255\n",
    "\n",
    "ar_mean = list(arma_model.predict(index_forecast))[0]\n",
    "ar_std = np.sqrt(arma_model.params[2])\n",
    "ar_forecast = np.random.normal(ar_mean,ar_std,1000)\n",
    "\n",
    "ses_mean = list(ses_model.predict(index_forecast))[0]\n",
    "ses_std =  np.sqrt(ses_model.sse/len(ts))\n",
    "ses_forecast = np.random.normal(ses_mean, ses_std, 1000)\n",
    "\n",
    "actual = ts[index_forecast+1]\n",
    "combined_forecast = .5*(ses_forecast + ar_forecast)\n",
    "\n",
    "pd.DataFrame(ar_forecast).hist(bins = bin_count, alpha = .5, label = 'ar', ax = ax)\n",
    "pd.DataFrame(ses_forecast).hist(bins = bin_count, alpha = .5,label = 'ses', ax = ax)\n",
    "pd.DataFrame(combined_forecast).hist(bins = bin_count, alpha = .5,label = 'combo', ax = ax)\n",
    "plt.legend(loc='upper right')\n",
    "\n",
    "\n",
    "print( np.sum(np.square(ar_forecast-actual)))\n",
    "print( np.sum(np.square(ses_forecast-actual)))\n",
    "# print( np.sum(np.square(combined_forecast-actual)))"
   ]
  },
  {
   "cell_type": "code",
   "execution_count": 169,
   "metadata": {},
   "outputs": [
    {
     "data": {
      "text/html": [
       "<div>\n",
       "<style scoped>\n",
       "    .dataframe tbody tr th:only-of-type {\n",
       "        vertical-align: middle;\n",
       "    }\n",
       "\n",
       "    .dataframe tbody tr th {\n",
       "        vertical-align: top;\n",
       "    }\n",
       "\n",
       "    .dataframe thead th {\n",
       "        text-align: right;\n",
       "    }\n",
       "</style>\n",
       "<table border=\"1\" class=\"dataframe\">\n",
       "  <thead>\n",
       "    <tr style=\"text-align: right;\">\n",
       "      <th></th>\n",
       "      <th>ar_pct</th>\n",
       "      <th>ses_pct</th>\n",
       "      <th>combo_pct</th>\n",
       "      <th>theory</th>\n",
       "    </tr>\n",
       "    <tr>\n",
       "      <th>alpha</th>\n",
       "      <th></th>\n",
       "      <th></th>\n",
       "      <th></th>\n",
       "      <th></th>\n",
       "    </tr>\n",
       "  </thead>\n",
       "  <tbody>\n",
       "    <tr>\n",
       "      <th>0.010000</th>\n",
       "      <td>0.006024</td>\n",
       "      <td>0.018072</td>\n",
       "      <td>0.009036</td>\n",
       "      <td>0.010000</td>\n",
       "    </tr>\n",
       "    <tr>\n",
       "      <th>0.118889</th>\n",
       "      <td>0.132530</td>\n",
       "      <td>0.120482</td>\n",
       "      <td>0.090361</td>\n",
       "      <td>0.118889</td>\n",
       "    </tr>\n",
       "    <tr>\n",
       "      <th>0.227778</th>\n",
       "      <td>0.246988</td>\n",
       "      <td>0.246988</td>\n",
       "      <td>0.156627</td>\n",
       "      <td>0.227778</td>\n",
       "    </tr>\n",
       "    <tr>\n",
       "      <th>0.336667</th>\n",
       "      <td>0.388554</td>\n",
       "      <td>0.382530</td>\n",
       "      <td>0.262048</td>\n",
       "      <td>0.336667</td>\n",
       "    </tr>\n",
       "    <tr>\n",
       "      <th>0.445556</th>\n",
       "      <td>0.512048</td>\n",
       "      <td>0.530120</td>\n",
       "      <td>0.382530</td>\n",
       "      <td>0.445556</td>\n",
       "    </tr>\n",
       "    <tr>\n",
       "      <th>0.554444</th>\n",
       "      <td>0.629518</td>\n",
       "      <td>0.623494</td>\n",
       "      <td>0.475904</td>\n",
       "      <td>0.554444</td>\n",
       "    </tr>\n",
       "    <tr>\n",
       "      <th>0.663333</th>\n",
       "      <td>0.713855</td>\n",
       "      <td>0.719880</td>\n",
       "      <td>0.572289</td>\n",
       "      <td>0.663333</td>\n",
       "    </tr>\n",
       "    <tr>\n",
       "      <th>0.772222</th>\n",
       "      <td>0.813253</td>\n",
       "      <td>0.801205</td>\n",
       "      <td>0.665663</td>\n",
       "      <td>0.772222</td>\n",
       "    </tr>\n",
       "    <tr>\n",
       "      <th>0.881111</th>\n",
       "      <td>0.879518</td>\n",
       "      <td>0.870482</td>\n",
       "      <td>0.768072</td>\n",
       "      <td>0.881111</td>\n",
       "    </tr>\n",
       "    <tr>\n",
       "      <th>0.990000</th>\n",
       "      <td>0.945783</td>\n",
       "      <td>0.951807</td>\n",
       "      <td>0.909639</td>\n",
       "      <td>0.990000</td>\n",
       "    </tr>\n",
       "  </tbody>\n",
       "</table>\n",
       "</div>"
      ],
      "text/plain": [
       "            ar_pct   ses_pct  combo_pct    theory\n",
       "alpha                                            \n",
       "0.010000  0.006024  0.018072   0.009036  0.010000\n",
       "0.118889  0.132530  0.120482   0.090361  0.118889\n",
       "0.227778  0.246988  0.246988   0.156627  0.227778\n",
       "0.336667  0.388554  0.382530   0.262048  0.336667\n",
       "0.445556  0.512048  0.530120   0.382530  0.445556\n",
       "0.554444  0.629518  0.623494   0.475904  0.554444\n",
       "0.663333  0.713855  0.719880   0.572289  0.663333\n",
       "0.772222  0.813253  0.801205   0.665663  0.772222\n",
       "0.881111  0.879518  0.870482   0.768072  0.881111\n",
       "0.990000  0.945783  0.951807   0.909639  0.990000"
      ]
     },
     "execution_count": 169,
     "metadata": {},
     "output_type": "execute_result"
    },
    {
     "data": {
      "image/png": "[encoded data removed]",
      "text/plain": [
       "<Figure size 432x288 with 1 Axes>"
      ]
     },
     "metadata": {
      "needs_background": "light"
     },
     "output_type": "display_data"
    }
   ],
   "source": [
    "coverage_df = pd.DataFrame(columns = ['alpha','ar_pct', 'ses_pct', 'combo_pct','theory']).set_index('alpha')\n",
    "alpha_list = np.linspace(.01,.99,10)\n",
    "\n",
    "for alpha in alpha_list:\n",
    "    coverage_df.loc[alpha] = 0.0\n",
    "\n",
    "for time in range(1,len(ts)-1):\n",
    "# for time in range(1, 10):\n",
    "    actual = ts[time+1]\n",
    "    ar_mean = list(arma_model.predict(time))[0]\n",
    "    ar_std = np.sqrt(arma_model.params[2])\n",
    "\n",
    "    ses_mean = list(ses_model.predict(time))[0]\n",
    "    ses_std =  np.sqrt(ses_model.sse/len(ts))\n",
    "\n",
    "    combo_mean = .5*(ar_mean + ses_mean)\n",
    "    combo_std = np.sqrt(.25*np.square(ar_std)+.25*np.square(ses_std) )\n",
    "    \n",
    "    for alpha in alpha_list:\n",
    "        ar_ci = scipy.stats.norm.interval(alpha, loc=ar_mean, scale=ar_std)\n",
    "        ses_ci = scipy.stats.norm.interval(alpha, loc=ses_mean, scale=ses_std)\n",
    "        combo_ci = scipy.stats.norm.interval(alpha, loc=combo_mean, scale=combo_std)\n",
    "        \n",
    "        coverage_df.loc[alpha] = coverage_df.loc[alpha] + [1*(actual > ar_ci[0])*(actual<ar_ci[1]),\n",
    "                                                           1*(actual > ses_ci[0])*(actual<ses_ci[1]),\n",
    "                                                           1*(actual > combo_ci[0])*(actual<combo_ci[1]),\n",
    "                                                           1]\n",
    "        \n",
    "        \n",
    "coverage_df = coverage_df.div(len(ts))\n",
    "coverage_df['theory'] = alpha_list\n",
    "coverage_df.plot()\n",
    "coverage_df"
   ]
  },
  {
   "cell_type": "code",
   "execution_count": 170,
   "metadata": {},
   "outputs": [
    {
     "data": {
      "text/plain": [
       "<matplotlib.axes._subplots.AxesSubplot at 0xd6b6fa0>"
      ]
     },
     "execution_count": 170,
     "metadata": {},
     "output_type": "execute_result"
    },
    {
     "data": {
      "image/png": "[encoded data removed]",
      "text/plain": [
       "<Figure size 432x288 with 1 Axes>"
      ]
     },
     "metadata": {
      "needs_background": "light"
     },
     "output_type": "display_data"
    }
   ],
   "source": [
    "coverage_df.drop('combo_pct', axis = 1).plot()"
   ]
  },
  {
   "cell_type": "code",
   "execution_count": 171,
   "metadata": {},
   "outputs": [
    {
     "name": "stdout",
     "output_type": "stream",
     "text": [
      "0.01951423632952158\n",
      "0.02006838061751693\n"
     ]
    }
   ],
   "source": [
    "print( np.sum(np.square(coverage_df['ar_pct']-coverage_df['theory'])) )\n",
    "print( np.sum(np.square(coverage_df['ses_pct']-coverage_df['theory'])) )"
   ]
  },
  {
   "cell_type": "code",
   "execution_count": 193,
   "metadata": {},
   "outputs": [
    {
     "data": {
      "text/plain": [
       "0.2661182647847931"
      ]
     },
     "execution_count": 193,
     "metadata": {},
     "output_type": "execute_result"
    }
   ],
   "source": [
    "np.dot( (coverage_df['ses_pct']-coverage_df['theory']).values  ,np.exp(-(np.square(coverage_df.index.values - .5))) )"
   ]
  },
  {
   "cell_type": "code",
   "execution_count": 194,
   "metadata": {},
   "outputs": [
    {
     "data": {
      "text/plain": [
       "0.2693125708510817"
      ]
     },
     "execution_count": 194,
     "metadata": {},
     "output_type": "execute_result"
    }
   ],
   "source": [
    "np.dot( (coverage_df['ar_pct']-coverage_df['theory']).values  ,np.exp(-(np.square(coverage_df.index.values - .5))) )"
   ]
  },
  {
   "cell_type": "code",
   "execution_count": null,
   "metadata": {},
   "outputs": [],
   "source": []
  }
 ],
 "metadata": {
  "kernelspec": {
   "display_name": "Python 3",
   "language": "python",
   "name": "python3"
  },
  "language_info": {
   "codemirror_mode": {
    "name": "ipython",
    "version": 3
   },
   "file_extension": ".py",
   "mimetype": "text/x-python",
   "name": "python",
   "nbconvert_exporter": "python",
   "pygments_lexer": "ipython3",
   "version": "3.8.3"
  }
 },
 "nbformat": 4,
 "nbformat_minor": 4
}
