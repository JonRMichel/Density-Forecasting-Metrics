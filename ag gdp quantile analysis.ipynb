{
 "cells": [
  {
   "cell_type": "code",
   "execution_count": 1,
   "metadata": {},
   "outputs": [],
   "source": [
    "import numpy as np\n",
    "import pandas as pd\n",
    "import scipy\n",
    "from scipy.stats import norm\n",
    "from scipy import stats\n",
    "from statsmodels.tsa.arima.model import ARIMA\n",
    "from statsmodels.tsa.api import ExponentialSmoothing, SimpleExpSmoothing, Holt\n",
    "import matplotlib.pyplot as plt\n",
    "import statsmodels.api as sm\n",
    "import statsmodels.formula.api as smf"
   ]
  },
  {
   "cell_type": "code",
   "execution_count": 2,
   "metadata": {},
   "outputs": [],
   "source": [
    "prob_list = np.linspace(.01,.99,22)"
   ]
  },
  {
   "cell_type": "code",
   "execution_count": 7,
   "metadata": {},
   "outputs": [
    {
     "data": {
      "text/html": [
       "<div>\n",
       "<style scoped>\n",
       "    .dataframe tbody tr th:only-of-type {\n",
       "        vertical-align: middle;\n",
       "    }\n",
       "\n",
       "    .dataframe tbody tr th {\n",
       "        vertical-align: top;\n",
       "    }\n",
       "\n",
       "    .dataframe thead th {\n",
       "        text-align: right;\n",
       "    }\n",
       "</style>\n",
       "<table border=\"1\" class=\"dataframe\">\n",
       "  <thead>\n",
       "    <tr style=\"text-align: right;\">\n",
       "      <th></th>\n",
       "      <th>index</th>\n",
       "      <th>observation_date</th>\n",
       "      <th>B359RC1Q027SBEA</th>\n",
       "    </tr>\n",
       "  </thead>\n",
       "  <tbody>\n",
       "    <tr>\n",
       "      <th>0</th>\n",
       "      <td>49</td>\n",
       "      <td>1959-04-01</td>\n",
       "      <td>16.939</td>\n",
       "    </tr>\n",
       "    <tr>\n",
       "      <th>1</th>\n",
       "      <td>50</td>\n",
       "      <td>1959-07-01</td>\n",
       "      <td>16.715</td>\n",
       "    </tr>\n",
       "    <tr>\n",
       "      <th>2</th>\n",
       "      <td>51</td>\n",
       "      <td>1959-10-01</td>\n",
       "      <td>17.561</td>\n",
       "    </tr>\n",
       "    <tr>\n",
       "      <th>3</th>\n",
       "      <td>52</td>\n",
       "      <td>1960-01-01</td>\n",
       "      <td>17.014</td>\n",
       "    </tr>\n",
       "    <tr>\n",
       "      <th>4</th>\n",
       "      <td>53</td>\n",
       "      <td>1960-04-01</td>\n",
       "      <td>17.973</td>\n",
       "    </tr>\n",
       "  </tbody>\n",
       "</table>\n",
       "</div>"
      ],
      "text/plain": [
       "   index observation_date  B359RC1Q027SBEA\n",
       "0     49       1959-04-01           16.939\n",
       "1     50       1959-07-01           16.715\n",
       "2     51       1959-10-01           17.561\n",
       "3     52       1960-01-01           17.014\n",
       "4     53       1960-04-01           17.973"
      ]
     },
     "execution_count": 7,
     "metadata": {},
     "output_type": "execute_result"
    }
   ],
   "source": [
    "data = pd.read_excel('C:/Users/michelj8/Documents/Github/data_sets/farm_gdp.xls', sheet_name = 'data')\n",
    "data = data.query('observation_date < 2020 & observation_date > 1959')\n",
    "data = data.dropna().reset_index()\n",
    "column_name = data.columns[-1]\n",
    "data.head()"
   ]
  },
  {
   "cell_type": "code",
   "execution_count": 9,
   "metadata": {},
   "outputs": [
    {
     "name": "stderr",
     "output_type": "stream",
     "text": [
      "<ipython-input-9-3d0daeaa7b11>:3: SettingWithCopyWarning: \n",
      "A value is trying to be set on a copy of a slice from a DataFrame.\n",
      "Try using .loc[row_indexer,col_indexer] = value instead\n",
      "\n",
      "See the caveats in the documentation: https://pandas.pydata.org/pandas-docs/stable/user_guide/indexing.html#returning-a-view-versus-a-copy\n",
      "  ts['log'] = np.log(ts['level'])\n"
     ]
    },
    {
     "data": {
      "text/plain": [
       "<matplotlib.axes._subplots.AxesSubplot at 0x16397f64400>"
      ]
     },
     "execution_count": 9,
     "metadata": {},
     "output_type": "execute_result"
    },
    {
     "data": {
      "image/png": "[encoded data removed]",
      "text/plain": [
       "<Figure size 432x288 with 1 Axes>"
      ]
     },
     "metadata": {
      "needs_background": "light"
     },
     "output_type": "display_data"
    }
   ],
   "source": [
    "ts = data[[column_name]]\n",
    "ts.columns = ['level']\n",
    "ts['log'] = np.log(ts['level'])\n",
    "ts['log'].plot()"
   ]
  },
  {
   "cell_type": "code",
   "execution_count": 10,
   "metadata": {},
   "outputs": [
    {
     "data": {
      "text/html": [
       "<div>\n",
       "<style scoped>\n",
       "    .dataframe tbody tr th:only-of-type {\n",
       "        vertical-align: middle;\n",
       "    }\n",
       "\n",
       "    .dataframe tbody tr th {\n",
       "        vertical-align: top;\n",
       "    }\n",
       "\n",
       "    .dataframe thead th {\n",
       "        text-align: right;\n",
       "    }\n",
       "</style>\n",
       "<table border=\"1\" class=\"dataframe\">\n",
       "  <thead>\n",
       "    <tr style=\"text-align: right;\">\n",
       "      <th></th>\n",
       "      <th>level</th>\n",
       "      <th>log</th>\n",
       "      <th>log_dif</th>\n",
       "      <th>lag_log_dif</th>\n",
       "      <th>4_ldif</th>\n",
       "    </tr>\n",
       "  </thead>\n",
       "  <tbody>\n",
       "    <tr>\n",
       "      <th>4</th>\n",
       "      <td>17.973</td>\n",
       "      <td>2.888871</td>\n",
       "      <td>0.054834</td>\n",
       "      <td>-0.031644</td>\n",
       "      <td>0.059252</td>\n",
       "    </tr>\n",
       "    <tr>\n",
       "      <th>5</th>\n",
       "      <td>18.578</td>\n",
       "      <td>2.921978</td>\n",
       "      <td>0.033107</td>\n",
       "      <td>0.054834</td>\n",
       "      <td>0.105672</td>\n",
       "    </tr>\n",
       "    <tr>\n",
       "      <th>6</th>\n",
       "      <td>19.118</td>\n",
       "      <td>2.950630</td>\n",
       "      <td>0.028652</td>\n",
       "      <td>0.033107</td>\n",
       "      <td>0.084950</td>\n",
       "    </tr>\n",
       "    <tr>\n",
       "      <th>7</th>\n",
       "      <td>19.048</td>\n",
       "      <td>2.946962</td>\n",
       "      <td>-0.003668</td>\n",
       "      <td>0.028652</td>\n",
       "      <td>0.112926</td>\n",
       "    </tr>\n",
       "    <tr>\n",
       "      <th>8</th>\n",
       "      <td>17.658</td>\n",
       "      <td>2.871189</td>\n",
       "      <td>-0.075773</td>\n",
       "      <td>-0.003668</td>\n",
       "      <td>-0.017682</td>\n",
       "    </tr>\n",
       "    <tr>\n",
       "      <th>...</th>\n",
       "      <td>...</td>\n",
       "      <td>...</td>\n",
       "      <td>...</td>\n",
       "      <td>...</td>\n",
       "      <td>...</td>\n",
       "    </tr>\n",
       "    <tr>\n",
       "      <th>238</th>\n",
       "      <td>137.947</td>\n",
       "      <td>4.926870</td>\n",
       "      <td>0.026622</td>\n",
       "      <td>-0.083298</td>\n",
       "      <td>0.018799</td>\n",
       "    </tr>\n",
       "    <tr>\n",
       "      <th>239</th>\n",
       "      <td>131.887</td>\n",
       "      <td>4.881945</td>\n",
       "      <td>-0.044924</td>\n",
       "      <td>0.026622</td>\n",
       "      <td>-0.079668</td>\n",
       "    </tr>\n",
       "    <tr>\n",
       "      <th>240</th>\n",
       "      <td>133.749</td>\n",
       "      <td>4.895965</td>\n",
       "      <td>0.014019</td>\n",
       "      <td>-0.044924</td>\n",
       "      <td>-0.087580</td>\n",
       "    </tr>\n",
       "    <tr>\n",
       "      <th>241</th>\n",
       "      <td>138.616</td>\n",
       "      <td>4.931708</td>\n",
       "      <td>0.035743</td>\n",
       "      <td>0.014019</td>\n",
       "      <td>0.031460</td>\n",
       "    </tr>\n",
       "    <tr>\n",
       "      <th>242</th>\n",
       "      <td>140.069</td>\n",
       "      <td>4.942135</td>\n",
       "      <td>0.010428</td>\n",
       "      <td>0.035743</td>\n",
       "      <td>0.015266</td>\n",
       "    </tr>\n",
       "  </tbody>\n",
       "</table>\n",
       "<p>239 rows × 5 columns</p>\n",
       "</div>"
      ],
      "text/plain": [
       "       level       log   log_dif  lag_log_dif    4_ldif\n",
       "4     17.973  2.888871  0.054834    -0.031644  0.059252\n",
       "5     18.578  2.921978  0.033107     0.054834  0.105672\n",
       "6     19.118  2.950630  0.028652     0.033107  0.084950\n",
       "7     19.048  2.946962 -0.003668     0.028652  0.112926\n",
       "8     17.658  2.871189 -0.075773    -0.003668 -0.017682\n",
       "..       ...       ...       ...          ...       ...\n",
       "238  137.947  4.926870  0.026622    -0.083298  0.018799\n",
       "239  131.887  4.881945 -0.044924     0.026622 -0.079668\n",
       "240  133.749  4.895965  0.014019    -0.044924 -0.087580\n",
       "241  138.616  4.931708  0.035743     0.014019  0.031460\n",
       "242  140.069  4.942135  0.010428     0.035743  0.015266\n",
       "\n",
       "[239 rows x 5 columns]"
      ]
     },
     "execution_count": 10,
     "metadata": {},
     "output_type": "execute_result"
    }
   ],
   "source": [
    "ts['log_dif'] = ts['log'].diff(1)\n",
    "ts['lag_log_dif'] = ts['log_dif'].shift(1)\n",
    "ts['4_ldif'] = ts['log'].diff(4)\n",
    "ts = ts.dropna()\n",
    "ts"
   ]
  },
  {
   "cell_type": "markdown",
   "metadata": {},
   "source": [
    "# 1 step ahead qunatile estimation"
   ]
  },
  {
   "cell_type": "code",
   "execution_count": 11,
   "metadata": {},
   "outputs": [
    {
     "name": "stderr",
     "output_type": "stream",
     "text": [
      "C:\\Users\\michelj8\\Anaconda3\\lib\\site-packages\\statsmodels\\regression\\quantile_regression.py:235: RuntimeWarning: invalid value encountered in less_equal\n",
      "  kernels['epa'] = lambda u: 3. / 4 * (1-u**2) * np.where(np.abs(u) <= 1, 1, 0)\n"
     ]
    },
    {
     "data": {
      "text/html": [
       "<div>\n",
       "<style scoped>\n",
       "    .dataframe tbody tr th:only-of-type {\n",
       "        vertical-align: middle;\n",
       "    }\n",
       "\n",
       "    .dataframe tbody tr th {\n",
       "        vertical-align: top;\n",
       "    }\n",
       "\n",
       "    .dataframe thead th {\n",
       "        text-align: right;\n",
       "    }\n",
       "</style>\n",
       "<table border=\"1\" class=\"dataframe\">\n",
       "  <thead>\n",
       "    <tr style=\"text-align: right;\">\n",
       "      <th></th>\n",
       "      <th>int</th>\n",
       "      <th>slope</th>\n",
       "    </tr>\n",
       "    <tr>\n",
       "      <th>quant</th>\n",
       "      <th></th>\n",
       "      <th></th>\n",
       "    </tr>\n",
       "  </thead>\n",
       "  <tbody>\n",
       "    <tr>\n",
       "      <th>0.010000</th>\n",
       "      <td>-0.227959</td>\n",
       "      <td>0.298608</td>\n",
       "    </tr>\n",
       "    <tr>\n",
       "      <th>0.042667</th>\n",
       "      <td>-0.14136</td>\n",
       "      <td>0.16485</td>\n",
       "    </tr>\n",
       "    <tr>\n",
       "      <th>0.075333</th>\n",
       "      <td>-0.124041</td>\n",
       "      <td>0.155086</td>\n",
       "    </tr>\n",
       "    <tr>\n",
       "      <th>0.108000</th>\n",
       "      <td>-0.0907416</td>\n",
       "      <td>0.0227137</td>\n",
       "    </tr>\n",
       "    <tr>\n",
       "      <th>0.140667</th>\n",
       "      <td>-0.0689107</td>\n",
       "      <td>0.0229272</td>\n",
       "    </tr>\n",
       "    <tr>\n",
       "      <th>0.173333</th>\n",
       "      <td>-0.0607468</td>\n",
       "      <td>0.0033595</td>\n",
       "    </tr>\n",
       "    <tr>\n",
       "      <th>0.206000</th>\n",
       "      <td>-0.0537872</td>\n",
       "      <td>0.0131693</td>\n",
       "    </tr>\n",
       "    <tr>\n",
       "      <th>0.238667</th>\n",
       "      <td>-0.0434906</td>\n",
       "      <td>0.00490459</td>\n",
       "    </tr>\n",
       "    <tr>\n",
       "      <th>0.271333</th>\n",
       "      <td>-0.0342548</td>\n",
       "      <td>0.0218811</td>\n",
       "    </tr>\n",
       "    <tr>\n",
       "      <th>0.304000</th>\n",
       "      <td>-0.0293321</td>\n",
       "      <td>0.00131584</td>\n",
       "    </tr>\n",
       "    <tr>\n",
       "      <th>0.336667</th>\n",
       "      <td>-0.0244584</td>\n",
       "      <td>-0.0240917</td>\n",
       "    </tr>\n",
       "    <tr>\n",
       "      <th>0.369333</th>\n",
       "      <td>-0.0173833</td>\n",
       "      <td>-0.0338553</td>\n",
       "    </tr>\n",
       "    <tr>\n",
       "      <th>0.402000</th>\n",
       "      <td>-0.0106025</td>\n",
       "      <td>-0.0632504</td>\n",
       "    </tr>\n",
       "    <tr>\n",
       "      <th>0.434667</th>\n",
       "      <td>-0.00587882</td>\n",
       "      <td>-0.03152</td>\n",
       "    </tr>\n",
       "    <tr>\n",
       "      <th>0.467333</th>\n",
       "      <td>0.000666544</td>\n",
       "      <td>0.0152737</td>\n",
       "    </tr>\n",
       "    <tr>\n",
       "      <th>0.500000</th>\n",
       "      <td>0.00646472</td>\n",
       "      <td>0.00570036</td>\n",
       "    </tr>\n",
       "    <tr>\n",
       "      <th>0.532667</th>\n",
       "      <td>0.0122327</td>\n",
       "      <td>0.00542338</td>\n",
       "    </tr>\n",
       "    <tr>\n",
       "      <th>0.565333</th>\n",
       "      <td>0.0180376</td>\n",
       "      <td>-0.0198698</td>\n",
       "    </tr>\n",
       "    <tr>\n",
       "      <th>0.598000</th>\n",
       "      <td>0.023668</td>\n",
       "      <td>0.0182177</td>\n",
       "    </tr>\n",
       "    <tr>\n",
       "      <th>0.630667</th>\n",
       "      <td>0.0271334</td>\n",
       "      <td>0.010047</td>\n",
       "    </tr>\n",
       "    <tr>\n",
       "      <th>0.663333</th>\n",
       "      <td>0.0311141</td>\n",
       "      <td>0.00480791</td>\n",
       "    </tr>\n",
       "    <tr>\n",
       "      <th>0.696000</th>\n",
       "      <td>0.0406556</td>\n",
       "      <td>-0.0218439</td>\n",
       "    </tr>\n",
       "    <tr>\n",
       "      <th>0.728667</th>\n",
       "      <td>0.0432713</td>\n",
       "      <td>-0.0280123</td>\n",
       "    </tr>\n",
       "    <tr>\n",
       "      <th>0.761333</th>\n",
       "      <td>0.0498162</td>\n",
       "      <td>0.00739711</td>\n",
       "    </tr>\n",
       "    <tr>\n",
       "      <th>0.794000</th>\n",
       "      <td>0.0607542</td>\n",
       "      <td>0.0160147</td>\n",
       "    </tr>\n",
       "    <tr>\n",
       "      <th>0.826667</th>\n",
       "      <td>0.0695363</td>\n",
       "      <td>-0.0163822</td>\n",
       "    </tr>\n",
       "    <tr>\n",
       "      <th>0.859333</th>\n",
       "      <td>0.0854853</td>\n",
       "      <td>-0.029296</td>\n",
       "    </tr>\n",
       "    <tr>\n",
       "      <th>0.892000</th>\n",
       "      <td>0.112998</td>\n",
       "      <td>-0.0393305</td>\n",
       "    </tr>\n",
       "    <tr>\n",
       "      <th>0.924667</th>\n",
       "      <td>0.14165</td>\n",
       "      <td>-0.0395402</td>\n",
       "    </tr>\n",
       "    <tr>\n",
       "      <th>0.957333</th>\n",
       "      <td>0.194308</td>\n",
       "      <td>-0.179964</td>\n",
       "    </tr>\n",
       "    <tr>\n",
       "      <th>0.990000</th>\n",
       "      <td>0.297633</td>\n",
       "      <td>-0.485916</td>\n",
       "    </tr>\n",
       "  </tbody>\n",
       "</table>\n",
       "</div>"
      ],
      "text/plain": [
       "                  int       slope\n",
       "quant                            \n",
       "0.010000    -0.227959    0.298608\n",
       "0.042667     -0.14136     0.16485\n",
       "0.075333    -0.124041    0.155086\n",
       "0.108000   -0.0907416   0.0227137\n",
       "0.140667   -0.0689107   0.0229272\n",
       "0.173333   -0.0607468   0.0033595\n",
       "0.206000   -0.0537872   0.0131693\n",
       "0.238667   -0.0434906  0.00490459\n",
       "0.271333   -0.0342548   0.0218811\n",
       "0.304000   -0.0293321  0.00131584\n",
       "0.336667   -0.0244584  -0.0240917\n",
       "0.369333   -0.0173833  -0.0338553\n",
       "0.402000   -0.0106025  -0.0632504\n",
       "0.434667  -0.00587882    -0.03152\n",
       "0.467333  0.000666544   0.0152737\n",
       "0.500000   0.00646472  0.00570036\n",
       "0.532667    0.0122327  0.00542338\n",
       "0.565333    0.0180376  -0.0198698\n",
       "0.598000     0.023668   0.0182177\n",
       "0.630667    0.0271334    0.010047\n",
       "0.663333    0.0311141  0.00480791\n",
       "0.696000    0.0406556  -0.0218439\n",
       "0.728667    0.0432713  -0.0280123\n",
       "0.761333    0.0498162  0.00739711\n",
       "0.794000    0.0607542   0.0160147\n",
       "0.826667    0.0695363  -0.0163822\n",
       "0.859333    0.0854853   -0.029296\n",
       "0.892000     0.112998  -0.0393305\n",
       "0.924667      0.14165  -0.0395402\n",
       "0.957333     0.194308   -0.179964\n",
       "0.990000     0.297633   -0.485916"
      ]
     },
     "execution_count": 11,
     "metadata": {},
     "output_type": "execute_result"
    }
   ],
   "source": [
    "quant_df = pd.DataFrame(columns = ['quant','int','slope']).set_index(['quant'])\n",
    "quantiles = np.linspace(.01,.99,31)\n",
    "\n",
    "for quantile in quantiles:\n",
    "    mod = smf.quantreg('log_dif~ lag_log_dif', ts )\n",
    "\n",
    "    res = mod.fit(q=quantile)\n",
    "    quant_df.loc[quantile,'int'] = res.params[0]\n",
    "    quant_df.loc[quantile,'slope'] = res.params[1]\n",
    "\n",
    "quant_df"
   ]
  },
  {
   "cell_type": "code",
   "execution_count": 14,
   "metadata": {},
   "outputs": [
    {
     "data": {
      "text/plain": [
       "<matplotlib.axes._subplots.AxesSubplot at 0x16398e66370>"
      ]
     },
     "execution_count": 14,
     "metadata": {},
     "output_type": "execute_result"
    },
    {
     "data": {
      "image/png": "[encoded data removed]",
      "text/plain": [
       "<Figure size 432x288 with 1 Axes>"
      ]
     },
     "metadata": {
      "needs_background": "light"
     },
     "output_type": "display_data"
    }
   ],
   "source": [
    "quant_df['int'].plot()"
   ]
  },
  {
   "cell_type": "code",
   "execution_count": 15,
   "metadata": {},
   "outputs": [
    {
     "data": {
      "text/plain": [
       "<matplotlib.axes._subplots.AxesSubplot at 0x16398eb4370>"
      ]
     },
     "execution_count": 15,
     "metadata": {},
     "output_type": "execute_result"
    },
    {
     "data": {
      "image/png": "[encoded data removed]",
      "text/plain": [
       "<Figure size 432x288 with 1 Axes>"
      ]
     },
     "metadata": {
      "needs_background": "light"
     },
     "output_type": "display_data"
    }
   ],
   "source": [
    "quant_df['slope'].plot()"
   ]
  },
  {
   "cell_type": "code",
   "execution_count": 16,
   "metadata": {},
   "outputs": [
    {
     "data": {
      "text/plain": [
       "<matplotlib.axes._subplots.AxesSubplot at 0x16398f107c0>"
      ]
     },
     "execution_count": 16,
     "metadata": {},
     "output_type": "execute_result"
    },
    {
     "data": {
      "image/png": "[encoded data removed]",
      "text/plain": [
       "<Figure size 432x288 with 1 Axes>"
      ]
     },
     "metadata": {
      "needs_background": "light"
     },
     "output_type": "display_data"
    }
   ],
   "source": [
    "ts_median = ts['log_dif'].median()\n",
    "quant_df.apply(lambda s: s[0] + s[1]*ts_median, axis = 1).plot()"
   ]
  },
  {
   "cell_type": "code",
   "execution_count": 17,
   "metadata": {},
   "outputs": [],
   "source": [
    "def k_ahead_dist(value, k_step):\n",
    "    dist = []\n",
    "    for _ in range(0,100):\n",
    "        sim = 0.0\n",
    "        state = value\n",
    "        \n",
    "        for k in range(0, k_step):\n",
    "            rand_quant = np.random.choice(quantiles)\n",
    "            const, slope = quant_df.loc[rand_quant]\n",
    "            \n",
    "            state = const + slope*state\n",
    "            sim = sim+ state\n",
    "        dist.append(sim)\n",
    "    return dist"
   ]
  },
  {
   "cell_type": "markdown",
   "metadata": {},
   "source": [
    "# Direct quantile estimation"
   ]
  },
  {
   "cell_type": "code",
   "execution_count": 23,
   "metadata": {},
   "outputs": [
    {
     "name": "stderr",
     "output_type": "stream",
     "text": [
      "C:\\Users\\michelj8\\Anaconda3\\lib\\site-packages\\pandas\\core\\frame.py:2963: SettingWithCopyWarning: \n",
      "A value is trying to be set on a copy of a slice from a DataFrame.\n",
      "Try using .loc[row_indexer,col_indexer] = value instead\n",
      "\n",
      "See the caveats in the documentation: https://pandas.pydata.org/pandas-docs/stable/user_guide/indexing.html#returning-a-view-versus-a-copy\n",
      "  self[k1] = value[k2]\n",
      "C:\\Users\\michelj8\\Anaconda3\\lib\\site-packages\\statsmodels\\regression\\quantile_regression.py:235: RuntimeWarning: invalid value encountered in less_equal\n",
      "  kernels['epa'] = lambda u: 3. / 4 * (1-u**2) * np.where(np.abs(u) <= 1, 1, 0)\n"
     ]
    },
    {
     "data": {
      "text/html": [
       "<div>\n",
       "<style scoped>\n",
       "    .dataframe tbody tr th:only-of-type {\n",
       "        vertical-align: middle;\n",
       "    }\n",
       "\n",
       "    .dataframe tbody tr th {\n",
       "        vertical-align: top;\n",
       "    }\n",
       "\n",
       "    .dataframe thead th {\n",
       "        text-align: right;\n",
       "    }\n",
       "</style>\n",
       "<table border=\"1\" class=\"dataframe\">\n",
       "  <thead>\n",
       "    <tr style=\"text-align: right;\">\n",
       "      <th></th>\n",
       "      <th>int</th>\n",
       "      <th>slope</th>\n",
       "    </tr>\n",
       "    <tr>\n",
       "      <th>quant</th>\n",
       "      <th></th>\n",
       "      <th></th>\n",
       "    </tr>\n",
       "  </thead>\n",
       "  <tbody>\n",
       "    <tr>\n",
       "      <th>0.005000</th>\n",
       "      <td>-0.348928</td>\n",
       "      <td>-0.362647</td>\n",
       "    </tr>\n",
       "    <tr>\n",
       "      <th>0.028333</th>\n",
       "      <td>-0.208963</td>\n",
       "      <td>-0.382128</td>\n",
       "    </tr>\n",
       "    <tr>\n",
       "      <th>0.051667</th>\n",
       "      <td>-0.188574</td>\n",
       "      <td>-0.357787</td>\n",
       "    </tr>\n",
       "    <tr>\n",
       "      <th>0.075000</th>\n",
       "      <td>-0.170947</td>\n",
       "      <td>-0.381023</td>\n",
       "    </tr>\n",
       "    <tr>\n",
       "      <th>0.098333</th>\n",
       "      <td>-0.149277</td>\n",
       "      <td>-0.340408</td>\n",
       "    </tr>\n",
       "    <tr>\n",
       "      <th>0.121667</th>\n",
       "      <td>-0.135418</td>\n",
       "      <td>-0.362215</td>\n",
       "    </tr>\n",
       "    <tr>\n",
       "      <th>0.145000</th>\n",
       "      <td>-0.115688</td>\n",
       "      <td>-0.297452</td>\n",
       "    </tr>\n",
       "    <tr>\n",
       "      <th>0.168333</th>\n",
       "      <td>-0.0962988</td>\n",
       "      <td>-0.346597</td>\n",
       "    </tr>\n",
       "    <tr>\n",
       "      <th>0.191667</th>\n",
       "      <td>-0.0715223</td>\n",
       "      <td>-0.41145</td>\n",
       "    </tr>\n",
       "    <tr>\n",
       "      <th>0.215000</th>\n",
       "      <td>-0.0648611</td>\n",
       "      <td>-0.423324</td>\n",
       "    </tr>\n",
       "    <tr>\n",
       "      <th>0.238333</th>\n",
       "      <td>-0.058586</td>\n",
       "      <td>-0.436717</td>\n",
       "    </tr>\n",
       "    <tr>\n",
       "      <th>0.261667</th>\n",
       "      <td>-0.0474251</td>\n",
       "      <td>-0.441922</td>\n",
       "    </tr>\n",
       "    <tr>\n",
       "      <th>0.285000</th>\n",
       "      <td>-0.0360358</td>\n",
       "      <td>-0.412031</td>\n",
       "    </tr>\n",
       "    <tr>\n",
       "      <th>0.308333</th>\n",
       "      <td>-0.0351228</td>\n",
       "      <td>-0.409639</td>\n",
       "    </tr>\n",
       "    <tr>\n",
       "      <th>0.331667</th>\n",
       "      <td>-0.0271446</td>\n",
       "      <td>-0.396281</td>\n",
       "    </tr>\n",
       "    <tr>\n",
       "      <th>0.355000</th>\n",
       "      <td>-0.018675</td>\n",
       "      <td>-0.41635</td>\n",
       "    </tr>\n",
       "    <tr>\n",
       "      <th>0.378333</th>\n",
       "      <td>-0.0148276</td>\n",
       "      <td>-0.395181</td>\n",
       "    </tr>\n",
       "    <tr>\n",
       "      <th>0.401667</th>\n",
       "      <td>-0.00413284</td>\n",
       "      <td>-0.408879</td>\n",
       "    </tr>\n",
       "    <tr>\n",
       "      <th>0.425000</th>\n",
       "      <td>0.003962</td>\n",
       "      <td>-0.392302</td>\n",
       "    </tr>\n",
       "    <tr>\n",
       "      <th>0.448333</th>\n",
       "      <td>0.0116763</td>\n",
       "      <td>-0.288436</td>\n",
       "    </tr>\n",
       "    <tr>\n",
       "      <th>0.471667</th>\n",
       "      <td>0.0193515</td>\n",
       "      <td>-0.291013</td>\n",
       "    </tr>\n",
       "    <tr>\n",
       "      <th>0.495000</th>\n",
       "      <td>0.0231535</td>\n",
       "      <td>-0.285219</td>\n",
       "    </tr>\n",
       "    <tr>\n",
       "      <th>0.505000</th>\n",
       "      <td>0.032074</td>\n",
       "      <td>-0.316293</td>\n",
       "    </tr>\n",
       "    <tr>\n",
       "      <th>0.528333</th>\n",
       "      <td>0.0455207</td>\n",
       "      <td>-0.30304</td>\n",
       "    </tr>\n",
       "    <tr>\n",
       "      <th>0.551667</th>\n",
       "      <td>0.049586</td>\n",
       "      <td>-0.290023</td>\n",
       "    </tr>\n",
       "    <tr>\n",
       "      <th>0.575000</th>\n",
       "      <td>0.0566117</td>\n",
       "      <td>-0.277261</td>\n",
       "    </tr>\n",
       "    <tr>\n",
       "      <th>0.598333</th>\n",
       "      <td>0.0686107</td>\n",
       "      <td>-0.257621</td>\n",
       "    </tr>\n",
       "    <tr>\n",
       "      <th>0.621667</th>\n",
       "      <td>0.0737554</td>\n",
       "      <td>-0.253269</td>\n",
       "    </tr>\n",
       "    <tr>\n",
       "      <th>0.645000</th>\n",
       "      <td>0.083457</td>\n",
       "      <td>-0.250195</td>\n",
       "    </tr>\n",
       "    <tr>\n",
       "      <th>0.668333</th>\n",
       "      <td>0.0921544</td>\n",
       "      <td>-0.232161</td>\n",
       "    </tr>\n",
       "    <tr>\n",
       "      <th>0.691667</th>\n",
       "      <td>0.100128</td>\n",
       "      <td>-0.243155</td>\n",
       "    </tr>\n",
       "    <tr>\n",
       "      <th>0.715000</th>\n",
       "      <td>0.113594</td>\n",
       "      <td>-0.285114</td>\n",
       "    </tr>\n",
       "    <tr>\n",
       "      <th>0.738333</th>\n",
       "      <td>0.137723</td>\n",
       "      <td>-0.267327</td>\n",
       "    </tr>\n",
       "    <tr>\n",
       "      <th>0.761667</th>\n",
       "      <td>0.144695</td>\n",
       "      <td>-0.228178</td>\n",
       "    </tr>\n",
       "    <tr>\n",
       "      <th>0.785000</th>\n",
       "      <td>0.152611</td>\n",
       "      <td>-0.193918</td>\n",
       "    </tr>\n",
       "    <tr>\n",
       "      <th>0.808333</th>\n",
       "      <td>0.16982</td>\n",
       "      <td>-0.14584</td>\n",
       "    </tr>\n",
       "    <tr>\n",
       "      <th>0.831667</th>\n",
       "      <td>0.185835</td>\n",
       "      <td>-0.194104</td>\n",
       "    </tr>\n",
       "    <tr>\n",
       "      <th>0.855000</th>\n",
       "      <td>0.205506</td>\n",
       "      <td>-0.222524</td>\n",
       "    </tr>\n",
       "    <tr>\n",
       "      <th>0.878333</th>\n",
       "      <td>0.230446</td>\n",
       "      <td>-0.26737</td>\n",
       "    </tr>\n",
       "    <tr>\n",
       "      <th>0.901667</th>\n",
       "      <td>0.250987</td>\n",
       "      <td>-0.282118</td>\n",
       "    </tr>\n",
       "    <tr>\n",
       "      <th>0.925000</th>\n",
       "      <td>0.286879</td>\n",
       "      <td>-0.241188</td>\n",
       "    </tr>\n",
       "    <tr>\n",
       "      <th>0.948333</th>\n",
       "      <td>0.353013</td>\n",
       "      <td>-0.383914</td>\n",
       "    </tr>\n",
       "    <tr>\n",
       "      <th>0.971667</th>\n",
       "      <td>0.425584</td>\n",
       "      <td>-0.249987</td>\n",
       "    </tr>\n",
       "    <tr>\n",
       "      <th>0.995000</th>\n",
       "      <td>0.562457</td>\n",
       "      <td>-0.545964</td>\n",
       "    </tr>\n",
       "  </tbody>\n",
       "</table>\n",
       "</div>"
      ],
      "text/plain": [
       "                 int     slope\n",
       "quant                         \n",
       "0.005000   -0.348928 -0.362647\n",
       "0.028333   -0.208963 -0.382128\n",
       "0.051667   -0.188574 -0.357787\n",
       "0.075000   -0.170947 -0.381023\n",
       "0.098333   -0.149277 -0.340408\n",
       "0.121667   -0.135418 -0.362215\n",
       "0.145000   -0.115688 -0.297452\n",
       "0.168333  -0.0962988 -0.346597\n",
       "0.191667  -0.0715223  -0.41145\n",
       "0.215000  -0.0648611 -0.423324\n",
       "0.238333   -0.058586 -0.436717\n",
       "0.261667  -0.0474251 -0.441922\n",
       "0.285000  -0.0360358 -0.412031\n",
       "0.308333  -0.0351228 -0.409639\n",
       "0.331667  -0.0271446 -0.396281\n",
       "0.355000   -0.018675  -0.41635\n",
       "0.378333  -0.0148276 -0.395181\n",
       "0.401667 -0.00413284 -0.408879\n",
       "0.425000    0.003962 -0.392302\n",
       "0.448333   0.0116763 -0.288436\n",
       "0.471667   0.0193515 -0.291013\n",
       "0.495000   0.0231535 -0.285219\n",
       "0.505000    0.032074 -0.316293\n",
       "0.528333   0.0455207  -0.30304\n",
       "0.551667    0.049586 -0.290023\n",
       "0.575000   0.0566117 -0.277261\n",
       "0.598333   0.0686107 -0.257621\n",
       "0.621667   0.0737554 -0.253269\n",
       "0.645000    0.083457 -0.250195\n",
       "0.668333   0.0921544 -0.232161\n",
       "0.691667    0.100128 -0.243155\n",
       "0.715000    0.113594 -0.285114\n",
       "0.738333    0.137723 -0.267327\n",
       "0.761667    0.144695 -0.228178\n",
       "0.785000    0.152611 -0.193918\n",
       "0.808333     0.16982  -0.14584\n",
       "0.831667    0.185835 -0.194104\n",
       "0.855000    0.205506 -0.222524\n",
       "0.878333    0.230446  -0.26737\n",
       "0.901667    0.250987 -0.282118\n",
       "0.925000    0.286879 -0.241188\n",
       "0.948333    0.353013 -0.383914\n",
       "0.971667    0.425584 -0.249987\n",
       "0.995000    0.562457 -0.545964"
      ]
     },
     "execution_count": 23,
     "metadata": {},
     "output_type": "execute_result"
    }
   ],
   "source": [
    "ts['year_lag'] = ts['4_ldif'].shift(4)\n",
    "direct_quant_df = pd.DataFrame(columns = ['quant','int','slope']).set_index(['quant'])\n",
    "\n",
    "reg_df = ts[['4_ldif']]\n",
    "reg_df[['year_lag']] = reg_df[['4_ldif']].shift(4)\n",
    "reg_df = reg_df.dropna()\n",
    "reg_df.columns = ['x','y']\n",
    "\n",
    "direct_quantiles = [.5*(1-x) for x in prob_list] + [.5*(1+x) for x in prob_list]\n",
    "\n",
    "for quantile in direct_quantiles:\n",
    "    mod = smf.quantreg('y~x', reg_df )\n",
    "\n",
    "    res = mod.fit(q=quantile)\n",
    "    direct_quant_df.loc[quantile,'int'] = res.params[0]\n",
    "    direct_quant_df.loc[quantile,'slope'] = res.params[1]\n",
    "\n",
    "direct_quant_df = direct_quant_df.sort_index()\n",
    "direct_quant_df"
   ]
  },
  {
   "cell_type": "code",
   "execution_count": 24,
   "metadata": {},
   "outputs": [
    {
     "data": {
      "text/plain": [
       "<matplotlib.axes._subplots.AxesSubplot at 0x16397e72430>"
      ]
     },
     "execution_count": 24,
     "metadata": {},
     "output_type": "execute_result"
    },
    {
     "data": {
      "image/png": "[encoded data removed]",
      "text/plain": [
       "<Figure size 432x288 with 1 Axes>"
      ]
     },
     "metadata": {
      "needs_background": "light"
     },
     "output_type": "display_data"
    }
   ],
   "source": [
    "direct_quant_df['int'].plot()"
   ]
  },
  {
   "cell_type": "code",
   "execution_count": 25,
   "metadata": {},
   "outputs": [
    {
     "data": {
      "text/plain": [
       "<matplotlib.axes._subplots.AxesSubplot at 0x16399083850>"
      ]
     },
     "execution_count": 25,
     "metadata": {},
     "output_type": "execute_result"
    },
    {
     "data": {
      "image/png": "[encoded data removed]",
      "text/plain": [
       "<Figure size 432x288 with 1 Axes>"
      ]
     },
     "metadata": {
      "needs_background": "light"
     },
     "output_type": "display_data"
    }
   ],
   "source": [
    "direct_quant_df['slope'].plot()"
   ]
  },
  {
   "cell_type": "code",
   "execution_count": 26,
   "metadata": {},
   "outputs": [
    {
     "data": {
      "text/plain": [
       "<matplotlib.axes._subplots.AxesSubplot at 0x163990d9820>"
      ]
     },
     "execution_count": 26,
     "metadata": {},
     "output_type": "execute_result"
    },
    {
     "data": {
      "image/png": "[encoded data removed]",
      "text/plain": [
       "<Figure size 432x288 with 1 Axes>"
      ]
     },
     "metadata": {
      "needs_background": "light"
     },
     "output_type": "display_data"
    }
   ],
   "source": [
    "ts_median = ts['year_lag'].median()\n",
    "direct_quant_df.apply(lambda s: s[0] + s[1]*ts_median, axis = 1).plot()"
   ]
  },
  {
   "cell_type": "markdown",
   "metadata": {},
   "source": [
    "# Coverage comparisons"
   ]
  },
  {
   "cell_type": "code",
   "execution_count": 27,
   "metadata": {},
   "outputs": [],
   "source": [
    "coverage_df = pd.DataFrame(columns = ['prob','indirect_ar_pct', 'direct_pct']).set_index('prob')\n",
    "\n",
    "for prob in prob_list:\n",
    "    coverage_df.loc[prob] = 0.0\n",
    "\n",
    "for time in range(ts.index.min() + 4, ts.index.max() +1):\n",
    "    y_t4 = ts.loc[time,'log']\n",
    "    y_t = ts.loc[time-4,'log']\n",
    "    x_t = ts.loc[time-4, 'log_dif']\n",
    "    \n",
    "    direct_xt = ts.loc[time-4,'4_ldif']\n",
    "    \n",
    "    indirect_sims = k_ahead_dist(x_t,4)\n",
    "    \n",
    "    for prob in prob_list:\n",
    "        indirect_ci = y_t + np.quantile(indirect_sims, [ .5*(1-prob) ,.5*(1+prob)])\n",
    "        \n",
    "        lower_direct = direct_quant_df.loc[.5*(1-prob)].values\n",
    "        lower = lower_direct[0] + lower_direct[1]*direct_xt\n",
    "        upper_direct = direct_quant_df.loc[.5*(1+prob)].values\n",
    "        upper = upper_direct[0] + upper_direct[1]*direct_xt\n",
    "\n",
    "        direct_ci = y_t + np.array( [lower,upper]   )\n",
    "        \n",
    "        coverage_df.loc[prob] = coverage_df.loc[prob] + [1*(y_t4 > indirect_ci[0])*(y_t4<indirect_ci[1]),\n",
    "                                                        1*(y_t4 > direct_ci[0])*(y_t4<direct_ci[1])]\n",
    "\n",
    "coverage_df = coverage_df.div(len(ts))\n",
    "coverage_df['theoretical'] = prob_list"
   ]
  },
  {
   "cell_type": "code",
   "execution_count": 28,
   "metadata": {},
   "outputs": [
    {
     "data": {
      "text/html": [
       "<div>\n",
       "<style scoped>\n",
       "    .dataframe tbody tr th:only-of-type {\n",
       "        vertical-align: middle;\n",
       "    }\n",
       "\n",
       "    .dataframe tbody tr th {\n",
       "        vertical-align: top;\n",
       "    }\n",
       "\n",
       "    .dataframe thead th {\n",
       "        text-align: right;\n",
       "    }\n",
       "</style>\n",
       "<table border=\"1\" class=\"dataframe\">\n",
       "  <thead>\n",
       "    <tr style=\"text-align: right;\">\n",
       "      <th></th>\n",
       "      <th>indirect_ar_pct</th>\n",
       "      <th>direct_pct</th>\n",
       "      <th>theoretical</th>\n",
       "    </tr>\n",
       "    <tr>\n",
       "      <th>prob</th>\n",
       "      <th></th>\n",
       "      <th></th>\n",
       "      <th></th>\n",
       "    </tr>\n",
       "  </thead>\n",
       "  <tbody>\n",
       "    <tr>\n",
       "      <th>0.010000</th>\n",
       "      <td>0.008368</td>\n",
       "      <td>0.033473</td>\n",
       "      <td>0.010000</td>\n",
       "    </tr>\n",
       "    <tr>\n",
       "      <th>0.056667</th>\n",
       "      <td>0.058577</td>\n",
       "      <td>0.096234</td>\n",
       "      <td>0.056667</td>\n",
       "    </tr>\n",
       "    <tr>\n",
       "      <th>0.103333</th>\n",
       "      <td>0.133891</td>\n",
       "      <td>0.142259</td>\n",
       "      <td>0.103333</td>\n",
       "    </tr>\n",
       "    <tr>\n",
       "      <th>0.150000</th>\n",
       "      <td>0.188285</td>\n",
       "      <td>0.200837</td>\n",
       "      <td>0.150000</td>\n",
       "    </tr>\n",
       "    <tr>\n",
       "      <th>0.196667</th>\n",
       "      <td>0.230126</td>\n",
       "      <td>0.271967</td>\n",
       "      <td>0.196667</td>\n",
       "    </tr>\n",
       "    <tr>\n",
       "      <th>0.243333</th>\n",
       "      <td>0.292887</td>\n",
       "      <td>0.317992</td>\n",
       "      <td>0.243333</td>\n",
       "    </tr>\n",
       "    <tr>\n",
       "      <th>0.290000</th>\n",
       "      <td>0.347280</td>\n",
       "      <td>0.359833</td>\n",
       "      <td>0.290000</td>\n",
       "    </tr>\n",
       "    <tr>\n",
       "      <th>0.336667</th>\n",
       "      <td>0.389121</td>\n",
       "      <td>0.397490</td>\n",
       "      <td>0.336667</td>\n",
       "    </tr>\n",
       "    <tr>\n",
       "      <th>0.383333</th>\n",
       "      <td>0.439331</td>\n",
       "      <td>0.422594</td>\n",
       "      <td>0.383333</td>\n",
       "    </tr>\n",
       "    <tr>\n",
       "      <th>0.430000</th>\n",
       "      <td>0.468619</td>\n",
       "      <td>0.439331</td>\n",
       "      <td>0.430000</td>\n",
       "    </tr>\n",
       "    <tr>\n",
       "      <th>0.476667</th>\n",
       "      <td>0.514644</td>\n",
       "      <td>0.535565</td>\n",
       "      <td>0.476667</td>\n",
       "    </tr>\n",
       "    <tr>\n",
       "      <th>0.523333</th>\n",
       "      <td>0.573222</td>\n",
       "      <td>0.560669</td>\n",
       "      <td>0.523333</td>\n",
       "    </tr>\n",
       "    <tr>\n",
       "      <th>0.570000</th>\n",
       "      <td>0.615063</td>\n",
       "      <td>0.577406</td>\n",
       "      <td>0.570000</td>\n",
       "    </tr>\n",
       "    <tr>\n",
       "      <th>0.616667</th>\n",
       "      <td>0.665272</td>\n",
       "      <td>0.615063</td>\n",
       "      <td>0.616667</td>\n",
       "    </tr>\n",
       "    <tr>\n",
       "      <th>0.663333</th>\n",
       "      <td>0.702929</td>\n",
       "      <td>0.652720</td>\n",
       "      <td>0.663333</td>\n",
       "    </tr>\n",
       "    <tr>\n",
       "      <th>0.710000</th>\n",
       "      <td>0.757322</td>\n",
       "      <td>0.707113</td>\n",
       "      <td>0.710000</td>\n",
       "    </tr>\n",
       "    <tr>\n",
       "      <th>0.756667</th>\n",
       "      <td>0.782427</td>\n",
       "      <td>0.761506</td>\n",
       "      <td>0.756667</td>\n",
       "    </tr>\n",
       "    <tr>\n",
       "      <th>0.803333</th>\n",
       "      <td>0.836820</td>\n",
       "      <td>0.794979</td>\n",
       "      <td>0.803333</td>\n",
       "    </tr>\n",
       "    <tr>\n",
       "      <th>0.850000</th>\n",
       "      <td>0.853556</td>\n",
       "      <td>0.849372</td>\n",
       "      <td>0.850000</td>\n",
       "    </tr>\n",
       "    <tr>\n",
       "      <th>0.896667</th>\n",
       "      <td>0.887029</td>\n",
       "      <td>0.878661</td>\n",
       "      <td>0.896667</td>\n",
       "    </tr>\n",
       "    <tr>\n",
       "      <th>0.943333</th>\n",
       "      <td>0.924686</td>\n",
       "      <td>0.920502</td>\n",
       "      <td>0.943333</td>\n",
       "    </tr>\n",
       "    <tr>\n",
       "      <th>0.990000</th>\n",
       "      <td>0.966527</td>\n",
       "      <td>0.970711</td>\n",
       "      <td>0.990000</td>\n",
       "    </tr>\n",
       "  </tbody>\n",
       "</table>\n",
       "</div>"
      ],
      "text/plain": [
       "          indirect_ar_pct  direct_pct  theoretical\n",
       "prob                                              \n",
       "0.010000         0.008368    0.033473     0.010000\n",
       "0.056667         0.058577    0.096234     0.056667\n",
       "0.103333         0.133891    0.142259     0.103333\n",
       "0.150000         0.188285    0.200837     0.150000\n",
       "0.196667         0.230126    0.271967     0.196667\n",
       "0.243333         0.292887    0.317992     0.243333\n",
       "0.290000         0.347280    0.359833     0.290000\n",
       "0.336667         0.389121    0.397490     0.336667\n",
       "0.383333         0.439331    0.422594     0.383333\n",
       "0.430000         0.468619    0.439331     0.430000\n",
       "0.476667         0.514644    0.535565     0.476667\n",
       "0.523333         0.573222    0.560669     0.523333\n",
       "0.570000         0.615063    0.577406     0.570000\n",
       "0.616667         0.665272    0.615063     0.616667\n",
       "0.663333         0.702929    0.652720     0.663333\n",
       "0.710000         0.757322    0.707113     0.710000\n",
       "0.756667         0.782427    0.761506     0.756667\n",
       "0.803333         0.836820    0.794979     0.803333\n",
       "0.850000         0.853556    0.849372     0.850000\n",
       "0.896667         0.887029    0.878661     0.896667\n",
       "0.943333         0.924686    0.920502     0.943333\n",
       "0.990000         0.966527    0.970711     0.990000"
      ]
     },
     "execution_count": 28,
     "metadata": {},
     "output_type": "execute_result"
    }
   ],
   "source": [
    "coverage_df"
   ]
  },
  {
   "cell_type": "code",
   "execution_count": 29,
   "metadata": {},
   "outputs": [
    {
     "data": {
      "text/plain": [
       "Text(0.5, 1.0, 'Scaled empirical Coverage Curve')"
      ]
     },
     "execution_count": 29,
     "metadata": {},
     "output_type": "execute_result"
    },
    {
     "data": {
      "image/png": "[encoded data removed]",
      "text/plain": [
       "<Figure size 1152x288 with 2 Axes>"
      ]
     },
     "metadata": {
      "needs_background": "light"
     },
     "output_type": "display_data"
    }
   ],
   "source": [
    "prob_list = coverage_df.index.values\n",
    "\n",
    "fig, [axa,axb] = plt.subplots(1,2, figsize = (16,4))\n",
    "coverage_df.plot(ax = axa, color =  ['red','blue','black'] )\n",
    "axa.legend(['Indirect', 'Direct', 'Theoretical'])\n",
    "axa.set_title('Empirical coverage curve')\n",
    "\n",
    "coverage_df[['indirect_ar_pct','direct_pct']].subtract(prob_list, axis = 0).div(np.sqrt(prob_list*(1-prob_list)), axis = 0).multiply(np.sqrt(len(ts))).plot(ax = axb,color = ['red','blue'] )\n",
    "axb.legend(['Indirect', 'Direct'])\n",
    "axb.set_title('Scaled empirical Coverage Curve')"
   ]
  },
  {
   "cell_type": "markdown",
   "metadata": {},
   "source": [
    "# Score functions"
   ]
  },
  {
   "cell_type": "code",
   "execution_count": 30,
   "metadata": {},
   "outputs": [],
   "source": [
    "def score(x,lower,upper,prob):\n",
    "    return (upper-lower) + (2/(1-prob))*(max(x-upper,0) + max(lower-x,0))"
   ]
  },
  {
   "cell_type": "code",
   "execution_count": 31,
   "metadata": {},
   "outputs": [],
   "source": [
    "score_df = pd.DataFrame(columns = ['prob','indirect', 'direct']).set_index('prob')\n",
    "\n",
    "for prob in prob_list:\n",
    "    score_df.loc[prob] = 0.0\n",
    "\n",
    "for time in range(ts.index.min() + 4, ts.index.max() +1):\n",
    "    y_t4 = ts.loc[time,'log']\n",
    "    y_t = ts.loc[time-4,'log']\n",
    "    x_t = ts.loc[time-4, 'log_dif']\n",
    "    \n",
    "    direct_xt = ts.loc[time-4,'4_ldif']\n",
    "    \n",
    "    indirect_sims = k_ahead_dist(x_t,4)\n",
    "    \n",
    "    for prob in prob_list:\n",
    "        indirect_ci = y_t + np.quantile(indirect_sims, [ .5*(1-prob) ,.5*(1+prob)])\n",
    "        \n",
    "        lower_direct = direct_quant_df.loc[.5*(1-prob)].values\n",
    "        lower = lower_direct[0] + lower_direct[1]*direct_xt\n",
    "        upper_direct = direct_quant_df.loc[.5*(1+prob)].values\n",
    "        upper = upper_direct[0] + upper_direct[1]*direct_xt\n",
    "\n",
    "        direct_ci = y_t + np.array( [lower,upper]   )\n",
    "\n",
    "        \n",
    "        score_df.loc[prob] = score_df.loc[prob] + [score(y_t4, indirect_ci[0], indirect_ci[1], prob),\n",
    "                                                   score(y_t4, direct_ci[0], direct_ci[1], prob) ]        \n",
    "score_df = score_df.div(len(ts))"
   ]
  },
  {
   "cell_type": "code",
   "execution_count": 32,
   "metadata": {},
   "outputs": [
    {
     "data": {
      "text/plain": [
       "Text(0.5, 1.0, 'Interval forecast scores')"
      ]
     },
     "execution_count": 32,
     "metadata": {},
     "output_type": "execute_result"
    },
    {
     "data": {
      "image/png": "[encoded data removed]",
      "text/plain": [
       "<Figure size 864x432 with 1 Axes>"
      ]
     },
     "metadata": {
      "needs_background": "light"
     },
     "output_type": "display_data"
    }
   ],
   "source": [
    "fig, ax = plt.subplots(figsize = (12,6))\n",
    "score_df.plot(ax = ax)\n",
    "\n",
    "ax.legend(['Indirect','Direct'])\n",
    "ax.set_title('Interval forecast scores')"
   ]
  },
  {
   "cell_type": "code",
   "execution_count": 33,
   "metadata": {},
   "outputs": [
    {
     "data": {
      "text/plain": [
       "<matplotlib.axes._subplots.AxesSubplot at 0x1639a5342e0>"
      ]
     },
     "execution_count": 33,
     "metadata": {},
     "output_type": "execute_result"
    },
    {
     "data": {
      "image/png": "[encoded data removed]",
      "text/plain": [
       "<Figure size 432x288 with 1 Axes>"
      ]
     },
     "metadata": {
      "needs_background": "light"
     },
     "output_type": "display_data"
    }
   ],
   "source": [
    "( (score_df['indirect']-score_df['direct'])/score_df['indirect'] ).plot()"
   ]
  },
  {
   "cell_type": "code",
   "execution_count": null,
   "metadata": {},
   "outputs": [],
   "source": []
  }
 ],
 "metadata": {
  "kernelspec": {
   "display_name": "Python 3",
   "language": "python",
   "name": "python3"
  },
  "language_info": {
   "codemirror_mode": {
    "name": "ipython",
    "version": 3
   },
   "file_extension": ".py",
   "mimetype": "text/x-python",
   "name": "python",
   "nbconvert_exporter": "python",
   "pygments_lexer": "ipython3",
   "version": "3.8.3"
  }
 },
 "nbformat": 4,
 "nbformat_minor": 4
}
