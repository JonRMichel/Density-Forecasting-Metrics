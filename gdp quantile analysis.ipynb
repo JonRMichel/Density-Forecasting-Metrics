{
 "cells": [
  {
   "cell_type": "code",
   "execution_count": 1,
   "metadata": {},
   "outputs": [],
   "source": [
    "import numpy as np\n",
    "import pandas as pd\n",
    "import scipy\n",
    "from scipy.stats import norm\n",
    "from scipy import stats\n",
    "from statsmodels.tsa.arima.model import ARIMA\n",
    "from statsmodels.tsa.api import ExponentialSmoothing, SimpleExpSmoothing, Holt\n",
    "import matplotlib.pyplot as plt\n",
    "import statsmodels.api as sm\n",
    "import statsmodels.formula.api as smf"
   ]
  },
  {
   "cell_type": "code",
   "execution_count": 2,
   "metadata": {},
   "outputs": [],
   "source": [
    "prob_list = np.linspace(.01,.99,22)"
   ]
  },
  {
   "cell_type": "code",
   "execution_count": 3,
   "metadata": {},
   "outputs": [],
   "source": [
    "data = pd.read_excel('C:/Users/michelj8/Documents/Github/data_sets/real_gdp.xlsx', sheet_name = 'data')\n",
    "data = data.query('observation_date < 2020 & observation_date > 1959')\n",
    "data = data.dropna().reset_index()"
   ]
  },
  {
   "cell_type": "code",
   "execution_count": 4,
   "metadata": {},
   "outputs": [
    {
     "name": "stderr",
     "output_type": "stream",
     "text": [
      "<ipython-input-4-8d6b67f75459>:3: SettingWithCopyWarning: \n",
      "A value is trying to be set on a copy of a slice from a DataFrame.\n",
      "Try using .loc[row_indexer,col_indexer] = value instead\n",
      "\n",
      "See the caveats in the documentation: https://pandas.pydata.org/pandas-docs/stable/user_guide/indexing.html#returning-a-view-versus-a-copy\n",
      "  ts['log'] = np.log(ts['level'])\n"
     ]
    },
    {
     "data": {
      "text/plain": [
       "<matplotlib.axes._subplots.AxesSubplot at 0xb78b130>"
      ]
     },
     "execution_count": 4,
     "metadata": {},
     "output_type": "execute_result"
    },
    {
     "data": {
      "image/png": "[encoded data removed]",
      "text/plain": [
       "<Figure size 432x288 with 1 Axes>"
      ]
     },
     "metadata": {
      "needs_background": "light"
     },
     "output_type": "display_data"
    }
   ],
   "source": [
    "ts = data[['GDPC1']]\n",
    "ts.columns = ['level']\n",
    "ts['log'] = np.log(ts['level'])\n",
    "ts['log'].plot()"
   ]
  },
  {
   "cell_type": "code",
   "execution_count": 5,
   "metadata": {},
   "outputs": [
    {
     "data": {
      "text/html": [
       "<div>\n",
       "<style scoped>\n",
       "    .dataframe tbody tr th:only-of-type {\n",
       "        vertical-align: middle;\n",
       "    }\n",
       "\n",
       "    .dataframe tbody tr th {\n",
       "        vertical-align: top;\n",
       "    }\n",
       "\n",
       "    .dataframe thead th {\n",
       "        text-align: right;\n",
       "    }\n",
       "</style>\n",
       "<table border=\"1\" class=\"dataframe\">\n",
       "  <thead>\n",
       "    <tr style=\"text-align: right;\">\n",
       "      <th></th>\n",
       "      <th>level</th>\n",
       "      <th>log</th>\n",
       "      <th>log_dif</th>\n",
       "      <th>lag_log_dif</th>\n",
       "      <th>4_ldif</th>\n",
       "    </tr>\n",
       "  </thead>\n",
       "  <tbody>\n",
       "    <tr>\n",
       "      <th>4</th>\n",
       "      <td>3258.088</td>\n",
       "      <td>8.088896</td>\n",
       "      <td>-0.005408</td>\n",
       "      <td>0.022224</td>\n",
       "      <td>0.020374</td>\n",
       "    </tr>\n",
       "    <tr>\n",
       "      <th>5</th>\n",
       "      <td>3274.029</td>\n",
       "      <td>8.093777</td>\n",
       "      <td>0.004881</td>\n",
       "      <td>-0.005408</td>\n",
       "      <td>0.024543</td>\n",
       "    </tr>\n",
       "    <tr>\n",
       "      <th>6</th>\n",
       "      <td>3232.009</td>\n",
       "      <td>8.080859</td>\n",
       "      <td>-0.012917</td>\n",
       "      <td>0.004881</td>\n",
       "      <td>0.008779</td>\n",
       "    </tr>\n",
       "    <tr>\n",
       "      <th>7</th>\n",
       "      <td>3253.826</td>\n",
       "      <td>8.087587</td>\n",
       "      <td>0.006728</td>\n",
       "      <td>-0.012917</td>\n",
       "      <td>-0.006717</td>\n",
       "    </tr>\n",
       "    <tr>\n",
       "      <th>8</th>\n",
       "      <td>3309.059</td>\n",
       "      <td>8.104419</td>\n",
       "      <td>0.016832</td>\n",
       "      <td>0.006728</td>\n",
       "      <td>0.015523</td>\n",
       "    </tr>\n",
       "    <tr>\n",
       "      <th>...</th>\n",
       "      <td>...</td>\n",
       "      <td>...</td>\n",
       "      <td>...</td>\n",
       "      <td>...</td>\n",
       "      <td>...</td>\n",
       "    </tr>\n",
       "    <tr>\n",
       "      <th>238</th>\n",
       "      <td>18813.923</td>\n",
       "      <td>9.842352</td>\n",
       "      <td>0.003278</td>\n",
       "      <td>0.005238</td>\n",
       "      <td>0.024454</td>\n",
       "    </tr>\n",
       "    <tr>\n",
       "      <th>239</th>\n",
       "      <td>18950.347</td>\n",
       "      <td>9.849578</td>\n",
       "      <td>0.007225</td>\n",
       "      <td>0.003278</td>\n",
       "      <td>0.022405</td>\n",
       "    </tr>\n",
       "    <tr>\n",
       "      <th>240</th>\n",
       "      <td>19020.599</td>\n",
       "      <td>9.853278</td>\n",
       "      <td>0.003700</td>\n",
       "      <td>0.007225</td>\n",
       "      <td>0.019441</td>\n",
       "    </tr>\n",
       "    <tr>\n",
       "      <th>241</th>\n",
       "      <td>19141.744</td>\n",
       "      <td>9.859627</td>\n",
       "      <td>0.006349</td>\n",
       "      <td>0.003700</td>\n",
       "      <td>0.020552</td>\n",
       "    </tr>\n",
       "    <tr>\n",
       "      <th>242</th>\n",
       "      <td>19253.959</td>\n",
       "      <td>9.865472</td>\n",
       "      <td>0.005845</td>\n",
       "      <td>0.006349</td>\n",
       "      <td>0.023120</td>\n",
       "    </tr>\n",
       "  </tbody>\n",
       "</table>\n",
       "<p>239 rows × 5 columns</p>\n",
       "</div>"
      ],
      "text/plain": [
       "         level       log   log_dif  lag_log_dif    4_ldif\n",
       "4     3258.088  8.088896 -0.005408     0.022224  0.020374\n",
       "5     3274.029  8.093777  0.004881    -0.005408  0.024543\n",
       "6     3232.009  8.080859 -0.012917     0.004881  0.008779\n",
       "7     3253.826  8.087587  0.006728    -0.012917 -0.006717\n",
       "8     3309.059  8.104419  0.016832     0.006728  0.015523\n",
       "..         ...       ...       ...          ...       ...\n",
       "238  18813.923  9.842352  0.003278     0.005238  0.024454\n",
       "239  18950.347  9.849578  0.007225     0.003278  0.022405\n",
       "240  19020.599  9.853278  0.003700     0.007225  0.019441\n",
       "241  19141.744  9.859627  0.006349     0.003700  0.020552\n",
       "242  19253.959  9.865472  0.005845     0.006349  0.023120\n",
       "\n",
       "[239 rows x 5 columns]"
      ]
     },
     "execution_count": 5,
     "metadata": {},
     "output_type": "execute_result"
    }
   ],
   "source": [
    "ts['log_dif'] = ts['log'].diff(1)\n",
    "ts['lag_log_dif'] = ts['log_dif'].shift(1)\n",
    "ts['4_ldif'] = ts['log'].diff(4)\n",
    "ts = ts.dropna()\n",
    "ts"
   ]
  },
  {
   "cell_type": "markdown",
   "metadata": {},
   "source": [
    "# 1 step ahead qunatile estimation"
   ]
  },
  {
   "cell_type": "code",
   "execution_count": 6,
   "metadata": {},
   "outputs": [
    {
     "name": "stderr",
     "output_type": "stream",
     "text": [
      "C:\\Users\\michelj8\\Anaconda3\\lib\\site-packages\\statsmodels\\regression\\quantile_regression.py:235: RuntimeWarning: invalid value encountered in less_equal\n",
      "  kernels['epa'] = lambda u: 3. / 4 * (1-u**2) * np.where(np.abs(u) <= 1, 1, 0)\n"
     ]
    },
    {
     "data": {
      "text/html": [
       "<div>\n",
       "<style scoped>\n",
       "    .dataframe tbody tr th:only-of-type {\n",
       "        vertical-align: middle;\n",
       "    }\n",
       "\n",
       "    .dataframe tbody tr th {\n",
       "        vertical-align: top;\n",
       "    }\n",
       "\n",
       "    .dataframe thead th {\n",
       "        text-align: right;\n",
       "    }\n",
       "</style>\n",
       "<table border=\"1\" class=\"dataframe\">\n",
       "  <thead>\n",
       "    <tr style=\"text-align: right;\">\n",
       "      <th></th>\n",
       "      <th>int</th>\n",
       "      <th>slope</th>\n",
       "    </tr>\n",
       "    <tr>\n",
       "      <th>quant</th>\n",
       "      <th></th>\n",
       "      <th></th>\n",
       "    </tr>\n",
       "  </thead>\n",
       "  <tbody>\n",
       "    <tr>\n",
       "      <th>0.010000</th>\n",
       "      <td>-0.0187192</td>\n",
       "      <td>0.581388</td>\n",
       "    </tr>\n",
       "    <tr>\n",
       "      <th>0.042667</th>\n",
       "      <td>-0.0104341</td>\n",
       "      <td>0.47672</td>\n",
       "    </tr>\n",
       "    <tr>\n",
       "      <th>0.075333</th>\n",
       "      <td>-0.0078532</td>\n",
       "      <td>0.470998</td>\n",
       "    </tr>\n",
       "    <tr>\n",
       "      <th>0.108000</th>\n",
       "      <td>-0.00349875</td>\n",
       "      <td>0.356148</td>\n",
       "    </tr>\n",
       "    <tr>\n",
       "      <th>0.140667</th>\n",
       "      <td>-0.00123279</td>\n",
       "      <td>0.279693</td>\n",
       "    </tr>\n",
       "    <tr>\n",
       "      <th>0.173333</th>\n",
       "      <td>0.000145632</td>\n",
       "      <td>0.260048</td>\n",
       "    </tr>\n",
       "    <tr>\n",
       "      <th>0.206000</th>\n",
       "      <td>0.000765777</td>\n",
       "      <td>0.243704</td>\n",
       "    </tr>\n",
       "    <tr>\n",
       "      <th>0.238667</th>\n",
       "      <td>0.0013184</td>\n",
       "      <td>0.239891</td>\n",
       "    </tr>\n",
       "    <tr>\n",
       "      <th>0.271333</th>\n",
       "      <td>0.00212368</td>\n",
       "      <td>0.233256</td>\n",
       "    </tr>\n",
       "    <tr>\n",
       "      <th>0.304000</th>\n",
       "      <td>0.00307279</td>\n",
       "      <td>0.204748</td>\n",
       "    </tr>\n",
       "    <tr>\n",
       "      <th>0.336667</th>\n",
       "      <td>0.00339048</td>\n",
       "      <td>0.219987</td>\n",
       "    </tr>\n",
       "    <tr>\n",
       "      <th>0.369333</th>\n",
       "      <td>0.00390663</td>\n",
       "      <td>0.244745</td>\n",
       "    </tr>\n",
       "    <tr>\n",
       "      <th>0.402000</th>\n",
       "      <td>0.00424419</td>\n",
       "      <td>0.260957</td>\n",
       "    </tr>\n",
       "    <tr>\n",
       "      <th>0.434667</th>\n",
       "      <td>0.00466252</td>\n",
       "      <td>0.257976</td>\n",
       "    </tr>\n",
       "    <tr>\n",
       "      <th>0.467333</th>\n",
       "      <td>0.00526537</td>\n",
       "      <td>0.238566</td>\n",
       "    </tr>\n",
       "    <tr>\n",
       "      <th>0.500000</th>\n",
       "      <td>0.00592356</td>\n",
       "      <td>0.214347</td>\n",
       "    </tr>\n",
       "    <tr>\n",
       "      <th>0.532667</th>\n",
       "      <td>0.00623071</td>\n",
       "      <td>0.220396</td>\n",
       "    </tr>\n",
       "    <tr>\n",
       "      <th>0.565333</th>\n",
       "      <td>0.00649874</td>\n",
       "      <td>0.235002</td>\n",
       "    </tr>\n",
       "    <tr>\n",
       "      <th>0.598000</th>\n",
       "      <td>0.00710501</td>\n",
       "      <td>0.227911</td>\n",
       "    </tr>\n",
       "    <tr>\n",
       "      <th>0.630667</th>\n",
       "      <td>0.0076381</td>\n",
       "      <td>0.233156</td>\n",
       "    </tr>\n",
       "    <tr>\n",
       "      <th>0.663333</th>\n",
       "      <td>0.0076824</td>\n",
       "      <td>0.264673</td>\n",
       "    </tr>\n",
       "    <tr>\n",
       "      <th>0.696000</th>\n",
       "      <td>0.00788056</td>\n",
       "      <td>0.313822</td>\n",
       "    </tr>\n",
       "    <tr>\n",
       "      <th>0.728667</th>\n",
       "      <td>0.00835563</td>\n",
       "      <td>0.406824</td>\n",
       "    </tr>\n",
       "    <tr>\n",
       "      <th>0.761333</th>\n",
       "      <td>0.00953736</td>\n",
       "      <td>0.381287</td>\n",
       "    </tr>\n",
       "    <tr>\n",
       "      <th>0.794000</th>\n",
       "      <td>0.0101012</td>\n",
       "      <td>0.390182</td>\n",
       "    </tr>\n",
       "    <tr>\n",
       "      <th>0.826667</th>\n",
       "      <td>0.0109753</td>\n",
       "      <td>0.406003</td>\n",
       "    </tr>\n",
       "    <tr>\n",
       "      <th>0.859333</th>\n",
       "      <td>0.0118601</td>\n",
       "      <td>0.39754</td>\n",
       "    </tr>\n",
       "    <tr>\n",
       "      <th>0.892000</th>\n",
       "      <td>0.0139323</td>\n",
       "      <td>0.339307</td>\n",
       "    </tr>\n",
       "    <tr>\n",
       "      <th>0.924667</th>\n",
       "      <td>0.01451</td>\n",
       "      <td>0.376029</td>\n",
       "    </tr>\n",
       "    <tr>\n",
       "      <th>0.957333</th>\n",
       "      <td>0.0187532</td>\n",
       "      <td>0.232548</td>\n",
       "    </tr>\n",
       "    <tr>\n",
       "      <th>0.990000</th>\n",
       "      <td>0.025915</td>\n",
       "      <td>-0.0818771</td>\n",
       "    </tr>\n",
       "  </tbody>\n",
       "</table>\n",
       "</div>"
      ],
      "text/plain": [
       "                  int      slope\n",
       "quant                           \n",
       "0.010000   -0.0187192   0.581388\n",
       "0.042667   -0.0104341    0.47672\n",
       "0.075333   -0.0078532   0.470998\n",
       "0.108000  -0.00349875   0.356148\n",
       "0.140667  -0.00123279   0.279693\n",
       "0.173333  0.000145632   0.260048\n",
       "0.206000  0.000765777   0.243704\n",
       "0.238667    0.0013184   0.239891\n",
       "0.271333   0.00212368   0.233256\n",
       "0.304000   0.00307279   0.204748\n",
       "0.336667   0.00339048   0.219987\n",
       "0.369333   0.00390663   0.244745\n",
       "0.402000   0.00424419   0.260957\n",
       "0.434667   0.00466252   0.257976\n",
       "0.467333   0.00526537   0.238566\n",
       "0.500000   0.00592356   0.214347\n",
       "0.532667   0.00623071   0.220396\n",
       "0.565333   0.00649874   0.235002\n",
       "0.598000   0.00710501   0.227911\n",
       "0.630667    0.0076381   0.233156\n",
       "0.663333    0.0076824   0.264673\n",
       "0.696000   0.00788056   0.313822\n",
       "0.728667   0.00835563   0.406824\n",
       "0.761333   0.00953736   0.381287\n",
       "0.794000    0.0101012   0.390182\n",
       "0.826667    0.0109753   0.406003\n",
       "0.859333    0.0118601    0.39754\n",
       "0.892000    0.0139323   0.339307\n",
       "0.924667      0.01451   0.376029\n",
       "0.957333    0.0187532   0.232548\n",
       "0.990000     0.025915 -0.0818771"
      ]
     },
     "execution_count": 6,
     "metadata": {},
     "output_type": "execute_result"
    }
   ],
   "source": [
    "quant_df = pd.DataFrame(columns = ['quant','int','slope']).set_index(['quant'])\n",
    "quantiles = np.linspace(.01,.99,31)\n",
    "\n",
    "for quantile in quantiles:\n",
    "    mod = smf.quantreg('log_dif~ lag_log_dif', ts )\n",
    "\n",
    "    res = mod.fit(q=quantile)\n",
    "    quant_df.loc[quantile,'int'] = res.params[0]\n",
    "    quant_df.loc[quantile,'slope'] = res.params[1]\n",
    "\n",
    "quant_df"
   ]
  },
  {
   "cell_type": "code",
   "execution_count": 7,
   "metadata": {},
   "outputs": [
    {
     "data": {
      "text/plain": [
       "<matplotlib.axes._subplots.AxesSubplot at 0xbe62568>"
      ]
     },
     "execution_count": 7,
     "metadata": {},
     "output_type": "execute_result"
    },
    {
     "data": {
      "image/png": "[encoded data removed]",
      "text/plain": [
       "<Figure size 432x288 with 1 Axes>"
      ]
     },
     "metadata": {
      "needs_background": "light"
     },
     "output_type": "display_data"
    }
   ],
   "source": [
    "quant_df['int'].plot()"
   ]
  },
  {
   "cell_type": "code",
   "execution_count": 8,
   "metadata": {},
   "outputs": [
    {
     "data": {
      "text/plain": [
       "<matplotlib.axes._subplots.AxesSubplot at 0xc603a18>"
      ]
     },
     "execution_count": 8,
     "metadata": {},
     "output_type": "execute_result"
    },
    {
     "data": {
      "image/png": "[encoded data removed]",
      "text/plain": [
       "<Figure size 432x288 with 1 Axes>"
      ]
     },
     "metadata": {
      "needs_background": "light"
     },
     "output_type": "display_data"
    }
   ],
   "source": [
    "quant_df['slope'].plot()"
   ]
  },
  {
   "cell_type": "code",
   "execution_count": 9,
   "metadata": {},
   "outputs": [
    {
     "data": {
      "text/plain": [
       "<matplotlib.axes._subplots.AxesSubplot at 0xc636f10>"
      ]
     },
     "execution_count": 9,
     "metadata": {},
     "output_type": "execute_result"
    },
    {
     "data": {
      "image/png": "[encoded data removed]",
      "text/plain": [
       "<Figure size 432x288 with 1 Axes>"
      ]
     },
     "metadata": {
      "needs_background": "light"
     },
     "output_type": "display_data"
    }
   ],
   "source": [
    "ts_median = ts['log_dif'].median()\n",
    "quant_df.apply(lambda s: s[0] + s[1]*ts_median, axis = 1).plot()"
   ]
  },
  {
   "cell_type": "code",
   "execution_count": 10,
   "metadata": {},
   "outputs": [],
   "source": [
    "def k_ahead_dist(value, k_step):\n",
    "    dist = []\n",
    "    for _ in range(0,100):\n",
    "        sim = 0.0\n",
    "        state = value\n",
    "        \n",
    "        for k in range(0, k_step):\n",
    "            rand_quant = np.random.choice(quantiles)\n",
    "            const, slope = quant_df.loc[rand_quant]\n",
    "            \n",
    "            state = const + slope*state\n",
    "            sim = sim+ state\n",
    "        dist.append(sim)\n",
    "    return dist"
   ]
  },
  {
   "cell_type": "markdown",
   "metadata": {},
   "source": [
    "# Direct quantile estimation"
   ]
  },
  {
   "cell_type": "code",
   "execution_count": 11,
   "metadata": {},
   "outputs": [
    {
     "name": "stderr",
     "output_type": "stream",
     "text": [
      "C:\\Users\\michelj8\\Anaconda3\\lib\\site-packages\\pandas\\core\\frame.py:2963: SettingWithCopyWarning: \n",
      "A value is trying to be set on a copy of a slice from a DataFrame.\n",
      "Try using .loc[row_indexer,col_indexer] = value instead\n",
      "\n",
      "See the caveats in the documentation: https://pandas.pydata.org/pandas-docs/stable/user_guide/indexing.html#returning-a-view-versus-a-copy\n",
      "  self[k1] = value[k2]\n",
      "C:\\Users\\michelj8\\Anaconda3\\lib\\site-packages\\statsmodels\\regression\\quantile_regression.py:235: RuntimeWarning: invalid value encountered in less_equal\n",
      "  kernels['epa'] = lambda u: 3. / 4 * (1-u**2) * np.where(np.abs(u) <= 1, 1, 0)\n"
     ]
    },
    {
     "data": {
      "text/html": [
       "<div>\n",
       "<style scoped>\n",
       "    .dataframe tbody tr th:only-of-type {\n",
       "        vertical-align: middle;\n",
       "    }\n",
       "\n",
       "    .dataframe tbody tr th {\n",
       "        vertical-align: top;\n",
       "    }\n",
       "\n",
       "    .dataframe thead th {\n",
       "        text-align: right;\n",
       "    }\n",
       "</style>\n",
       "<table border=\"1\" class=\"dataframe\">\n",
       "  <thead>\n",
       "    <tr style=\"text-align: right;\">\n",
       "      <th></th>\n",
       "      <th>int</th>\n",
       "      <th>slope</th>\n",
       "    </tr>\n",
       "    <tr>\n",
       "      <th>quant</th>\n",
       "      <th></th>\n",
       "      <th></th>\n",
       "    </tr>\n",
       "  </thead>\n",
       "  <tbody>\n",
       "    <tr>\n",
       "      <th>0.495000</th>\n",
       "      <td>0.022574</td>\n",
       "      <td>0.302553</td>\n",
       "    </tr>\n",
       "    <tr>\n",
       "      <th>0.471667</th>\n",
       "      <td>0.0222025</td>\n",
       "      <td>0.287679</td>\n",
       "    </tr>\n",
       "    <tr>\n",
       "      <th>0.448333</th>\n",
       "      <td>0.0211385</td>\n",
       "      <td>0.271221</td>\n",
       "    </tr>\n",
       "    <tr>\n",
       "      <th>0.425000</th>\n",
       "      <td>0.0206797</td>\n",
       "      <td>0.245171</td>\n",
       "    </tr>\n",
       "    <tr>\n",
       "      <th>0.401667</th>\n",
       "      <td>0.0201146</td>\n",
       "      <td>0.231031</td>\n",
       "    </tr>\n",
       "    <tr>\n",
       "      <th>0.378333</th>\n",
       "      <td>0.0193644</td>\n",
       "      <td>0.212295</td>\n",
       "    </tr>\n",
       "    <tr>\n",
       "      <th>0.355000</th>\n",
       "      <td>0.0185802</td>\n",
       "      <td>0.21387</td>\n",
       "    </tr>\n",
       "    <tr>\n",
       "      <th>0.331667</th>\n",
       "      <td>0.0173587</td>\n",
       "      <td>0.22721</td>\n",
       "    </tr>\n",
       "    <tr>\n",
       "      <th>0.308333</th>\n",
       "      <td>0.0172391</td>\n",
       "      <td>0.20193</td>\n",
       "    </tr>\n",
       "    <tr>\n",
       "      <th>0.285000</th>\n",
       "      <td>0.0157351</td>\n",
       "      <td>0.216987</td>\n",
       "    </tr>\n",
       "    <tr>\n",
       "      <th>0.261667</th>\n",
       "      <td>0.0128625</td>\n",
       "      <td>0.250887</td>\n",
       "    </tr>\n",
       "    <tr>\n",
       "      <th>0.238333</th>\n",
       "      <td>0.0123122</td>\n",
       "      <td>0.255569</td>\n",
       "    </tr>\n",
       "    <tr>\n",
       "      <th>0.215000</th>\n",
       "      <td>0.0121863</td>\n",
       "      <td>0.221272</td>\n",
       "    </tr>\n",
       "    <tr>\n",
       "      <th>0.191667</th>\n",
       "      <td>0.0110632</td>\n",
       "      <td>0.201859</td>\n",
       "    </tr>\n",
       "    <tr>\n",
       "      <th>0.168333</th>\n",
       "      <td>0.0123175</td>\n",
       "      <td>0.0492434</td>\n",
       "    </tr>\n",
       "    <tr>\n",
       "      <th>0.145000</th>\n",
       "      <td>0.00820653</td>\n",
       "      <td>0.0790327</td>\n",
       "    </tr>\n",
       "    <tr>\n",
       "      <th>0.121667</th>\n",
       "      <td>0.0029719</td>\n",
       "      <td>0.0936867</td>\n",
       "    </tr>\n",
       "    <tr>\n",
       "      <th>0.098333</th>\n",
       "      <td>0.000926739</td>\n",
       "      <td>0.0292889</td>\n",
       "    </tr>\n",
       "    <tr>\n",
       "      <th>0.075000</th>\n",
       "      <td>-0.00198865</td>\n",
       "      <td>-0.0648223</td>\n",
       "    </tr>\n",
       "    <tr>\n",
       "      <th>0.051667</th>\n",
       "      <td>-0.00503963</td>\n",
       "      <td>-0.159539</td>\n",
       "    </tr>\n",
       "    <tr>\n",
       "      <th>0.028333</th>\n",
       "      <td>-0.0217988</td>\n",
       "      <td>-0.0244409</td>\n",
       "    </tr>\n",
       "    <tr>\n",
       "      <th>0.005000</th>\n",
       "      <td>-0.0374618</td>\n",
       "      <td>0.207409</td>\n",
       "    </tr>\n",
       "    <tr>\n",
       "      <th>0.505000</th>\n",
       "      <td>0.0227434</td>\n",
       "      <td>0.310188</td>\n",
       "    </tr>\n",
       "    <tr>\n",
       "      <th>0.528333</th>\n",
       "      <td>0.02322</td>\n",
       "      <td>0.331714</td>\n",
       "    </tr>\n",
       "    <tr>\n",
       "      <th>0.551667</th>\n",
       "      <td>0.0241364</td>\n",
       "      <td>0.331472</td>\n",
       "    </tr>\n",
       "    <tr>\n",
       "      <th>0.575000</th>\n",
       "      <td>0.0250825</td>\n",
       "      <td>0.330551</td>\n",
       "    </tr>\n",
       "    <tr>\n",
       "      <th>0.598333</th>\n",
       "      <td>0.0259288</td>\n",
       "      <td>0.322882</td>\n",
       "    </tr>\n",
       "    <tr>\n",
       "      <th>0.621667</th>\n",
       "      <td>0.0277712</td>\n",
       "      <td>0.309332</td>\n",
       "    </tr>\n",
       "    <tr>\n",
       "      <th>0.645000</th>\n",
       "      <td>0.0284156</td>\n",
       "      <td>0.317844</td>\n",
       "    </tr>\n",
       "    <tr>\n",
       "      <th>0.668333</th>\n",
       "      <td>0.0287273</td>\n",
       "      <td>0.322031</td>\n",
       "    </tr>\n",
       "    <tr>\n",
       "      <th>0.691667</th>\n",
       "      <td>0.0288497</td>\n",
       "      <td>0.33336</td>\n",
       "    </tr>\n",
       "    <tr>\n",
       "      <th>0.715000</th>\n",
       "      <td>0.0292149</td>\n",
       "      <td>0.341873</td>\n",
       "    </tr>\n",
       "    <tr>\n",
       "      <th>0.738333</th>\n",
       "      <td>0.0310438</td>\n",
       "      <td>0.332361</td>\n",
       "    </tr>\n",
       "    <tr>\n",
       "      <th>0.761667</th>\n",
       "      <td>0.0322579</td>\n",
       "      <td>0.315543</td>\n",
       "    </tr>\n",
       "    <tr>\n",
       "      <th>0.785000</th>\n",
       "      <td>0.0339451</td>\n",
       "      <td>0.292188</td>\n",
       "    </tr>\n",
       "    <tr>\n",
       "      <th>0.808333</th>\n",
       "      <td>0.0337106</td>\n",
       "      <td>0.325289</td>\n",
       "    </tr>\n",
       "    <tr>\n",
       "      <th>0.831667</th>\n",
       "      <td>0.0371978</td>\n",
       "      <td>0.260518</td>\n",
       "    </tr>\n",
       "    <tr>\n",
       "      <th>0.855000</th>\n",
       "      <td>0.0431643</td>\n",
       "      <td>0.189144</td>\n",
       "    </tr>\n",
       "    <tr>\n",
       "      <th>0.878333</th>\n",
       "      <td>0.0468071</td>\n",
       "      <td>0.181868</td>\n",
       "    </tr>\n",
       "    <tr>\n",
       "      <th>0.901667</th>\n",
       "      <td>0.0480124</td>\n",
       "      <td>0.218811</td>\n",
       "    </tr>\n",
       "    <tr>\n",
       "      <th>0.925000</th>\n",
       "      <td>0.0498231</td>\n",
       "      <td>0.288653</td>\n",
       "    </tr>\n",
       "    <tr>\n",
       "      <th>0.948333</th>\n",
       "      <td>0.0611974</td>\n",
       "      <td>0.132561</td>\n",
       "    </tr>\n",
       "    <tr>\n",
       "      <th>0.971667</th>\n",
       "      <td>0.0619301</td>\n",
       "      <td>0.311667</td>\n",
       "    </tr>\n",
       "    <tr>\n",
       "      <th>0.995000</th>\n",
       "      <td>0.0713276</td>\n",
       "      <td>0.246349</td>\n",
       "    </tr>\n",
       "  </tbody>\n",
       "</table>\n",
       "</div>"
      ],
      "text/plain": [
       "                  int      slope\n",
       "quant                           \n",
       "0.495000     0.022574   0.302553\n",
       "0.471667    0.0222025   0.287679\n",
       "0.448333    0.0211385   0.271221\n",
       "0.425000    0.0206797   0.245171\n",
       "0.401667    0.0201146   0.231031\n",
       "0.378333    0.0193644   0.212295\n",
       "0.355000    0.0185802    0.21387\n",
       "0.331667    0.0173587    0.22721\n",
       "0.308333    0.0172391    0.20193\n",
       "0.285000    0.0157351   0.216987\n",
       "0.261667    0.0128625   0.250887\n",
       "0.238333    0.0123122   0.255569\n",
       "0.215000    0.0121863   0.221272\n",
       "0.191667    0.0110632   0.201859\n",
       "0.168333    0.0123175  0.0492434\n",
       "0.145000   0.00820653  0.0790327\n",
       "0.121667    0.0029719  0.0936867\n",
       "0.098333  0.000926739  0.0292889\n",
       "0.075000  -0.00198865 -0.0648223\n",
       "0.051667  -0.00503963  -0.159539\n",
       "0.028333   -0.0217988 -0.0244409\n",
       "0.005000   -0.0374618   0.207409\n",
       "0.505000    0.0227434   0.310188\n",
       "0.528333      0.02322   0.331714\n",
       "0.551667    0.0241364   0.331472\n",
       "0.575000    0.0250825   0.330551\n",
       "0.598333    0.0259288   0.322882\n",
       "0.621667    0.0277712   0.309332\n",
       "0.645000    0.0284156   0.317844\n",
       "0.668333    0.0287273   0.322031\n",
       "0.691667    0.0288497    0.33336\n",
       "0.715000    0.0292149   0.341873\n",
       "0.738333    0.0310438   0.332361\n",
       "0.761667    0.0322579   0.315543\n",
       "0.785000    0.0339451   0.292188\n",
       "0.808333    0.0337106   0.325289\n",
       "0.831667    0.0371978   0.260518\n",
       "0.855000    0.0431643   0.189144\n",
       "0.878333    0.0468071   0.181868\n",
       "0.901667    0.0480124   0.218811\n",
       "0.925000    0.0498231   0.288653\n",
       "0.948333    0.0611974   0.132561\n",
       "0.971667    0.0619301   0.311667\n",
       "0.995000    0.0713276   0.246349"
      ]
     },
     "execution_count": 11,
     "metadata": {},
     "output_type": "execute_result"
    }
   ],
   "source": [
    "ts['year_lag'] = ts['4_ldif'].shift(4)\n",
    "direct_quant_df = pd.DataFrame(columns = ['quant','int','slope']).set_index(['quant'])\n",
    "\n",
    "reg_df = ts[['4_ldif']]\n",
    "reg_df[['year_lag']] = reg_df[['4_ldif']].shift(4)\n",
    "reg_df = reg_df.dropna()\n",
    "reg_df.columns = ['x','y']\n",
    "\n",
    "direct_quantiles = [.5*(1-x) for x in prob_list] + [.5*(1+x) for x in prob_list]\n",
    "\n",
    "for quantile in direct_quantiles:\n",
    "    mod = smf.quantreg('y~x', reg_df )\n",
    "\n",
    "    res = mod.fit(q=quantile)\n",
    "    direct_quant_df.loc[quantile,'int'] = res.params[0]\n",
    "    direct_quant_df.loc[quantile,'slope'] = res.params[1]\n",
    "\n",
    "direct_quant_df"
   ]
  },
  {
   "cell_type": "code",
   "execution_count": 12,
   "metadata": {},
   "outputs": [
    {
     "data": {
      "text/plain": [
       "<matplotlib.axes._subplots.AxesSubplot at 0xc6760d0>"
      ]
     },
     "execution_count": 12,
     "metadata": {},
     "output_type": "execute_result"
    },
    {
     "data": {
      "image/png": "[encoded data removed]",
      "text/plain": [
       "<Figure size 432x288 with 1 Axes>"
      ]
     },
     "metadata": {
      "needs_background": "light"
     },
     "output_type": "display_data"
    }
   ],
   "source": [
    "direct_quant_df['int'].plot()"
   ]
  },
  {
   "cell_type": "code",
   "execution_count": 13,
   "metadata": {},
   "outputs": [
    {
     "data": {
      "text/plain": [
       "<matplotlib.axes._subplots.AxesSubplot at 0xc7240d0>"
      ]
     },
     "execution_count": 13,
     "metadata": {},
     "output_type": "execute_result"
    },
    {
     "data": {
      "image/png": "[encoded data removed]",
      "text/plain": [
       "<Figure size 432x288 with 1 Axes>"
      ]
     },
     "metadata": {
      "needs_background": "light"
     },
     "output_type": "display_data"
    }
   ],
   "source": [
    "direct_quant_df['slope'].plot()"
   ]
  },
  {
   "cell_type": "code",
   "execution_count": 14,
   "metadata": {},
   "outputs": [
    {
     "data": {
      "text/plain": [
       "<matplotlib.axes._subplots.AxesSubplot at 0xc75e298>"
      ]
     },
     "execution_count": 14,
     "metadata": {},
     "output_type": "execute_result"
    },
    {
     "data": {
      "image/png": "[encoded data removed]",
      "text/plain": [
       "<Figure size 432x288 with 1 Axes>"
      ]
     },
     "metadata": {
      "needs_background": "light"
     },
     "output_type": "display_data"
    }
   ],
   "source": [
    "ts_median = ts['year_lag'].median()\n",
    "direct_quant_df.apply(lambda s: s[0] + s[1]*ts_median, axis = 1).plot()"
   ]
  },
  {
   "cell_type": "markdown",
   "metadata": {},
   "source": [
    "# Coverage comparisons"
   ]
  },
  {
   "cell_type": "code",
   "execution_count": 18,
   "metadata": {},
   "outputs": [],
   "source": [
    "coverage_df = pd.DataFrame(columns = ['prob','indirect_ar_pct', 'direct_pct']).set_index('prob')\n",
    "\n",
    "for prob in prob_list:\n",
    "    coverage_df.loc[prob] = 0.0\n",
    "\n",
    "for time in range(ts.index.min() + 4, ts.index.max() +1):\n",
    "    y_t4 = ts.loc[time,'log']\n",
    "    y_t = ts.loc[time-4,'log']\n",
    "    x_t = ts.loc[time-4, 'log_dif']\n",
    "    \n",
    "    direct_xt = ts.loc[time-4,'4_ldif']\n",
    "    \n",
    "    indirect_sims = k_ahead_dist(x_t,4)\n",
    "    \n",
    "    for prob in prob_list:\n",
    "        indirect_ci = y_t + np.quantile(indirect_sims, [ .5*(1-prob) ,.5*(1+prob)])\n",
    "        \n",
    "        lower_direct = direct_quant_df.loc[.5*(1-prob)].values\n",
    "        lower = lower_direct[0] + lower_direct[1]*direct_xt\n",
    "        upper_direct = direct_quant_df.loc[.5*(1+prob)].values\n",
    "        upper = upper_direct[0] + upper_direct[1]*direct_xt\n",
    "\n",
    "        direct_ci = y_t + np.array( [lower,upper]   )\n",
    "        \n",
    "        coverage_df.loc[prob] = coverage_df.loc[prob] + [1*(y_t4 > indirect_ci[0])*(y_t4<indirect_ci[1]),\n",
    "                                                        1*(y_t4 > direct_ci[0])*(y_t4<direct_ci[1])]\n",
    "\n",
    "coverage_df = coverage_df.div(len(ts))\n",
    "coverage_df['theoretical'] = prob_list"
   ]
  },
  {
   "cell_type": "code",
   "execution_count": 19,
   "metadata": {},
   "outputs": [
    {
     "data": {
      "text/html": [
       "<div>\n",
       "<style scoped>\n",
       "    .dataframe tbody tr th:only-of-type {\n",
       "        vertical-align: middle;\n",
       "    }\n",
       "\n",
       "    .dataframe tbody tr th {\n",
       "        vertical-align: top;\n",
       "    }\n",
       "\n",
       "    .dataframe thead th {\n",
       "        text-align: right;\n",
       "    }\n",
       "</style>\n",
       "<table border=\"1\" class=\"dataframe\">\n",
       "  <thead>\n",
       "    <tr style=\"text-align: right;\">\n",
       "      <th></th>\n",
       "      <th>indirect_ar_pct</th>\n",
       "      <th>direct_pct</th>\n",
       "      <th>theoretical</th>\n",
       "    </tr>\n",
       "    <tr>\n",
       "      <th>prob</th>\n",
       "      <th></th>\n",
       "      <th></th>\n",
       "      <th></th>\n",
       "    </tr>\n",
       "  </thead>\n",
       "  <tbody>\n",
       "    <tr>\n",
       "      <th>0.010000</th>\n",
       "      <td>0.008368</td>\n",
       "      <td>0.008368</td>\n",
       "      <td>0.010000</td>\n",
       "    </tr>\n",
       "    <tr>\n",
       "      <th>0.056667</th>\n",
       "      <td>0.075314</td>\n",
       "      <td>0.062762</td>\n",
       "      <td>0.056667</td>\n",
       "    </tr>\n",
       "    <tr>\n",
       "      <th>0.103333</th>\n",
       "      <td>0.112971</td>\n",
       "      <td>0.117155</td>\n",
       "      <td>0.103333</td>\n",
       "    </tr>\n",
       "    <tr>\n",
       "      <th>0.150000</th>\n",
       "      <td>0.154812</td>\n",
       "      <td>0.158996</td>\n",
       "      <td>0.150000</td>\n",
       "    </tr>\n",
       "    <tr>\n",
       "      <th>0.196667</th>\n",
       "      <td>0.213389</td>\n",
       "      <td>0.200837</td>\n",
       "      <td>0.196667</td>\n",
       "    </tr>\n",
       "    <tr>\n",
       "      <th>0.243333</th>\n",
       "      <td>0.267782</td>\n",
       "      <td>0.234310</td>\n",
       "      <td>0.243333</td>\n",
       "    </tr>\n",
       "    <tr>\n",
       "      <th>0.290000</th>\n",
       "      <td>0.297071</td>\n",
       "      <td>0.280335</td>\n",
       "      <td>0.290000</td>\n",
       "    </tr>\n",
       "    <tr>\n",
       "      <th>0.336667</th>\n",
       "      <td>0.338912</td>\n",
       "      <td>0.301255</td>\n",
       "      <td>0.336667</td>\n",
       "    </tr>\n",
       "    <tr>\n",
       "      <th>0.383333</th>\n",
       "      <td>0.376569</td>\n",
       "      <td>0.326360</td>\n",
       "      <td>0.383333</td>\n",
       "    </tr>\n",
       "    <tr>\n",
       "      <th>0.430000</th>\n",
       "      <td>0.451883</td>\n",
       "      <td>0.368201</td>\n",
       "      <td>0.430000</td>\n",
       "    </tr>\n",
       "    <tr>\n",
       "      <th>0.476667</th>\n",
       "      <td>0.502092</td>\n",
       "      <td>0.414226</td>\n",
       "      <td>0.476667</td>\n",
       "    </tr>\n",
       "    <tr>\n",
       "      <th>0.523333</th>\n",
       "      <td>0.573222</td>\n",
       "      <td>0.460251</td>\n",
       "      <td>0.523333</td>\n",
       "    </tr>\n",
       "    <tr>\n",
       "      <th>0.570000</th>\n",
       "      <td>0.594142</td>\n",
       "      <td>0.502092</td>\n",
       "      <td>0.570000</td>\n",
       "    </tr>\n",
       "    <tr>\n",
       "      <th>0.616667</th>\n",
       "      <td>0.640167</td>\n",
       "      <td>0.560669</td>\n",
       "      <td>0.616667</td>\n",
       "    </tr>\n",
       "    <tr>\n",
       "      <th>0.663333</th>\n",
       "      <td>0.682008</td>\n",
       "      <td>0.631799</td>\n",
       "      <td>0.663333</td>\n",
       "    </tr>\n",
       "    <tr>\n",
       "      <th>0.710000</th>\n",
       "      <td>0.711297</td>\n",
       "      <td>0.707113</td>\n",
       "      <td>0.710000</td>\n",
       "    </tr>\n",
       "    <tr>\n",
       "      <th>0.756667</th>\n",
       "      <td>0.757322</td>\n",
       "      <td>0.748954</td>\n",
       "      <td>0.756667</td>\n",
       "    </tr>\n",
       "    <tr>\n",
       "      <th>0.803333</th>\n",
       "      <td>0.782427</td>\n",
       "      <td>0.790795</td>\n",
       "      <td>0.803333</td>\n",
       "    </tr>\n",
       "    <tr>\n",
       "      <th>0.850000</th>\n",
       "      <td>0.803347</td>\n",
       "      <td>0.841004</td>\n",
       "      <td>0.850000</td>\n",
       "    </tr>\n",
       "    <tr>\n",
       "      <th>0.896667</th>\n",
       "      <td>0.845188</td>\n",
       "      <td>0.882845</td>\n",
       "      <td>0.896667</td>\n",
       "    </tr>\n",
       "    <tr>\n",
       "      <th>0.943333</th>\n",
       "      <td>0.870293</td>\n",
       "      <td>0.916318</td>\n",
       "      <td>0.943333</td>\n",
       "    </tr>\n",
       "    <tr>\n",
       "      <th>0.990000</th>\n",
       "      <td>0.941423</td>\n",
       "      <td>0.966527</td>\n",
       "      <td>0.990000</td>\n",
       "    </tr>\n",
       "  </tbody>\n",
       "</table>\n",
       "</div>"
      ],
      "text/plain": [
       "          indirect_ar_pct  direct_pct  theoretical\n",
       "prob                                              \n",
       "0.010000         0.008368    0.008368     0.010000\n",
       "0.056667         0.075314    0.062762     0.056667\n",
       "0.103333         0.112971    0.117155     0.103333\n",
       "0.150000         0.154812    0.158996     0.150000\n",
       "0.196667         0.213389    0.200837     0.196667\n",
       "0.243333         0.267782    0.234310     0.243333\n",
       "0.290000         0.297071    0.280335     0.290000\n",
       "0.336667         0.338912    0.301255     0.336667\n",
       "0.383333         0.376569    0.326360     0.383333\n",
       "0.430000         0.451883    0.368201     0.430000\n",
       "0.476667         0.502092    0.414226     0.476667\n",
       "0.523333         0.573222    0.460251     0.523333\n",
       "0.570000         0.594142    0.502092     0.570000\n",
       "0.616667         0.640167    0.560669     0.616667\n",
       "0.663333         0.682008    0.631799     0.663333\n",
       "0.710000         0.711297    0.707113     0.710000\n",
       "0.756667         0.757322    0.748954     0.756667\n",
       "0.803333         0.782427    0.790795     0.803333\n",
       "0.850000         0.803347    0.841004     0.850000\n",
       "0.896667         0.845188    0.882845     0.896667\n",
       "0.943333         0.870293    0.916318     0.943333\n",
       "0.990000         0.941423    0.966527     0.990000"
      ]
     },
     "execution_count": 19,
     "metadata": {},
     "output_type": "execute_result"
    }
   ],
   "source": [
    "coverage_df"
   ]
  },
  {
   "cell_type": "code",
   "execution_count": 20,
   "metadata": {},
   "outputs": [
    {
     "data": {
      "text/plain": [
       "Text(0.5, 1.0, 'Scaled empirical Coverage Curve')"
      ]
     },
     "execution_count": 20,
     "metadata": {},
     "output_type": "execute_result"
    },
    {
     "data": {
      "image/png": "[encoded data removed]",
      "text/plain": [
       "<Figure size 1152x288 with 2 Axes>"
      ]
     },
     "metadata": {
      "needs_background": "light"
     },
     "output_type": "display_data"
    }
   ],
   "source": [
    "prob_list = coverage_df.index.values\n",
    "\n",
    "fig, [axa,axb] = plt.subplots(1,2, figsize = (16,4))\n",
    "coverage_df.plot(ax = axa, color =  ['red','blue','black'] )\n",
    "axa.legend(['Indirect', 'Direct', 'Theoretical'])\n",
    "axa.set_title('Empirical coverage curve')\n",
    "\n",
    "coverage_df[['indirect_ar_pct','direct_pct']].subtract(prob_list, axis = 0).div(np.sqrt(prob_list*(1-prob_list)), axis = 0).multiply(np.sqrt(len(ts))).plot(ax = axb,color = ['red','blue'] )\n",
    "axb.legend(['Indirect', 'Direct'])\n",
    "axb.set_title('Scaled empirical Coverage Curve')"
   ]
  },
  {
   "cell_type": "markdown",
   "metadata": {},
   "source": [
    "# Score functions"
   ]
  },
  {
   "cell_type": "code",
   "execution_count": 21,
   "metadata": {},
   "outputs": [],
   "source": [
    "def score(x,lower,upper,prob):\n",
    "    return (upper-lower) + (2/(1-prob))*(max(x-upper,0) + max(lower-x,0))"
   ]
  },
  {
   "cell_type": "code",
   "execution_count": 22,
   "metadata": {},
   "outputs": [],
   "source": [
    "score_df = pd.DataFrame(columns = ['prob','indirect', 'direct']).set_index('prob')\n",
    "\n",
    "for prob in prob_list:\n",
    "    score_df.loc[prob] = 0.0\n",
    "\n",
    "for time in range(ts.index.min() + 4, ts.index.max() +1):\n",
    "    y_t4 = ts.loc[time,'log']\n",
    "    y_t = ts.loc[time-4,'log']\n",
    "    x_t = ts.loc[time-4, 'log_dif']\n",
    "    \n",
    "    direct_xt = ts.loc[time-4,'4_ldif']\n",
    "    \n",
    "    indirect_sims = k_ahead_dist(x_t,4)\n",
    "    \n",
    "    for prob in prob_list:\n",
    "        indirect_ci = y_t + np.quantile(indirect_sims, [ .5*(1-prob) ,.5*(1+prob)])\n",
    "        \n",
    "        lower_direct = direct_quant_df.loc[.5*(1-prob)].values\n",
    "        lower = lower_direct[0] + lower_direct[1]*direct_xt\n",
    "        upper_direct = direct_quant_df.loc[.5*(1+prob)].values\n",
    "        upper = upper_direct[0] + upper_direct[1]*direct_xt\n",
    "\n",
    "        direct_ci = y_t + np.array( [lower,upper]   )\n",
    "\n",
    "        \n",
    "        score_df.loc[prob] = score_df.loc[prob] + [score(y_t4, indirect_ci[0], indirect_ci[1], prob),\n",
    "                                                   score(y_t4, direct_ci[0], direct_ci[1], prob) ]        \n",
    "score_df = score_df.div(len(ts))"
   ]
  },
  {
   "cell_type": "code",
   "execution_count": 25,
   "metadata": {},
   "outputs": [
    {
     "data": {
      "text/plain": [
       "Text(0.5, 1.0, 'Interval forecast scores')"
      ]
     },
     "execution_count": 25,
     "metadata": {},
     "output_type": "execute_result"
    },
    {
     "data": {
      "image/png": "[encoded data removed]",
      "text/plain": [
       "<Figure size 864x432 with 1 Axes>"
      ]
     },
     "metadata": {
      "needs_background": "light"
     },
     "output_type": "display_data"
    }
   ],
   "source": [
    "fig, ax = plt.subplots(figsize = (12,6))\n",
    "score_df.plot(ax = ax)\n",
    "\n",
    "ax.legend(['Indirect','Direct'])\n",
    "ax.set_title('Interval forecast scores')"
   ]
  },
  {
   "cell_type": "code",
   "execution_count": 29,
   "metadata": {},
   "outputs": [
    {
     "data": {
      "text/plain": [
       "<matplotlib.axes._subplots.AxesSubplot at 0x1d4f4f0>"
      ]
     },
     "execution_count": 29,
     "metadata": {},
     "output_type": "execute_result"
    },
    {
     "data": {
      "image/png": "[encoded data removed]",
      "text/plain": [
       "<Figure size 432x288 with 1 Axes>"
      ]
     },
     "metadata": {
      "needs_background": "light"
     },
     "output_type": "display_data"
    }
   ],
   "source": [
    "( (score_df['indirect']-score_df['direct'])/score_df['indirect'] ).plot()"
   ]
  },
  {
   "cell_type": "code",
   "execution_count": null,
   "metadata": {},
   "outputs": [],
   "source": []
  }
 ],
 "metadata": {
  "kernelspec": {
   "display_name": "Python 3",
   "language": "python",
   "name": "python3"
  },
  "language_info": {
   "codemirror_mode": {
    "name": "ipython",
    "version": 3
   },
   "file_extension": ".py",
   "mimetype": "text/x-python",
   "name": "python",
   "nbconvert_exporter": "python",
   "pygments_lexer": "ipython3",
   "version": "3.8.3"
  }
 },
 "nbformat": 4,
 "nbformat_minor": 4
}
