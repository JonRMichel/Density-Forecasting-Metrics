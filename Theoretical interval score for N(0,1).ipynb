{
 "cells": [
  {
   "cell_type": "code",
   "execution_count": 1,
   "metadata": {},
   "outputs": [],
   "source": [
    "import numpy as np\n",
    "import pandas as pd\n",
    "import matplotlib.pyplot as plt\n",
    "import scipy\n",
    "from scipy import stats"
   ]
  },
  {
   "cell_type": "code",
   "execution_count": 2,
   "metadata": {},
   "outputs": [],
   "source": [
    "prob_grid = np.linspace(.01,.99,30)"
   ]
  },
  {
   "cell_type": "code",
   "execution_count": 19,
   "metadata": {},
   "outputs": [],
   "source": [
    "def score(x,lower,upper,prob):\n",
    "    return (upper-lower) + (2/(1-prob))*(max(x-upper,0) + max(lower-x,0))\n",
    "#     return  (upper-lower)**.5 + (2/(1-prob))**.5 *(max(x-upper,0) + max(lower-x,0))\n",
    "\n",
    "\n",
    "def sample_score(sample, prob):\n",
    "    ci = scipy.stats.norm.interval(prob, loc= 0.0, scale= 1.0)\n",
    "    prob_score = 0\n",
    "\n",
    "    for item in sample:\n",
    "        prob_score = prob_score +score(item, ci[0],ci[1], prob)\n",
    "    \n",
    "    return prob_score/len(sample)\n",
    "\n",
    "def sample_score_fn(sample):\n",
    "    fn = []\n",
    "    \n",
    "    for prob in prob_grid:\n",
    "        fn.append(sample_score(sample,prob))\n",
    "        \n",
    "    return np.array(fn)"
   ]
  },
  {
   "cell_type": "code",
   "execution_count": null,
   "metadata": {},
   "outputs": [],
   "source": [
    "fn_df = pd.DataFrame(columns = prob_grid)\n",
    "\n",
    "for i in range(500):\n",
    "    sample = np.random.normal(0,1,50)\n",
    "    fn_df.loc[i] = sample_score_fn(sample)"
   ]
  },
  {
   "cell_type": "code",
   "execution_count": null,
   "metadata": {},
   "outputs": [],
   "source": [
    "fig, ax = plt.subplots(figsize = (16,8))\n",
    "fn_df.mean().plot(ax = ax)"
   ]
  },
  {
   "cell_type": "code",
   "execution_count": null,
   "metadata": {},
   "outputs": [],
   "source": [
    "fig, ax = plt.subplots(figsize = (8,4))\n",
    "pd.pivot_table(fn_df.quantile([.05,.25,.5,.75,.95]).reset_index(),\n",
    "               columns = 'index').plot(ax = ax, color = ['Yellow','Blue','Black','Red','Pink'])\n",
    "\n",
    "ax.legend([.05,.25,.5,.75,.95])\n",
    "ax.set_title('Quantiles of the score function')"
   ]
  },
  {
   "cell_type": "code",
   "execution_count": null,
   "metadata": {},
   "outputs": [],
   "source": []
  },
  {
   "cell_type": "code",
   "execution_count": null,
   "metadata": {},
   "outputs": [],
   "source": []
  }
 ],
 "metadata": {
  "kernelspec": {
   "display_name": "Python 3",
   "language": "python",
   "name": "python3"
  },
  "language_info": {
   "codemirror_mode": {
    "name": "ipython",
    "version": 3
   },
   "file_extension": ".py",
   "mimetype": "text/x-python",
   "name": "python",
   "nbconvert_exporter": "python",
   "pygments_lexer": "ipython3",
   "version": "3.8.3"
  }
 },
 "nbformat": 4,
 "nbformat_minor": 4
}
