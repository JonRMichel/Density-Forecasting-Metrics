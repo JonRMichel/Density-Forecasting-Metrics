{
 "cells": [
  {
   "cell_type": "code",
   "execution_count": 48,
   "metadata": {},
   "outputs": [],
   "source": [
    "import numpy as np\n",
    "import pandas as pd\n",
    "import matplotlib.pyplot as plt\n",
    "import scipy\n",
    "from scipy.stats import norm\n",
    "from scipy import stats"
   ]
  },
  {
   "cell_type": "markdown",
   "metadata": {},
   "source": [
    "# Generate critical values (TO-DO: Fix). Looked up .05 is 1.656 though)"
   ]
  },
  {
   "cell_type": "code",
   "execution_count": 231,
   "metadata": {},
   "outputs": [],
   "source": [
    "# sample_length = 10000\n",
    "\n",
    "# bb_sq = []\n",
    "\n",
    "# for _ in range(0,1000):\n",
    "#     brownian = np.cumsum( np.random.normal(0,1,sample_size))/np.sqrt(sample_length)\n",
    "\n",
    "#     bb_sq.append(  1/(1.0e-04) *np.square(brownian - np.linspace(0,1,sample_size)*brownian[-1]).mean())"
   ]
  },
  {
   "cell_type": "code",
   "execution_count": 232,
   "metadata": {},
   "outputs": [],
   "source": [
    "# pd.DataFrame(bb_sq).hist()\n",
    "# pd.DataFrame(bb_sq).quantile([.75,.9,.95])"
   ]
  },
  {
   "cell_type": "markdown",
   "metadata": {},
   "source": [
    "# Generate some tests"
   ]
  },
  {
   "cell_type": "markdown",
   "metadata": {},
   "source": [
    "## Normal data with density correct"
   ]
  },
  {
   "cell_type": "code",
   "execution_count": 244,
   "metadata": {},
   "outputs": [],
   "source": [
    "sample_size = 30\n",
    "\n",
    "pit_pvals = []\n",
    "sq_test_stats = []\n",
    "cts = []\n",
    "\n",
    "for _ in range(0,1000):\n",
    "    sample = np.random.normal(0,1,sample_size)\n",
    "\n",
    "    #ks p-value\n",
    "    pit_pvals.append(stats.kstest(norm.cdf(sample), 'uniform')[1])\n",
    "\n",
    "    alpha_list = np.linspace(.05,.95, 20)\n",
    "#     alpha_list = [.5]\n",
    "    alpha_step = alpha_list[1] - alpha_list[0]\n",
    "\n",
    "    #Square prediction interval test\n",
    "    pred_test = 0\n",
    "    for alpha in alpha_list:\n",
    "        ci =  scipy.stats.norm.interval(alpha, loc=0, scale=1)\n",
    "        ct_alpha = ((1*(sample > ci[0])*(sample<ci[1])).sum() - sample_size*alpha)/np.sqrt(sample_size*alpha*(1-alpha))\n",
    "        pred_test = pred_test + np.square(ct_alpha)*(alpha_step)\n",
    "        cts.append(ct_alpha)\n",
    "\n",
    "    sq_test_stats.append(pred_test )"
   ]
  },
  {
   "cell_type": "code",
   "execution_count": 245,
   "metadata": {},
   "outputs": [
    {
     "data": {
      "text/plain": [
       "0    0.887\n",
       "dtype: float64"
      ]
     },
     "execution_count": 245,
     "metadata": {},
     "output_type": "execute_result"
    },
    {
     "data": {
      "image/png": "[encoded data removed]",
      "text/plain": [
       "<Figure size 432x288 with 1 Axes>"
      ]
     },
     "metadata": {
      "needs_background": "light"
     },
     "output_type": "display_data"
    }
   ],
   "source": [
    "pd.DataFrame(sq_test_stats).hist()\n",
    "(pd.DataFrame(sq_test_stats) < 1.656).mean()"
   ]
  },
  {
   "cell_type": "code",
   "execution_count": 246,
   "metadata": {},
   "outputs": [
    {
     "data": {
      "text/plain": [
       "0    0.909\n",
       "dtype: float64"
      ]
     },
     "execution_count": 246,
     "metadata": {},
     "output_type": "execute_result"
    },
    {
     "data": {
      "image/png": "[encoded data removed]",
      "text/plain": [
       "<Figure size 432x288 with 1 Axes>"
      ]
     },
     "metadata": {
      "needs_background": "light"
     },
     "output_type": "display_data"
    }
   ],
   "source": [
    "pd.DataFrame(pit_pvals).hist()\n",
    "1*(pd.DataFrame(pit_pvals) < .9).mean()"
   ]
  },
  {
   "cell_type": "markdown",
   "metadata": {},
   "source": [
    "# Data is now U[-sqrt(3),sqrt(3)] while density is beleived to be N(0,1)"
   ]
  },
  {
   "cell_type": "code",
   "execution_count": 247,
   "metadata": {},
   "outputs": [],
   "source": [
    "sample_size = 30\n",
    "sqrt_3 = np.sqrt(3)\n",
    "\n",
    "pit_pvals = []\n",
    "sq_test_stats = []\n",
    "cts = []\n",
    "\n",
    "for _ in range(0,1000):\n",
    "    sample = np.random.uniform(-sqrt_3,sqrt_3,sample_size)\n",
    "\n",
    "    #ks p-value\n",
    "    pit_pvals.append(stats.kstest(norm.cdf(sample), 'uniform')[1])\n",
    "\n",
    "    alpha_list = np.linspace(.05,.95, 20)\n",
    "#     alpha_list = [.5]\n",
    "    alpha_step = alpha_list[1] - alpha_list[0]\n",
    "\n",
    "    #Square prediction interval test\n",
    "    pred_test = 0\n",
    "    for alpha in alpha_list:\n",
    "        ci =  scipy.stats.norm.interval(alpha, loc=0, scale=1)\n",
    "        ct_alpha = ((1*(sample > ci[0])*(sample<ci[1])).sum() - sample_size*alpha)/np.sqrt(sample_size*alpha*(1-alpha))\n",
    "        pred_test = pred_test + np.square(ct_alpha)*(alpha_step)\n",
    "        cts.append(ct_alpha)\n",
    "\n",
    "    sq_test_stats.append(pred_test )"
   ]
  },
  {
   "cell_type": "code",
   "execution_count": 248,
   "metadata": {},
   "outputs": [
    {
     "data": {
      "text/plain": [
       "0    0.625\n",
       "dtype: float64"
      ]
     },
     "execution_count": 248,
     "metadata": {},
     "output_type": "execute_result"
    },
    {
     "data": {
      "image/png": "[encoded data removed]",
      "text/plain": [
       "<Figure size 432x288 with 1 Axes>"
      ]
     },
     "metadata": {
      "needs_background": "light"
     },
     "output_type": "display_data"
    }
   ],
   "source": [
    "pd.DataFrame(sq_test_stats).hist()\n",
    "(pd.DataFrame(sq_test_stats) < 1.656).mean()"
   ]
  },
  {
   "cell_type": "code",
   "execution_count": 249,
   "metadata": {},
   "outputs": [
    {
     "data": {
      "text/plain": [
       "0    0.943\n",
       "dtype: float64"
      ]
     },
     "execution_count": 249,
     "metadata": {},
     "output_type": "execute_result"
    },
    {
     "data": {
      "image/png": "[encoded data removed]",
      "text/plain": [
       "<Figure size 432x288 with 1 Axes>"
      ]
     },
     "metadata": {
      "needs_background": "light"
     },
     "output_type": "display_data"
    }
   ],
   "source": [
    "pd.DataFrame(pit_pvals).hist()\n",
    "1*(pd.DataFrame(pit_pvals) < .9).mean()"
   ]
  },
  {
   "cell_type": "code",
   "execution_count": null,
   "metadata": {},
   "outputs": [],
   "source": []
  }
 ],
 "metadata": {
  "kernelspec": {
   "display_name": "Python 3",
   "language": "python",
   "name": "python3"
  },
  "language_info": {
   "codemirror_mode": {
    "name": "ipython",
    "version": 3
   },
   "file_extension": ".py",
   "mimetype": "text/x-python",
   "name": "python",
   "nbconvert_exporter": "python",
   "pygments_lexer": "ipython3",
   "version": "3.8.3"
  }
 },
 "nbformat": 4,
 "nbformat_minor": 4
}
