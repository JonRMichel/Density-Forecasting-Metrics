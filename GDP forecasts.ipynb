{
 "cells": [
  {
   "cell_type": "code",
   "execution_count": 1,
   "metadata": {},
   "outputs": [],
   "source": [
    "import numpy as np\n",
    "import pandas as pd\n",
    "import scipy\n",
    "from scipy.stats import norm\n",
    "from scipy import stats\n",
    "from statsmodels.tsa.arima.model import ARIMA\n",
    "from statsmodels.tsa.api import ExponentialSmoothing, SimpleExpSmoothing, Holt\n",
    "import matplotlib.pyplot as plt\n",
    "import statsmodels.api as sm"
   ]
  },
  {
   "cell_type": "code",
   "execution_count": 2,
   "metadata": {},
   "outputs": [],
   "source": [
    "data = pd.read_excel('C:/Users/michelj8/Documents/Github/data_sets/real_gdp.xlsx', sheet_name = 'data')\n",
    "data = data.query('observation_date < 2020 & observation_date > 1959')\n",
    "data = data.dropna().reset_index()"
   ]
  },
  {
   "cell_type": "code",
   "execution_count": 3,
   "metadata": {},
   "outputs": [
    {
     "name": "stderr",
     "output_type": "stream",
     "text": [
      "<ipython-input-3-8d6b67f75459>:3: SettingWithCopyWarning: \n",
      "A value is trying to be set on a copy of a slice from a DataFrame.\n",
      "Try using .loc[row_indexer,col_indexer] = value instead\n",
      "\n",
      "See the caveats in the documentation: https://pandas.pydata.org/pandas-docs/stable/user_guide/indexing.html#returning-a-view-versus-a-copy\n",
      "  ts['log'] = np.log(ts['level'])\n"
     ]
    },
    {
     "data": {
      "text/plain": [
       "<matplotlib.axes._subplots.AxesSubplot at 0xaa47160>"
      ]
     },
     "execution_count": 3,
     "metadata": {},
     "output_type": "execute_result"
    },
    {
     "data": {
      "image/png": "[encoded data removed]",
      "text/plain": [
       "<Figure size 432x288 with 1 Axes>"
      ]
     },
     "metadata": {
      "needs_background": "light"
     },
     "output_type": "display_data"
    }
   ],
   "source": [
    "ts = data[['GDPC1']]\n",
    "ts.columns = ['level']\n",
    "ts['log'] = np.log(ts['level'])\n",
    "ts['log'].plot()"
   ]
  },
  {
   "cell_type": "markdown",
   "metadata": {},
   "source": [
    "# Build Models"
   ]
  },
  {
   "cell_type": "markdown",
   "metadata": {},
   "source": [
    "# 1-step ahead AR(1) iterated"
   ]
  },
  {
   "cell_type": "code",
   "execution_count": 4,
   "metadata": {},
   "outputs": [],
   "source": [
    "ts['log_dif'] = ts['log'].diff(1)\n",
    "ts['4_ldif'] = ts['log'].diff(4)\n",
    "ts = ts.dropna()"
   ]
  },
  {
   "cell_type": "code",
   "execution_count": 5,
   "metadata": {},
   "outputs": [
    {
     "name": "stderr",
     "output_type": "stream",
     "text": [
      "C:\\Users\\michelj8\\Anaconda3\\lib\\site-packages\\statsmodels\\tsa\\base\\tsa_model.py:213: ValueWarning: An unsupported index was provided and will be ignored when e.g. forecasting.\n",
      "  warnings.warn('An unsupported index was provided and will be'\n",
      "C:\\Users\\michelj8\\Anaconda3\\lib\\site-packages\\statsmodels\\tsa\\base\\tsa_model.py:213: ValueWarning: An unsupported index was provided and will be ignored when e.g. forecasting.\n",
      "  warnings.warn('An unsupported index was provided and will be'\n",
      "C:\\Users\\michelj8\\Anaconda3\\lib\\site-packages\\statsmodels\\tsa\\base\\tsa_model.py:213: ValueWarning: An unsupported index was provided and will be ignored when e.g. forecasting.\n",
      "  warnings.warn('An unsupported index was provided and will be'\n"
     ]
    },
    {
     "name": "stdout",
     "output_type": "stream",
     "text": [
      "                               SARIMAX Results                                \n",
      "==============================================================================\n",
      "Dep. Variable:                log_dif   No. Observations:                  239\n",
      "Model:                 ARIMA(1, 0, 0)   Log Likelihood                 825.707\n",
      "Date:                Fri, 23 Oct 2020   AIC                          -1645.414\n",
      "Time:                        15:33:40   BIC                          -1634.985\n",
      "Sample:                             0   HQIC                         -1641.212\n",
      "                                - 239                                         \n",
      "Covariance Type:                  opg                                         \n",
      "==============================================================================\n",
      "                 coef    std err          z      P>|z|      [0.025      0.975]\n",
      "------------------------------------------------------------------------------\n",
      "const          0.0074      0.001     10.044      0.000       0.006       0.009\n",
      "ar.L1          0.3220      0.055      5.829      0.000       0.214       0.430\n",
      "sigma2      5.833e-05   3.76e-06     15.519      0.000     5.1e-05    6.57e-05\n",
      "===================================================================================\n",
      "Ljung-Box (Q):                       61.74   Jarque-Bera (JB):                41.54\n",
      "Prob(Q):                              0.02   Prob(JB):                         0.00\n",
      "Heteroskedasticity (H):               0.35   Skew:                            -0.10\n",
      "Prob(H) (two-sided):                  0.00   Kurtosis:                         5.03\n",
      "===================================================================================\n",
      "\n",
      "Warnings:\n",
      "[1] Covariance matrix calculated using the outer product of gradients (complex-step).\n"
     ]
    }
   ],
   "source": [
    "#Fit 1-step model\n",
    "arma_model = ARIMA(ts['log_dif'], order=(1, 0, 0)).fit()\n",
    "print(arma_model.summary())"
   ]
  },
  {
   "cell_type": "code",
   "execution_count": 6,
   "metadata": {},
   "outputs": [],
   "source": [
    "omega, rho, sigsq =  arma_model.params\n",
    "\n",
    "year_mean = np.sum([omega*(4-i)*rho**i for i in range(0,4)])\n",
    "year_rho = np.sum([rho**i for i in range(1,5)])\n",
    "year_var = sigsq*np.sum( [  np.square(np.sum([rho**i for i in range(0,k)])) for k in range(1,5)])"
   ]
  },
  {
   "cell_type": "code",
   "execution_count": 7,
   "metadata": {},
   "outputs": [
    {
     "data": {
      "text/html": [
       "<div>\n",
       "<style scoped>\n",
       "    .dataframe tbody tr th:only-of-type {\n",
       "        vertical-align: middle;\n",
       "    }\n",
       "\n",
       "    .dataframe tbody tr th {\n",
       "        vertical-align: top;\n",
       "    }\n",
       "\n",
       "    .dataframe thead th {\n",
       "        text-align: right;\n",
       "    }\n",
       "</style>\n",
       "<table border=\"1\" class=\"dataframe\">\n",
       "  <thead>\n",
       "    <tr style=\"text-align: right;\">\n",
       "      <th></th>\n",
       "      <th>level</th>\n",
       "      <th>log</th>\n",
       "      <th>log_dif</th>\n",
       "      <th>4_ldif</th>\n",
       "      <th>ar_4step_pred</th>\n",
       "    </tr>\n",
       "  </thead>\n",
       "  <tbody>\n",
       "    <tr>\n",
       "      <th>4</th>\n",
       "      <td>3258.088</td>\n",
       "      <td>8.088896</td>\n",
       "      <td>-0.005408</td>\n",
       "      <td>0.020374</td>\n",
       "      <td>NaN</td>\n",
       "    </tr>\n",
       "    <tr>\n",
       "      <th>5</th>\n",
       "      <td>3274.029</td>\n",
       "      <td>8.093777</td>\n",
       "      <td>0.004881</td>\n",
       "      <td>0.024543</td>\n",
       "      <td>NaN</td>\n",
       "    </tr>\n",
       "    <tr>\n",
       "      <th>6</th>\n",
       "      <td>3232.009</td>\n",
       "      <td>8.080859</td>\n",
       "      <td>-0.012917</td>\n",
       "      <td>0.008779</td>\n",
       "      <td>NaN</td>\n",
       "    </tr>\n",
       "    <tr>\n",
       "      <th>7</th>\n",
       "      <td>3253.826</td>\n",
       "      <td>8.087587</td>\n",
       "      <td>0.006728</td>\n",
       "      <td>-0.006717</td>\n",
       "      <td>NaN</td>\n",
       "    </tr>\n",
       "    <tr>\n",
       "      <th>8</th>\n",
       "      <td>3309.059</td>\n",
       "      <td>8.104419</td>\n",
       "      <td>0.016832</td>\n",
       "      <td>0.015523</td>\n",
       "      <td>8.124766</td>\n",
       "    </tr>\n",
       "    <tr>\n",
       "      <th>...</th>\n",
       "      <td>...</td>\n",
       "      <td>...</td>\n",
       "      <td>...</td>\n",
       "      <td>...</td>\n",
       "      <td>...</td>\n",
       "    </tr>\n",
       "    <tr>\n",
       "      <th>238</th>\n",
       "      <td>18813.923</td>\n",
       "      <td>9.842352</td>\n",
       "      <td>0.003278</td>\n",
       "      <td>0.024454</td>\n",
       "      <td>9.860777</td>\n",
       "    </tr>\n",
       "    <tr>\n",
       "      <th>239</th>\n",
       "      <td>18950.347</td>\n",
       "      <td>9.849578</td>\n",
       "      <td>0.007225</td>\n",
       "      <td>0.022405</td>\n",
       "      <td>9.869939</td>\n",
       "    </tr>\n",
       "    <tr>\n",
       "      <th>240</th>\n",
       "      <td>19020.599</td>\n",
       "      <td>9.853278</td>\n",
       "      <td>0.003700</td>\n",
       "      <td>0.019441</td>\n",
       "      <td>9.875378</td>\n",
       "    </tr>\n",
       "    <tr>\n",
       "      <th>241</th>\n",
       "      <td>19141.744</td>\n",
       "      <td>9.859627</td>\n",
       "      <td>0.006349</td>\n",
       "      <td>0.020552</td>\n",
       "      <td>9.879946</td>\n",
       "    </tr>\n",
       "    <tr>\n",
       "      <th>242</th>\n",
       "      <td>19253.959</td>\n",
       "      <td>9.865472</td>\n",
       "      <td>0.005845</td>\n",
       "      <td>0.023120</td>\n",
       "      <td>9.882303</td>\n",
       "    </tr>\n",
       "  </tbody>\n",
       "</table>\n",
       "<p>239 rows × 5 columns</p>\n",
       "</div>"
      ],
      "text/plain": [
       "         level       log   log_dif    4_ldif  ar_4step_pred\n",
       "4     3258.088  8.088896 -0.005408  0.020374            NaN\n",
       "5     3274.029  8.093777  0.004881  0.024543            NaN\n",
       "6     3232.009  8.080859 -0.012917  0.008779            NaN\n",
       "7     3253.826  8.087587  0.006728 -0.006717            NaN\n",
       "8     3309.059  8.104419  0.016832  0.015523       8.124766\n",
       "..         ...       ...       ...       ...            ...\n",
       "238  18813.923  9.842352  0.003278  0.024454       9.860777\n",
       "239  18950.347  9.849578  0.007225  0.022405       9.869939\n",
       "240  19020.599  9.853278  0.003700  0.019441       9.875378\n",
       "241  19141.744  9.859627  0.006349  0.020552       9.879946\n",
       "242  19253.959  9.865472  0.005845  0.023120       9.882303\n",
       "\n",
       "[239 rows x 5 columns]"
      ]
     },
     "execution_count": 7,
     "metadata": {},
     "output_type": "execute_result"
    }
   ],
   "source": [
    "ts['ar_4step_pred'] =  ( year_mean + year_rho*ts['log_dif']) + ts['log']\n",
    "ts['ar_4step_pred'] = ts['ar_4step_pred'].shift(4)\n",
    "ts"
   ]
  },
  {
   "cell_type": "code",
   "execution_count": 8,
   "metadata": {
    "scrolled": true
   },
   "outputs": [
    {
     "data": {
      "text/plain": [
       "0.13451051845129236"
      ]
     },
     "execution_count": 8,
     "metadata": {},
     "output_type": "execute_result"
    },
    {
     "data": {
      "image/png": "[encoded data removed]",
      "text/plain": [
       "<Figure size 432x288 with 1 Axes>"
      ]
     },
     "metadata": {
      "needs_background": "light"
     },
     "output_type": "display_data"
    }
   ],
   "source": [
    "(ts['log']-ts['ar_4step_pred']).plot()\n",
    "np.square((ts['log']-ts['ar_4step_pred'])).sum()"
   ]
  },
  {
   "cell_type": "markdown",
   "metadata": {},
   "source": [
    "# \"Direct Forecast\" "
   ]
  },
  {
   "cell_type": "code",
   "execution_count": 9,
   "metadata": {},
   "outputs": [
    {
     "name": "stdout",
     "output_type": "stream",
     "text": [
      "                            OLS Regression Results                            \n",
      "==============================================================================\n",
      "Dep. Variable:                      y   R-squared:                       0.043\n",
      "Model:                            OLS   Adj. R-squared:                  0.039\n",
      "Method:                 Least Squares   F-statistic:                     10.54\n",
      "Date:                Fri, 23 Oct 2020   Prob (F-statistic):            0.00134\n",
      "Time:                        15:33:40   Log-Likelihood:                 572.19\n",
      "No. Observations:                 235   AIC:                            -1140.\n",
      "Df Residuals:                     233   BIC:                            -1133.\n",
      "Df Model:                           1                                         \n",
      "Covariance Type:            nonrobust                                         \n",
      "==============================================================================\n",
      "                 coef    std err          t      P>|t|      [0.025      0.975]\n",
      "------------------------------------------------------------------------------\n",
      "const          0.0239      0.002     10.149      0.000       0.019       0.029\n",
      "x1             0.2065      0.064      3.247      0.001       0.081       0.332\n",
      "==============================================================================\n",
      "Omnibus:                        8.772   Durbin-Watson:                   0.307\n",
      "Prob(Omnibus):                  0.012   Jarque-Bera (JB):               10.369\n",
      "Skew:                          -0.321   Prob(JB):                      0.00560\n",
      "Kurtosis:                       3.804   Cond. No.                         45.8\n",
      "==============================================================================\n",
      "\n",
      "Warnings:\n",
      "[1] Standard Errors assume that the covariance matrix of the errors is correctly specified.\n"
     ]
    },
    {
     "name": "stderr",
     "output_type": "stream",
     "text": [
      "C:\\Users\\michelj8\\Anaconda3\\lib\\site-packages\\pandas\\core\\frame.py:2963: SettingWithCopyWarning: \n",
      "A value is trying to be set on a copy of a slice from a DataFrame.\n",
      "Try using .loc[row_indexer,col_indexer] = value instead\n",
      "\n",
      "See the caveats in the documentation: https://pandas.pydata.org/pandas-docs/stable/user_guide/indexing.html#returning-a-view-versus-a-copy\n",
      "  self[k1] = value[k2]\n"
     ]
    }
   ],
   "source": [
    "reg_df = ts[['4_ldif']]\n",
    "reg_df[['year_lag']] = reg_df[['4_ldif']].shift(4)\n",
    "reg_df = reg_df.dropna()\n",
    "\n",
    "X = reg_df['year_lag'].values\n",
    "Y = reg_df['4_ldif'].values\n",
    "X = sm.add_constant(X)\n",
    "direct_model = sm.OLS(Y,X)\n",
    "results = direct_model.fit()\n",
    "print(results.summary())"
   ]
  },
  {
   "cell_type": "code",
   "execution_count": 10,
   "metadata": {},
   "outputs": [
    {
     "data": {
      "text/plain": [
       "4      0.020374\n",
       "5      0.024543\n",
       "6      0.008779\n",
       "7     -0.006717\n",
       "8      0.015523\n",
       "         ...   \n",
       "238    0.024454\n",
       "239    0.022405\n",
       "240    0.019441\n",
       "241    0.020552\n",
       "242    0.023120\n",
       "Name: 4_ldif, Length: 239, dtype: float64"
      ]
     },
     "execution_count": 10,
     "metadata": {},
     "output_type": "execute_result"
    }
   ],
   "source": [
    "ts['4_ldif'] "
   ]
  },
  {
   "cell_type": "code",
   "execution_count": 11,
   "metadata": {},
   "outputs": [],
   "source": [
    "alpha,beta = results.params\n",
    "direct_sigsq = np.mean(np.square(results.resid))\n",
    "\n",
    "ts['direct_pred'] = alpha + beta *ts['4_ldif']+ts['log']\n",
    "ts['direct_pred'] = ts['direct_pred'].shift(4)"
   ]
  },
  {
   "cell_type": "code",
   "execution_count": 12,
   "metadata": {},
   "outputs": [
    {
     "data": {
      "text/plain": [
       "0.0004494075088313064"
      ]
     },
     "execution_count": 12,
     "metadata": {},
     "output_type": "execute_result"
    }
   ],
   "source": [
    "direct_sigsq"
   ]
  },
  {
   "cell_type": "code",
   "execution_count": 13,
   "metadata": {},
   "outputs": [
    {
     "data": {
      "text/plain": [
       "0.10561076457535747"
      ]
     },
     "execution_count": 13,
     "metadata": {},
     "output_type": "execute_result"
    },
    {
     "data": {
      "image/png": "[encoded data removed]",
      "text/plain": [
       "<Figure size 432x288 with 1 Axes>"
      ]
     },
     "metadata": {
      "needs_background": "light"
     },
     "output_type": "display_data"
    }
   ],
   "source": [
    "(ts['log']-ts['direct_pred']).plot()\n",
    "np.square((ts['log']-ts['direct_pred'])).sum()"
   ]
  },
  {
   "cell_type": "code",
   "execution_count": 14,
   "metadata": {},
   "outputs": [
    {
     "name": "stderr",
     "output_type": "stream",
     "text": [
      "<ipython-input-14-a45278bb29e9>:2: SettingWithCopyWarning: \n",
      "A value is trying to be set on a copy of a slice from a DataFrame.\n",
      "Try using .loc[row_indexer,col_indexer] = value instead\n",
      "\n",
      "See the caveats in the documentation: https://pandas.pydata.org/pandas-docs/stable/user_guide/indexing.html#returning-a-view-versus-a-copy\n",
      "  ts['indirect_debias'] = ts['ar_4step_pred'] + (ts['log'] - ts['ar_4step_pred'] ).mean()\n"
     ]
    },
    {
     "data": {
      "text/html": [
       "<div>\n",
       "<style scoped>\n",
       "    .dataframe tbody tr th:only-of-type {\n",
       "        vertical-align: middle;\n",
       "    }\n",
       "\n",
       "    .dataframe tbody tr th {\n",
       "        vertical-align: top;\n",
       "    }\n",
       "\n",
       "    .dataframe thead th {\n",
       "        text-align: right;\n",
       "    }\n",
       "</style>\n",
       "<table border=\"1\" class=\"dataframe\">\n",
       "  <thead>\n",
       "    <tr style=\"text-align: right;\">\n",
       "      <th></th>\n",
       "      <th>level</th>\n",
       "      <th>log</th>\n",
       "      <th>log_dif</th>\n",
       "      <th>4_ldif</th>\n",
       "      <th>ar_4step_pred</th>\n",
       "      <th>direct_pred</th>\n",
       "      <th>indirect_debias</th>\n",
       "    </tr>\n",
       "  </thead>\n",
       "  <tbody>\n",
       "    <tr>\n",
       "      <th>8</th>\n",
       "      <td>3309.059</td>\n",
       "      <td>8.104419</td>\n",
       "      <td>0.016832</td>\n",
       "      <td>0.015523</td>\n",
       "      <td>8.124766</td>\n",
       "      <td>8.117032</td>\n",
       "      <td>8.112975</td>\n",
       "    </tr>\n",
       "    <tr>\n",
       "      <th>9</th>\n",
       "      <td>3372.581</td>\n",
       "      <td>8.123434</td>\n",
       "      <td>0.019014</td>\n",
       "      <td>0.029657</td>\n",
       "      <td>8.134480</td>\n",
       "      <td>8.122774</td>\n",
       "      <td>8.122689</td>\n",
       "    </tr>\n",
       "    <tr>\n",
       "      <th>10</th>\n",
       "      <td>3438.721</td>\n",
       "      <td>8.142855</td>\n",
       "      <td>0.019421</td>\n",
       "      <td>0.061996</td>\n",
       "      <td>8.113202</td>\n",
       "      <td>8.106601</td>\n",
       "      <td>8.101411</td>\n",
       "    </tr>\n",
       "    <tr>\n",
       "      <th>11</th>\n",
       "      <td>3500.054</td>\n",
       "      <td>8.160534</td>\n",
       "      <td>0.017679</td>\n",
       "      <td>0.072947</td>\n",
       "      <td>8.129158</td>\n",
       "      <td>8.110127</td>\n",
       "      <td>8.117367</td>\n",
       "    </tr>\n",
       "    <tr>\n",
       "      <th>12</th>\n",
       "      <td>3531.683</td>\n",
       "      <td>8.169530</td>\n",
       "      <td>0.008996</td>\n",
       "      <td>0.065111</td>\n",
       "      <td>8.150737</td>\n",
       "      <td>8.131553</td>\n",
       "      <td>8.138946</td>\n",
       "    </tr>\n",
       "    <tr>\n",
       "      <th>...</th>\n",
       "      <td>...</td>\n",
       "      <td>...</td>\n",
       "      <td>...</td>\n",
       "      <td>...</td>\n",
       "      <td>...</td>\n",
       "      <td>...</td>\n",
       "      <td>...</td>\n",
       "    </tr>\n",
       "    <tr>\n",
       "      <th>238</th>\n",
       "      <td>18813.923</td>\n",
       "      <td>9.842352</td>\n",
       "      <td>0.003278</td>\n",
       "      <td>0.024454</td>\n",
       "      <td>9.860777</td>\n",
       "      <td>9.847336</td>\n",
       "      <td>9.848987</td>\n",
       "    </tr>\n",
       "    <tr>\n",
       "      <th>239</th>\n",
       "      <td>18950.347</td>\n",
       "      <td>9.849578</td>\n",
       "      <td>0.007225</td>\n",
       "      <td>0.022405</td>\n",
       "      <td>9.869939</td>\n",
       "      <td>9.857360</td>\n",
       "      <td>9.858149</td>\n",
       "    </tr>\n",
       "    <tr>\n",
       "      <th>240</th>\n",
       "      <td>19020.599</td>\n",
       "      <td>9.853278</td>\n",
       "      <td>0.003700</td>\n",
       "      <td>0.019441</td>\n",
       "      <td>9.875378</td>\n",
       "      <td>9.864521</td>\n",
       "      <td>9.863587</td>\n",
       "    </tr>\n",
       "    <tr>\n",
       "      <th>241</th>\n",
       "      <td>19141.744</td>\n",
       "      <td>9.859627</td>\n",
       "      <td>0.006349</td>\n",
       "      <td>0.020552</td>\n",
       "      <td>9.879946</td>\n",
       "      <td>9.869341</td>\n",
       "      <td>9.868155</td>\n",
       "    </tr>\n",
       "    <tr>\n",
       "      <th>242</th>\n",
       "      <td>19253.959</td>\n",
       "      <td>9.865472</td>\n",
       "      <td>0.005845</td>\n",
       "      <td>0.023120</td>\n",
       "      <td>9.882303</td>\n",
       "      <td>9.871331</td>\n",
       "      <td>9.870512</td>\n",
       "    </tr>\n",
       "  </tbody>\n",
       "</table>\n",
       "<p>235 rows × 7 columns</p>\n",
       "</div>"
      ],
      "text/plain": [
       "         level       log   log_dif    4_ldif  ar_4step_pred  direct_pred  \\\n",
       "8     3309.059  8.104419  0.016832  0.015523       8.124766     8.117032   \n",
       "9     3372.581  8.123434  0.019014  0.029657       8.134480     8.122774   \n",
       "10    3438.721  8.142855  0.019421  0.061996       8.113202     8.106601   \n",
       "11    3500.054  8.160534  0.017679  0.072947       8.129158     8.110127   \n",
       "12    3531.683  8.169530  0.008996  0.065111       8.150737     8.131553   \n",
       "..         ...       ...       ...       ...            ...          ...   \n",
       "238  18813.923  9.842352  0.003278  0.024454       9.860777     9.847336   \n",
       "239  18950.347  9.849578  0.007225  0.022405       9.869939     9.857360   \n",
       "240  19020.599  9.853278  0.003700  0.019441       9.875378     9.864521   \n",
       "241  19141.744  9.859627  0.006349  0.020552       9.879946     9.869341   \n",
       "242  19253.959  9.865472  0.005845  0.023120       9.882303     9.871331   \n",
       "\n",
       "     indirect_debias  \n",
       "8           8.112975  \n",
       "9           8.122689  \n",
       "10          8.101411  \n",
       "11          8.117367  \n",
       "12          8.138946  \n",
       "..               ...  \n",
       "238         9.848987  \n",
       "239         9.858149  \n",
       "240         9.863587  \n",
       "241         9.868155  \n",
       "242         9.870512  \n",
       "\n",
       "[235 rows x 7 columns]"
      ]
     },
     "execution_count": 14,
     "metadata": {},
     "output_type": "execute_result"
    }
   ],
   "source": [
    "ts = ts.dropna()\n",
    "ts['indirect_debias'] = ts['ar_4step_pred'] + (ts['log'] - ts['ar_4step_pred'] ).mean()\n",
    "ts"
   ]
  },
  {
   "cell_type": "code",
   "execution_count": 15,
   "metadata": {},
   "outputs": [
    {
     "data": {
      "text/plain": [
       "Text(0.5, 1.0, 'Residuals values')"
      ]
     },
     "execution_count": 15,
     "metadata": {},
     "output_type": "execute_result"
    },
    {
     "data": {
      "image/png": "[encoded data removed]",
      "text/plain": [
       "<Figure size 1152x288 with 2 Axes>"
      ]
     },
     "metadata": {
      "needs_background": "light"
     },
     "output_type": "display_data"
    }
   ],
   "source": [
    "plot_ts = ts.copy()\n",
    "plot_ts['date']= data.loc[8:]['observation_date']\n",
    "plot_ts = plot_ts.set_index('date')\n",
    "fig, [axa,axb] = plt.subplots(1,2, figsize = (16,4))\n",
    "\n",
    "plot_ts[['log','ar_4step_pred','direct_pred']].plot(ax = axa, linewidth = 1.75, color = ['black','red','blue'])\n",
    "axa.legend(['log GDP','Model A', 'Model B'])\n",
    "axa.set_title('Fitted values')\n",
    "\n",
    "plot_ts[['ar_4step_pred','direct_pred']].subtract(plot_ts['log'],axis= 0).plot(ax = axb, color = ['red','blue'] )\n",
    "axb.legend(['Model A', 'Model B'])\n",
    "axb.set_title('Residuals values')"
   ]
  },
  {
   "cell_type": "markdown",
   "metadata": {},
   "source": [
    "# Compare Forecasts"
   ]
  },
  {
   "cell_type": "markdown",
   "metadata": {},
   "source": [
    "# KS test for PITS"
   ]
  },
  {
   "cell_type": "code",
   "execution_count": 16,
   "metadata": {},
   "outputs": [
    {
     "name": "stdout",
     "output_type": "stream",
     "text": [
      "KstestResult(statistic=0.2453700574044328, pvalue=6.04686915389251e-13)\n",
      "KstestResult(statistic=0.07977645765435473, pvalue=0.09509883795472995)\n",
      "KstestResult(statistic=0.07343181685176672, pvalue=0.1508795932035305)\n"
     ]
    }
   ],
   "source": [
    "indirect_pits = []\n",
    "direct_pits = []\n",
    "indirect_debias_pits = []\n",
    "\n",
    "for time in ts.index:\n",
    "    actual = ts.loc[time,'log']\n",
    "    \n",
    "    ar_mean = ts.loc[time,'ar_4step_pred']\n",
    "    ar_std = np.sqrt(year_var)\n",
    "    \n",
    "    direct_mean = ts.loc[time,'direct_pred']\n",
    "    direct_std = np.sqrt(direct_sigsq )\n",
    "    \n",
    "    indirect_bias = ts.loc[time,'indirect_debias']\n",
    "    \n",
    "    indirect_pits.append(scipy.stats.norm.cdf(actual, loc=ar_mean, scale=ar_std) )\n",
    "    direct_pits.append(scipy.stats.norm.cdf(actual, loc=direct_mean, scale=direct_std) )\n",
    "    indirect_debias_pits.append(scipy.stats.norm.cdf(actual, loc=indirect_bias, scale=ar_std) )\n",
    "    \n",
    "print(stats.kstest(indirect_pits, 'uniform'))\n",
    "print(stats.kstest(direct_pits, 'uniform'))\n",
    "print(stats.kstest(indirect_debias_pits, 'uniform'))"
   ]
  },
  {
   "cell_type": "markdown",
   "metadata": {},
   "source": [
    "# KL Divergence"
   ]
  },
  {
   "cell_type": "code",
   "execution_count": 17,
   "metadata": {},
   "outputs": [
    {
     "name": "stdout",
     "output_type": "stream",
     "text": [
      "535.6129990763199\n",
      "572.190152246374\n",
      "576.1446116896918\n"
     ]
    }
   ],
   "source": [
    "indirect_kl = 0\n",
    "direct_kl = 0\n",
    "indirect_debias_kl = 0\n",
    "\n",
    "\n",
    "for time in ts.index:\n",
    "    actual = ts.loc[time,'log']\n",
    "    ar_mean = ts.loc[time,'ar_4step_pred']\n",
    "    ar_std = np.sqrt(year_var)\n",
    "    \n",
    "    direct_mean = ts.loc[time,'direct_pred']\n",
    "    direct_std = np.sqrt(direct_sigsq )\n",
    "    \n",
    "    indirect_bias = ts.loc[time,'indirect_debias']\n",
    "\n",
    "    indirect_kl = indirect_kl + scipy.stats.norm.logpdf(actual, loc=ar_mean, scale=ar_std)\n",
    "    direct_kl = direct_kl + scipy.stats.norm.logpdf(actual, loc=direct_mean, scale=direct_std)\n",
    "    indirect_debias_kl = indirect_debias_kl + scipy.stats.norm.logpdf(actual, loc=indirect_bias, scale=ar_std)\n",
    "\n",
    "    \n",
    "print(indirect_kl)\n",
    "print(direct_kl)\n",
    "print(indirect_debias_kl)"
   ]
  },
  {
   "cell_type": "markdown",
   "metadata": {},
   "source": [
    "# Coverage of all confidence intervals"
   ]
  },
  {
   "cell_type": "code",
   "execution_count": 18,
   "metadata": {},
   "outputs": [],
   "source": [
    "coverage_df = pd.DataFrame(columns = ['prob','indirect_ar_pct', 'direct_pct','indirect_debias_pct']).set_index('prob')\n",
    "prob_list = np.linspace(.05,.95,21)\n",
    "\n",
    "for prob in prob_list:\n",
    "    coverage_df.loc[prob] = 0.0\n",
    "\n",
    "for time in ts.index:\n",
    "    actual = ts.loc[time,'log']\n",
    "    ar_mean = ts.loc[time,'ar_4step_pred']\n",
    "    ar_std = np.sqrt(year_var)\n",
    "    \n",
    "    direct_mean = ts.loc[time,'direct_pred']\n",
    "    direct_std = np.sqrt(direct_sigsq )\n",
    "    \n",
    "    indirect_bias = ts.loc[time,'indirect_debias']\n",
    "\n",
    "    for prob in prob_list:\n",
    "        ar_ci = scipy.stats.norm.interval(prob, loc=ar_mean, scale=ar_std)\n",
    "        direct_ci = scipy.stats.norm.interval(prob, loc=direct_mean, scale= direct_std)\n",
    "        ar_debias_ci = scipy.stats.norm.interval(prob, loc=indirect_bias, scale=ar_std)\n",
    "        \n",
    "        \n",
    "        coverage_df.loc[prob] = coverage_df.loc[prob] + [1*(actual > ar_ci[0])*(actual<ar_ci[1]),\n",
    "                                                           1*(actual > direct_ci[0])*(actual<direct_ci[1]),\n",
    "                                                        1*(actual > ar_debias_ci[0])*(actual<ar_debias_ci[1])]\n",
    "        \n",
    "coverage_df = coverage_df.div(len(ts))\n",
    "coverage_df['theoretical'] = prob_list"
   ]
  },
  {
   "cell_type": "code",
   "execution_count": 19,
   "metadata": {},
   "outputs": [
    {
     "data": {
      "text/plain": [
       "Text(0.5, 1.0, 'Scaled empirical Coverage Curve')"
      ]
     },
     "execution_count": 19,
     "metadata": {},
     "output_type": "execute_result"
    },
    {
     "data": {
      "image/png": "[encoded data removed]",
      "text/plain": [
       "<Figure size 1152x288 with 2 Axes>"
      ]
     },
     "metadata": {
      "needs_background": "light"
     },
     "output_type": "display_data"
    }
   ],
   "source": [
    "prob_list = coverage_df.index.values\n",
    "\n",
    "fig, [axa,axb] = plt.subplots(1,2, figsize = (16,4))\n",
    "coverage_df.plot(ax = axa, color =  ['red','blue','black'] )\n",
    "axa.legend(['Model A', 'Model B', 'Theoretical'])\n",
    "axa.set_title('Empirical coverage curve')\n",
    "\n",
    "coverage_df[['indirect_ar_pct','direct_pct']].subtract(prob_list, axis = 0).div(np.sqrt(prob_list*(1-prob_list)), axis = 0).multiply(np.sqrt(len(ts))).plot(ax = axb,color = ['red','blue'] )\n",
    "axb.legend(['Model A', 'Model B'])\n",
    "axb.set_title('Scaled empirical Coverage Curve')"
   ]
  },
  {
   "cell_type": "code",
   "execution_count": 20,
   "metadata": {},
   "outputs": [
    {
     "name": "stdout",
     "output_type": "stream",
     "text": [
      "0.025620303304662757\n",
      "0.08608657763693978\n"
     ]
    }
   ],
   "source": [
    "print(np.square(coverage_df['indirect_ar_pct'] - coverage_df['theoretical']).sum())\n",
    "print(np.square(coverage_df['direct_pct'] - coverage_df['theoretical']).sum())"
   ]
  },
  {
   "cell_type": "markdown",
   "metadata": {},
   "source": [
    "# Interval forecast scores"
   ]
  },
  {
   "cell_type": "code",
   "execution_count": 21,
   "metadata": {},
   "outputs": [],
   "source": [
    "def score(x,lower,upper,prob):\n",
    "    return (upper-lower) + (2/(1-prob))*(max(x-upper,0) + max(lower-x,0))"
   ]
  },
  {
   "cell_type": "code",
   "execution_count": 22,
   "metadata": {},
   "outputs": [],
   "source": [
    "score_df = pd.DataFrame(columns = ['prob','indirect_ar_pct', 'direct_pct','indirect_debias_pct']).set_index('prob')\n",
    "prob_list = np.linspace(.05,.95,21)\n",
    "\n",
    "for prob in prob_list:\n",
    "    score_df.loc[prob] = 0.0\n",
    "\n",
    "for time in ts.index:\n",
    "    actual = ts.loc[time,'log']\n",
    "    ar_mean = ts.loc[time,'ar_4step_pred']\n",
    "    ar_std = np.sqrt(year_var)\n",
    "    \n",
    "    direct_mean = ts.loc[time,'direct_pred']\n",
    "    direct_std = np.sqrt(direct_sigsq )\n",
    "\n",
    "    indirect_bias = ts.loc[time,'indirect_debias']\n",
    "\n",
    "    for prob in prob_list:\n",
    "        ar_ci = scipy.stats.norm.interval(prob, loc=ar_mean, scale=ar_std)\n",
    "        direct_ci = scipy.stats.norm.interval(prob, loc=direct_mean, scale= direct_std)\n",
    "        ar_debias_ci = scipy.stats.norm.interval(prob, loc=indirect_bias, scale=ar_std)\n",
    "\n",
    "        \n",
    "        score_df.loc[prob] = score_df.loc[prob] + [score(actual, ar_ci[0],ar_ci[1], prob),\n",
    "                                                   score(actual, direct_ci[0], direct_ci[1], prob),\n",
    "                                                  score(actual, ar_debias_ci[0],ar_debias_ci[1], prob)]\n",
    "        \n",
    "score_df = score_df.div(len(ts))"
   ]
  },
  {
   "cell_type": "code",
   "execution_count": 23,
   "metadata": {},
   "outputs": [
    {
     "data": {
      "text/plain": [
       "Text(0.5, 1.0, 'Interval forecast scores')"
      ]
     },
     "execution_count": 23,
     "metadata": {},
     "output_type": "execute_result"
    },
    {
     "data": {
      "image/png": "[encoded data removed]",
      "text/plain": [
       "<Figure size 864x432 with 1 Axes>"
      ]
     },
     "metadata": {
      "needs_background": "light"
     },
     "output_type": "display_data"
    }
   ],
   "source": [
    "fig, ax = plt.subplots(figsize = (12,6))\n",
    "score_df.plot(ax = ax)\n",
    "\n",
    "ax.legend(['Model A','Model B'])\n",
    "ax.set_title('Interval forecast scores')"
   ]
  },
  {
   "cell_type": "code",
   "execution_count": 24,
   "metadata": {},
   "outputs": [
    {
     "name": "stdout",
     "output_type": "stream",
     "text": [
      "0.020075390247473023 0.0211992336850016\n"
     ]
    }
   ],
   "source": [
    "print( ar_std, direct_std)"
   ]
  },
  {
   "cell_type": "code",
   "execution_count": 25,
   "metadata": {},
   "outputs": [],
   "source": [
    "miss_df = pd.DataFrame(columns = ['prob','indirect_miss','indirect_length', 'direct', 'direct_length']).set_index('prob')\n",
    "prob_list = np.linspace(.05,.95,21)\n",
    "\n",
    "for prob in prob_list:\n",
    "    miss_df.loc[prob] = 0.0\n",
    "\n",
    "for time in ts.index:\n",
    "    actual = ts.loc[time,'log']\n",
    "    ar_mean = ts.loc[time,'ar_4step_pred']\n",
    "    ar_std = np.sqrt(year_var)\n",
    "    \n",
    "    direct_mean = ts.loc[time,'direct_pred']\n",
    "    direct_std = np.sqrt(direct_sigsq )\n",
    "\n",
    "    for prob in prob_list:\n",
    "        ar_ci = scipy.stats.norm.interval(prob, loc=ar_mean, scale=ar_std)\n",
    "        direct_ci = scipy.stats.norm.interval(prob, loc=direct_mean, scale= direct_std)\n",
    "        \n",
    "        \n",
    "        miss_df.loc[prob] = miss_df.loc[prob] + [max(actual - ar_ci[1],0) + max(ar_ci[0]-actual,0),\n",
    "                                                 ar_ci[1]-ar_ci[0],\n",
    "                                                 max(actual - direct_ci[1],0) + max(direct_ci[0]-actual,0),\n",
    "                                                 direct_ci[1]-direct_ci[0] ]\n",
    "        \n",
    "miss_df = miss_df.div(len(ts))"
   ]
  },
  {
   "cell_type": "code",
   "execution_count": 26,
   "metadata": {},
   "outputs": [
    {
     "data": {
      "text/html": [
       "<div>\n",
       "<style scoped>\n",
       "    .dataframe tbody tr th:only-of-type {\n",
       "        vertical-align: middle;\n",
       "    }\n",
       "\n",
       "    .dataframe tbody tr th {\n",
       "        vertical-align: top;\n",
       "    }\n",
       "\n",
       "    .dataframe thead th {\n",
       "        text-align: right;\n",
       "    }\n",
       "</style>\n",
       "<table border=\"1\" class=\"dataframe\">\n",
       "  <thead>\n",
       "    <tr style=\"text-align: right;\">\n",
       "      <th></th>\n",
       "      <th>indirect_miss</th>\n",
       "      <th>indirect_length</th>\n",
       "      <th>direct</th>\n",
       "      <th>direct_length</th>\n",
       "    </tr>\n",
       "    <tr>\n",
       "      <th>prob</th>\n",
       "      <th></th>\n",
       "      <th></th>\n",
       "      <th></th>\n",
       "      <th></th>\n",
       "    </tr>\n",
       "  </thead>\n",
       "  <tbody>\n",
       "    <tr>\n",
       "      <th>0.050</th>\n",
       "      <td>0.017084</td>\n",
       "      <td>0.002518</td>\n",
       "      <td>0.014575</td>\n",
       "      <td>0.002659</td>\n",
       "    </tr>\n",
       "    <tr>\n",
       "      <th>0.095</th>\n",
       "      <td>0.016029</td>\n",
       "      <td>0.004792</td>\n",
       "      <td>0.013463</td>\n",
       "      <td>0.005060</td>\n",
       "    </tr>\n",
       "    <tr>\n",
       "      <th>0.140</th>\n",
       "      <td>0.015017</td>\n",
       "      <td>0.007082</td>\n",
       "      <td>0.012394</td>\n",
       "      <td>0.007478</td>\n",
       "    </tr>\n",
       "    <tr>\n",
       "      <th>0.185</th>\n",
       "      <td>0.014047</td>\n",
       "      <td>0.009395</td>\n",
       "      <td>0.011399</td>\n",
       "      <td>0.009920</td>\n",
       "    </tr>\n",
       "    <tr>\n",
       "      <th>0.230</th>\n",
       "      <td>0.013118</td>\n",
       "      <td>0.011739</td>\n",
       "      <td>0.010483</td>\n",
       "      <td>0.012396</td>\n",
       "    </tr>\n",
       "    <tr>\n",
       "      <th>0.275</th>\n",
       "      <td>0.012210</td>\n",
       "      <td>0.014124</td>\n",
       "      <td>0.009615</td>\n",
       "      <td>0.014915</td>\n",
       "    </tr>\n",
       "    <tr>\n",
       "      <th>0.320</th>\n",
       "      <td>0.011313</td>\n",
       "      <td>0.016561</td>\n",
       "      <td>0.008797</td>\n",
       "      <td>0.017488</td>\n",
       "    </tr>\n",
       "    <tr>\n",
       "      <th>0.365</th>\n",
       "      <td>0.010437</td>\n",
       "      <td>0.019060</td>\n",
       "      <td>0.008005</td>\n",
       "      <td>0.020127</td>\n",
       "    </tr>\n",
       "    <tr>\n",
       "      <th>0.410</th>\n",
       "      <td>0.009581</td>\n",
       "      <td>0.021635</td>\n",
       "      <td>0.007263</td>\n",
       "      <td>0.022846</td>\n",
       "    </tr>\n",
       "    <tr>\n",
       "      <th>0.455</th>\n",
       "      <td>0.008786</td>\n",
       "      <td>0.024302</td>\n",
       "      <td>0.006563</td>\n",
       "      <td>0.025662</td>\n",
       "    </tr>\n",
       "    <tr>\n",
       "      <th>0.500</th>\n",
       "      <td>0.008008</td>\n",
       "      <td>0.027081</td>\n",
       "      <td>0.005952</td>\n",
       "      <td>0.028597</td>\n",
       "    </tr>\n",
       "    <tr>\n",
       "      <th>0.545</th>\n",
       "      <td>0.007238</td>\n",
       "      <td>0.029997</td>\n",
       "      <td>0.005411</td>\n",
       "      <td>0.031676</td>\n",
       "    </tr>\n",
       "    <tr>\n",
       "      <th>0.590</th>\n",
       "      <td>0.006493</td>\n",
       "      <td>0.033080</td>\n",
       "      <td>0.004910</td>\n",
       "      <td>0.034932</td>\n",
       "    </tr>\n",
       "    <tr>\n",
       "      <th>0.635</th>\n",
       "      <td>0.005786</td>\n",
       "      <td>0.036372</td>\n",
       "      <td>0.004413</td>\n",
       "      <td>0.038408</td>\n",
       "    </tr>\n",
       "    <tr>\n",
       "      <th>0.680</th>\n",
       "      <td>0.005129</td>\n",
       "      <td>0.039928</td>\n",
       "      <td>0.003907</td>\n",
       "      <td>0.042163</td>\n",
       "    </tr>\n",
       "    <tr>\n",
       "      <th>0.725</th>\n",
       "      <td>0.004514</td>\n",
       "      <td>0.043829</td>\n",
       "      <td>0.003395</td>\n",
       "      <td>0.046283</td>\n",
       "    </tr>\n",
       "    <tr>\n",
       "      <th>0.770</th>\n",
       "      <td>0.003898</td>\n",
       "      <td>0.048195</td>\n",
       "      <td>0.002888</td>\n",
       "      <td>0.050893</td>\n",
       "    </tr>\n",
       "    <tr>\n",
       "      <th>0.815</th>\n",
       "      <td>0.003283</td>\n",
       "      <td>0.053221</td>\n",
       "      <td>0.002364</td>\n",
       "      <td>0.056200</td>\n",
       "    </tr>\n",
       "    <tr>\n",
       "      <th>0.860</th>\n",
       "      <td>0.002701</td>\n",
       "      <td>0.059254</td>\n",
       "      <td>0.001869</td>\n",
       "      <td>0.062571</td>\n",
       "    </tr>\n",
       "    <tr>\n",
       "      <th>0.905</th>\n",
       "      <td>0.002112</td>\n",
       "      <td>0.067035</td>\n",
       "      <td>0.001332</td>\n",
       "      <td>0.070788</td>\n",
       "    </tr>\n",
       "    <tr>\n",
       "      <th>0.950</th>\n",
       "      <td>0.001410</td>\n",
       "      <td>0.078694</td>\n",
       "      <td>0.000716</td>\n",
       "      <td>0.083099</td>\n",
       "    </tr>\n",
       "  </tbody>\n",
       "</table>\n",
       "</div>"
      ],
      "text/plain": [
       "       indirect_miss  indirect_length    direct  direct_length\n",
       "prob                                                          \n",
       "0.050       0.017084         0.002518  0.014575       0.002659\n",
       "0.095       0.016029         0.004792  0.013463       0.005060\n",
       "0.140       0.015017         0.007082  0.012394       0.007478\n",
       "0.185       0.014047         0.009395  0.011399       0.009920\n",
       "0.230       0.013118         0.011739  0.010483       0.012396\n",
       "0.275       0.012210         0.014124  0.009615       0.014915\n",
       "0.320       0.011313         0.016561  0.008797       0.017488\n",
       "0.365       0.010437         0.019060  0.008005       0.020127\n",
       "0.410       0.009581         0.021635  0.007263       0.022846\n",
       "0.455       0.008786         0.024302  0.006563       0.025662\n",
       "0.500       0.008008         0.027081  0.005952       0.028597\n",
       "0.545       0.007238         0.029997  0.005411       0.031676\n",
       "0.590       0.006493         0.033080  0.004910       0.034932\n",
       "0.635       0.005786         0.036372  0.004413       0.038408\n",
       "0.680       0.005129         0.039928  0.003907       0.042163\n",
       "0.725       0.004514         0.043829  0.003395       0.046283\n",
       "0.770       0.003898         0.048195  0.002888       0.050893\n",
       "0.815       0.003283         0.053221  0.002364       0.056200\n",
       "0.860       0.002701         0.059254  0.001869       0.062571\n",
       "0.905       0.002112         0.067035  0.001332       0.070788\n",
       "0.950       0.001410         0.078694  0.000716       0.083099"
      ]
     },
     "execution_count": 26,
     "metadata": {},
     "output_type": "execute_result"
    }
   ],
   "source": [
    "miss_df"
   ]
  },
  {
   "cell_type": "code",
   "execution_count": 27,
   "metadata": {},
   "outputs": [
    {
     "data": {
      "text/plain": [
       "Text(0.5, 1.0, 'Aveage length of interval')"
      ]
     },
     "execution_count": 27,
     "metadata": {},
     "output_type": "execute_result"
    },
    {
     "data": {
      "image/png": "[encoded data removed]",
      "text/plain": [
       "<Figure size 1152x288 with 2 Axes>"
      ]
     },
     "metadata": {
      "needs_background": "light"
     },
     "output_type": "display_data"
    }
   ],
   "source": [
    "prob_list = coverage_df.index.values\n",
    "\n",
    "fig, [axa,axb] = plt.subplots(1,2, figsize = (16,4))\n",
    "miss_df[['indirect_miss','direct']].plot(ax = axa, color =  ['red','blue'] )\n",
    "axa.legend(['Model A', 'Model B'])\n",
    "axa.set_title('Average absolute distance of actual from interval')\n",
    "\n",
    "miss_df[['indirect_length','direct_length']].plot(ax = axb, color =  ['red','blue'] )\n",
    "axb.legend(['Model A', 'Model B'])\n",
    "axb.set_title('Aveage length of interval')"
   ]
  },
  {
   "cell_type": "markdown",
   "metadata": {},
   "source": [
    "# Transition Matrix testing:"
   ]
  },
  {
   "cell_type": "code",
   "execution_count": 46,
   "metadata": {},
   "outputs": [
    {
     "name": "stderr",
     "output_type": "stream",
     "text": [
      "<ipython-input-46-b0e6ec837307>:1: SettingWithCopyWarning: \n",
      "A value is trying to be set on a copy of a slice from a DataFrame.\n",
      "Try using .loc[row_indexer,col_indexer] = value instead\n",
      "\n",
      "See the caveats in the documentation: https://pandas.pydata.org/pandas-docs/stable/user_guide/indexing.html#returning-a-view-versus-a-copy\n",
      "  ts['indirect_ci_markov'] = 0\n",
      "<ipython-input-46-b0e6ec837307>:2: SettingWithCopyWarning: \n",
      "A value is trying to be set on a copy of a slice from a DataFrame.\n",
      "Try using .loc[row_indexer,col_indexer] = value instead\n",
      "\n",
      "See the caveats in the documentation: https://pandas.pydata.org/pandas-docs/stable/user_guide/indexing.html#returning-a-view-versus-a-copy\n",
      "  ts['direct_ci_markov'] = 0\n",
      "C:\\Users\\michelj8\\Anaconda3\\lib\\site-packages\\pandas\\core\\indexing.py:966: SettingWithCopyWarning: \n",
      "A value is trying to be set on a copy of a slice from a DataFrame.\n",
      "Try using .loc[row_indexer,col_indexer] = value instead\n",
      "\n",
      "See the caveats in the documentation: https://pandas.pydata.org/pandas-docs/stable/user_guide/indexing.html#returning-a-view-versus-a-copy\n",
      "  self.obj[item] = s\n"
     ]
    }
   ],
   "source": [
    "ts['indirect_ci_markov'] = 0\n",
    "ts['direct_ci_markov'] = 0\n",
    "\n",
    "for time in ts.index:\n",
    "    actual = ts.loc[time,'log']\n",
    "    ar_mean = ts.loc[time,'ar_4step_pred']\n",
    "    ar_std = np.sqrt(year_var)\n",
    "    \n",
    "    direct_mean = ts.loc[time,'direct_pred']\n",
    "    direct_std = np.sqrt(direct_sigsq )\n",
    "            \n",
    "    for prob in test_probs:\n",
    "        ar_ci = scipy.stats.norm.interval(prob, loc=ar_mean, scale=ar_std)\n",
    "        direct_ci = scipy.stats.norm.interval(prob, loc=direct_mean, scale= direct_std)\n",
    "        \n",
    "        ts.loc[time, 'indirect_ci_markov'] = ts.loc[time, 'indirect_ci_markov'] + 1*(actual > ar_ci[0])*(actual<ar_ci[1])\n",
    "        ts.loc[time, 'direct_ci_markov'] = ts.loc[time, 'direct_ci_markov'] + 1*(actual > direct_ci[0])*(actual<direct_ci[1])"
   ]
  },
  {
   "cell_type": "code",
   "execution_count": 62,
   "metadata": {},
   "outputs": [
    {
     "data": {
      "text/html": [
       "<div>\n",
       "<style scoped>\n",
       "    .dataframe tbody tr th:only-of-type {\n",
       "        vertical-align: middle;\n",
       "    }\n",
       "\n",
       "    .dataframe tbody tr th {\n",
       "        vertical-align: top;\n",
       "    }\n",
       "\n",
       "    .dataframe thead th {\n",
       "        text-align: right;\n",
       "    }\n",
       "</style>\n",
       "<table border=\"1\" class=\"dataframe\">\n",
       "  <thead>\n",
       "    <tr style=\"text-align: right;\">\n",
       "      <th></th>\n",
       "      <th>0</th>\n",
       "      <th>1</th>\n",
       "      <th>2</th>\n",
       "      <th>3</th>\n",
       "    </tr>\n",
       "  </thead>\n",
       "  <tbody>\n",
       "    <tr>\n",
       "      <th>0</th>\n",
       "      <td>19</td>\n",
       "      <td>5</td>\n",
       "      <td>4</td>\n",
       "      <td>1</td>\n",
       "    </tr>\n",
       "    <tr>\n",
       "      <th>1</th>\n",
       "      <td>4</td>\n",
       "      <td>7</td>\n",
       "      <td>5</td>\n",
       "      <td>6</td>\n",
       "    </tr>\n",
       "    <tr>\n",
       "      <th>2</th>\n",
       "      <td>2</td>\n",
       "      <td>6</td>\n",
       "      <td>10</td>\n",
       "      <td>20</td>\n",
       "    </tr>\n",
       "    <tr>\n",
       "      <th>3</th>\n",
       "      <td>4</td>\n",
       "      <td>4</td>\n",
       "      <td>19</td>\n",
       "      <td>111</td>\n",
       "    </tr>\n",
       "  </tbody>\n",
       "</table>\n",
       "</div>"
      ],
      "text/plain": [
       "    0  1   2    3\n",
       "0  19  5   4    1\n",
       "1   4  7   5    6\n",
       "2   2  6  10   20\n",
       "3   4  4  19  111"
      ]
     },
     "execution_count": 62,
     "metadata": {},
     "output_type": "execute_result"
    }
   ],
   "source": [
    "direct_table = pd.DataFrame( columns = range(0,4))\n",
    "for index in range(0,4):\n",
    "    direct_table.loc[index]=0\n",
    "\n",
    "for time in range(ts.index.min(), len(ts)):\n",
    "    val = ts.loc[time,'direct_ci_markov']\n",
    "    new_val = ts.loc[time+1,'direct_ci_markov']\n",
    "    \n",
    "    direct_table.loc[val,new_val] = direct_table.loc[val,new_val] +1\n",
    "    \n",
    "direct_table"
   ]
  },
  {
   "cell_type": "code",
   "execution_count": 63,
   "metadata": {},
   "outputs": [
    {
     "data": {
      "text/html": [
       "<div>\n",
       "<style scoped>\n",
       "    .dataframe tbody tr th:only-of-type {\n",
       "        vertical-align: middle;\n",
       "    }\n",
       "\n",
       "    .dataframe tbody tr th {\n",
       "        vertical-align: top;\n",
       "    }\n",
       "\n",
       "    .dataframe thead th {\n",
       "        text-align: right;\n",
       "    }\n",
       "</style>\n",
       "<table border=\"1\" class=\"dataframe\">\n",
       "  <thead>\n",
       "    <tr style=\"text-align: right;\">\n",
       "      <th></th>\n",
       "      <th>0</th>\n",
       "      <th>1</th>\n",
       "      <th>2</th>\n",
       "      <th>3</th>\n",
       "    </tr>\n",
       "  </thead>\n",
       "  <tbody>\n",
       "    <tr>\n",
       "      <th>0</th>\n",
       "      <td>24</td>\n",
       "      <td>6</td>\n",
       "      <td>2</td>\n",
       "      <td>1</td>\n",
       "    </tr>\n",
       "    <tr>\n",
       "      <th>1</th>\n",
       "      <td>3</td>\n",
       "      <td>14</td>\n",
       "      <td>10</td>\n",
       "      <td>6</td>\n",
       "    </tr>\n",
       "    <tr>\n",
       "      <th>2</th>\n",
       "      <td>4</td>\n",
       "      <td>7</td>\n",
       "      <td>22</td>\n",
       "      <td>23</td>\n",
       "    </tr>\n",
       "    <tr>\n",
       "      <th>3</th>\n",
       "      <td>2</td>\n",
       "      <td>6</td>\n",
       "      <td>21</td>\n",
       "      <td>76</td>\n",
       "    </tr>\n",
       "  </tbody>\n",
       "</table>\n",
       "</div>"
      ],
      "text/plain": [
       "    0   1   2   3\n",
       "0  24   6   2   1\n",
       "1   3  14  10   6\n",
       "2   4   7  22  23\n",
       "3   2   6  21  76"
      ]
     },
     "execution_count": 63,
     "metadata": {},
     "output_type": "execute_result"
    }
   ],
   "source": [
    "indirect_table = pd.DataFrame( columns = range(0,4))\n",
    "for index in range(0,4):\n",
    "    indirect_table.loc[index]=0\n",
    "\n",
    "for time in range(ts.index.min(), len(ts)):\n",
    "    val = ts.loc[time,'indirect_ci_markov']\n",
    "    new_val = ts.loc[time+1,'indirect_ci_markov']\n",
    "    \n",
    "    indirect_table.loc[val,new_val] = indirect_table.loc[val,new_val] +1\n",
    "    \n",
    "indirect_table"
   ]
  },
  {
   "cell_type": "code",
   "execution_count": null,
   "metadata": {},
   "outputs": [],
   "source": []
  }
 ],
 "metadata": {
  "kernelspec": {
   "display_name": "Python 3",
   "language": "python",
   "name": "python3"
  },
  "language_info": {
   "codemirror_mode": {
    "name": "ipython",
    "version": 3
   },
   "file_extension": ".py",
   "mimetype": "text/x-python",
   "name": "python",
   "nbconvert_exporter": "python",
   "pygments_lexer": "ipython3",
   "version": "3.8.3"
  }
 },
 "nbformat": 4,
 "nbformat_minor": 4
}
